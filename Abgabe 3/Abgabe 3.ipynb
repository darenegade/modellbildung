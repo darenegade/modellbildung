{
 "cells": [
  {
   "cell_type": "markdown",
   "metadata": {},
   "source": [
    "# Abgabe 3: Schwingungen\n",
    "\n",
    "**Teammitglieder:** René Zarwel, Matthias Kastenmüller\n",
    "\n",
    "<br>\n",
    "\n",
    "Importieren allgemein benötigter Bibliotheken:"
   ]
  },
  {
   "cell_type": "code",
   "execution_count": 1,
   "metadata": {},
   "outputs": [
    {
     "data": {
      "application/javascript": [
       "require.undef(\"nbextensions/vpython_libraries/glow.min\");"
      ],
      "text/plain": [
       "<IPython.core.display.Javascript object>"
      ]
     },
     "metadata": {},
     "output_type": "display_data"
    },
    {
     "data": {
      "application/javascript": [
       "require.undef(\"nbextensions/vpython_libraries/glowcomm\");"
      ],
      "text/plain": [
       "<IPython.core.display.Javascript object>"
      ]
     },
     "metadata": {},
     "output_type": "display_data"
    },
    {
     "data": {
      "application/javascript": [
       "require.undef(\"nbextensions/vpython_libraries/jquery-ui.custom.min\");"
      ],
      "text/plain": [
       "<IPython.core.display.Javascript object>"
      ]
     },
     "metadata": {},
     "output_type": "display_data"
    },
    {
     "data": {
      "application/javascript": [
       "require([\"nbextensions/vpython_libraries/glow.min\"], function(){console.log(\"GLOW LOADED\");})"
      ],
      "text/plain": [
       "<IPython.core.display.Javascript object>"
      ]
     },
     "metadata": {},
     "output_type": "display_data"
    },
    {
     "data": {
      "application/javascript": [
       "require([\"nbextensions/vpython_libraries/glowcomm\"], function(){console.log(\"GLOWCOMM LOADED\");})"
      ],
      "text/plain": [
       "<IPython.core.display.Javascript object>"
      ]
     },
     "metadata": {},
     "output_type": "display_data"
    },
    {
     "data": {
      "application/javascript": [
       "require([\"nbextensions/vpython_libraries/jquery-ui.custom.min\"], function(){console.log(\"JQUERY LOADED\");})"
      ],
      "text/plain": [
       "<IPython.core.display.Javascript object>"
      ]
     },
     "metadata": {},
     "output_type": "display_data"
    },
    {
     "data": {
      "text/html": [
       "<div id=\"glowscript\" class=\"glowscript\"></div>"
      ],
      "text/plain": [
       "<IPython.core.display.HTML object>"
      ]
     },
     "metadata": {},
     "output_type": "display_data"
    },
    {
     "data": {
      "application/javascript": [
       "window.__context = { glowscript_container: $(\"#glowscript\").removeAttr(\"id\")}"
      ],
      "text/plain": [
       "<IPython.core.display.Javascript object>"
      ]
     },
     "metadata": {},
     "output_type": "display_data"
    }
   ],
   "source": [
    "import matplotlib.pyplot as plt\n",
    "import matplotlib.patches as mpatches\n",
    "import pylab as pylab\n",
    "import numpy.polynomial.polynomial as poly\n",
    "import numpy as np\n",
    "from scipy.integrate import odeint\n",
    "import math\n",
    "from numpy import array, polyval, polyfit\n",
    "import vpython as vp         # get VPython modules for animation\n",
    "vec=vp.vector"
   ]
  },
  {
   "cell_type": "markdown",
   "metadata": {},
   "source": [
    "## Aufgabe 1: Gedämpfte Schwingungen"
   ]
  },
  {
   "cell_type": "markdown",
   "metadata": {},
   "source": [
    "Bei einer harmonischen Schwingung wirkt lediglich die rücktreibende Kraft. Daraus ergibt sich folgenden Schwingungsgleichung:\n",
    "\n",
    "$$\n",
    "F = -k \\cdot x \\quad \\text{mit} \\quad k=\\text{Federkonstante} \\\\\n",
    "\\omega_0 = \\sqrt{\\frac{k}{m}}  \\quad \\text{- Ungedämpfte Eigenkreisfrequenz } \\\\\n",
    "\\ddot{x} + \\omega_0^2 \\cdot x = 0\n",
    "$$\n",
    "\n",
    "Bei der gedämpften Schwingung wirk zusätzlich zur rücktreibenden Kraft noch eine Reibungskraft $F_R$. So wird die Schwingungsgleichung folgendermaßen erweitert:\n",
    "\n",
    "$$\n",
    "F_R = - c \\cdot v^n \\quad\\text{mit}\\quad c=\\text{Dämpfungskonstante} \\quad\\text{und}\\quad n=\\{0,\\frac{1}{2}, 1, 2\\} \\\\\n",
    "\\gamma = \\frac{c}{2 \\cdot m} \\quad \\text{- Abklingkonstante} \\\\\n",
    "\\ddot{x} + 2 \\cdot \\gamma \\cdot \\dot{x} + \\omega_0^2 \\cdot x = 0\n",
    "$$\n",
    "\n",
    "Beim klassischen Ansatz zur Lösung dieser linearen homogenen Differentialgleichung hilft folgender Ansatz:\n",
    "\n",
    "$$\n",
    "x(t) = e^{\\lambda \\cdot t} \\\\\n",
    "(\\lambda^2 + 2 \\cdot \\gamma \\cdot \\lambda + \\omega_0^2) \\cdot e^{\\lambda \\cdot t} = 0\n",
    "$$\n",
    "\n",
    "Der Ausdruck in der Klammer ist die charakteristische Gleichung zu Bestimmung von $\\lambda$, wobei dieser Paramter durchaus komplex sein kann. Da dies eine quadratische Gleichung ist, muss eine Fallunterscheidung für die Diskriminate $\\gamma^2 - \\omega_0^2$ erfolgen:\n",
    "\n",
    "$$\n",
    "\\lambda_{1/2} = - \\gamma \\pm \\sqrt{\\gamma^2 - \\omega_0^2}\n",
    "$$\n",
    "\n",
    "\n",
    "$$\n",
    "\\text{Schwingfall: } \\quad \\gamma < \\omega_0 \\\\ \n",
    "\\text{mit} \\quad x(t) = e^{-\\gamma \\cdot t}(A \\cdot \\cos(\\omega \\cdot t) + B \\cdot \\sin(\\omega \\cdot t))\n",
    "$$\n",
    "\n",
    "\n",
    "$$\n",
    "\\text{Aperiodischer Grenzfall: } \\quad \\gamma = \\omega_0 \\\\\n",
    "\\text{mit} \\quad x(t) = c_1 \\cdot e^{\\lambda \\cdot t} + c_2 \\cdot e^{\\lambda \\cdot t}\n",
    "$$\n",
    "\n",
    "\n",
    "$$\n",
    "\\text{Kriechfall: } \\quad \\gamma > \\omega_0 \\\\\n",
    "\\text{mit} \\quad x(t) = c_1 \\cdot e^{\\lambda_1 \\cdot t} + c_2 \\cdot e^{\\lambda_2 \\cdot t}\n",
    "$$\n",
    "\n",
    "Mittels der Anfangswerte $x(0) = x_0$ und $v_0 = 0$ können folgende allgemeine Gleichung für die 3 Fälle aufgestellt werden:\n",
    "\n",
    "$$\n",
    "\\text{Schwingfall: } \\\\\n",
    "x(t) = x_0 \\cdot e^{-\\gamma \\cdot t} \\cos(\\omega_d \\cdot t) \\\\ \n",
    "\\text{mit} \\quad  \\omega_d = \\sqrt{\\omega_0^2 - \\gamma^2} \\quad \\text{und} \\quad \\phi_0 = 0\n",
    "$$\n",
    "\n",
    "\n",
    "$$\n",
    "\\text{Aperiodischer Grenzfall: }\\\\\n",
    "x(t) = ( x_0 + \\gamma \\cdot x_0 \\cdot t ) \\cdot e^{-\\gamma \\cdot t} \n",
    "$$\n",
    "\n",
    "\n",
    "$$\n",
    "\\text{Kriechfall: }\\\\\n",
    "x(t) = x_0 \\cdot \\frac{1}{2 \\cdot \\lambda}((\\lambda + \\gamma) \\cdot e^{\\lambda \\cdot t} + (\\lambda - \\gamma) \\cdot e^{-\\lambda \\cdot t} ) \\cdot e^{-\\gamma \\cdot t} \\\\\n",
    "\\text{mit} \\quad \\lambda = \\sqrt{\\gamma^2 - \\omega_0^2} \n",
    "$$"
   ]
  },
  {
   "cell_type": "code",
   "execution_count": 15,
   "metadata": {},
   "outputs": [
    {
     "data": {
      "text/plain": [
       "[<matplotlib.lines.Line2D at 0x10a5ab940>]"
      ]
     },
     "execution_count": 15,
     "metadata": {},
     "output_type": "execute_result"
    },
    {
     "data": {
      "image/png": "[encoded data removed]",
      "text/plain": [
       "<matplotlib.figure.Figure at 0x10a5ab2e8>"
      ]
     },
     "metadata": {},
     "output_type": "display_data"
    }
   ],
   "source": [
    "from math import exp as e\n",
    "\n",
    "def swing(t):\n",
    "    if(gamma < omega0):      #Schwingfall\n",
    "        w = math.sqrt(omega0**2 - gamma**2)\n",
    "        return x0 * e(-gamma * t) * math.cos(w*t)\n",
    "    elif(gamma == omega0):   #Aperiodischer Grenzfall\n",
    "        return (x0 + gamma*x0*t)*e(-gamma * t)\n",
    "    else:                    #Kriechfall\n",
    "        l = math.sqrt(gamma**2 - omega0**2)\n",
    "        return x0 * 1/(2*l) *((l+gamma)*e(l * t) + (l-gamma)*e(-l * t))*e(-gamma * t)\n",
    "\n",
    "r = np.arange(0, 5, 0.01)\n",
    "\n",
    "\n",
    "x0 = 1\n",
    "omega0 = 6\n",
    "gamma = 1\n",
    "n = 1\n",
    "plt.plot(r,[swing(x) for x in r])\n",
    "    \n",
    "x0 = 1\n",
    "omega0 = 6\n",
    "gamma = 6\n",
    "n = 1\n",
    "plt.plot(r,[swing(x) for x in r])\n",
    "\n",
    "x0 = 1\n",
    "omega0 = 6\n",
    "gamma = 12\n",
    "n = 1\n",
    "plt.plot(r,[swing(x) for x in r])\n",
    "    "
   ]
  },
  {
   "cell_type": "code",
   "execution_count": null,
   "metadata": {},
   "outputs": [],
   "source": []
  },
  {
   "cell_type": "markdown",
   "metadata": {},
   "source": [
    "## Aufgabe 2: Das nichtlineare Pendel I"
   ]
  },
  {
   "cell_type": "code",
   "execution_count": null,
   "metadata": {},
   "outputs": [],
   "source": []
  },
  {
   "cell_type": "markdown",
   "metadata": {},
   "source": [
    "## Aufgabe 3: Erzwungene Schwingung"
   ]
  },
  {
   "cell_type": "code",
   "execution_count": null,
   "metadata": {},
   "outputs": [],
   "source": []
  },
  {
   "cell_type": "markdown",
   "metadata": {},
   "source": [
    "## Aufgabe 4: Das nichtlineare Pendel II"
   ]
  },
  {
   "cell_type": "code",
   "execution_count": null,
   "metadata": {},
   "outputs": [],
   "source": []
  }
 ],
 "metadata": {
  "kernelspec": {
   "display_name": "Python 3",
   "language": "python",
   "name": "python3"
  },
  "language_info": {
   "codemirror_mode": {
    "name": "ipython",
    "version": 3
   },
   "file_extension": ".py",
   "mimetype": "text/x-python",
   "name": "python",
   "nbconvert_exporter": "python",
   "pygments_lexer": "ipython3",
   "version": "3.6.4"
  }
 },
 "nbformat": 4,
 "nbformat_minor": 2
}
