{
 "cells": [
  {
   "cell_type": "markdown",
   "metadata": {},
   "source": [
    "# Abgabe 3: Schwingungen\n",
    "\n",
    "**Teammitglieder:** René Zarwel, Matthias Kastenmüller\n",
    "\n",
    "<br>\n",
    "\n",
    "Importieren allgemein benötigter Bibliotheken:"
   ]
  },
  {
   "cell_type": "code",
   "execution_count": null,
   "metadata": {},
   "outputs": [],
   "source": [
    "import matplotlib.pyplot as plt\n",
    "import matplotlib.patches as mpatches\n",
    "import pylab as pylab\n",
    "import numpy.polynomial.polynomial as poly\n",
    "import numpy as np\n",
    "from scipy.integrate import odeint\n",
    "import math\n",
    "from numpy import array, polyval, polyfit\n",
    "import vpython as vp         # get VPython modules for animation\n",
    "vec=vp.vector"
   ]
  },
  {
   "cell_type": "markdown",
   "metadata": {},
   "source": [
    "## Aufgabe 1: Gedämpfte Schwingungen"
   ]
  },
  {
   "cell_type": "markdown",
   "metadata": {},
   "source": [
    "Bei einer harmonischen Schwingung wirkt lediglich die rücktreibende Kraft. Daraus ergibt sich folgenden Schwingungsgleichung:\n",
    "\n",
    "$$\n",
    "F = -k \\cdot x \\quad \\text{mit} \\quad k=\\text{Federkonstante} \\\\\n",
    "\\omega_0 = \\sqrt{\\frac{k}{m}}  \\quad \\text{- Ungedämpfte Eigenkreisfrequenz } \\\\\n",
    "\\ddot{x} + \\omega_0^2 \\cdot x = 0\n",
    "$$\n",
    "\n",
    "Bei der gedämpften Schwingung wirk zusätzlich zur rücktreibenden Kraft noch eine Reibungskraft $F_R$. So wird die Schwingungsgleichung folgendermaßen erweitert:\n",
    "\n",
    "$$\n",
    "F_R = - c \\cdot v^n \\quad\\text{mit}\\quad c=\\text{Dämpfungskonstante} \\quad\\text{und}\\quad n=\\{0,\\frac{1}{2}, 1, 2\\} \\\\\n",
    "\\gamma = \\frac{c}{2 \\cdot m} \\quad \\text{- Abklingkonstante} \\\\\n",
    "\\ddot{x} + 2 \\cdot \\gamma \\cdot \\dot{x}^n + \\omega_0^2 \\cdot x = 0\n",
    "$$"
   ]
  },
  {
   "cell_type": "code",
   "execution_count": null,
   "metadata": {},
   "outputs": [],
   "source": [
    "x0 = [1, 0]          # Anfangsbedingungen [x, v]\n",
    "t = np.linspace(0,10,500)  # 400 Zeitschritte von 0 bis 10s\n",
    "\n",
    "#Own Sign Func cause np.sign is unstable with odeint\n",
    "sgn = lambda x: np.tanh(100*x)\n",
    "\n",
    "def swing(x,t):\n",
    "    return[ x[1], -2*gamma*sgn(x[1])*abs(x[1])**n-(omega0**2)*x[0] ]\n",
    "\n",
    "omega0 = 6                  \n",
    "gamma = 1\n",
    "\n",
    "n=0\n",
    "x = odeint(func=swing, y0=x0, t=t)\n",
    "plt.plot(t, x[:,0], label=\"n=0\")\n",
    "\n",
    "n=1/2\n",
    "x = odeint(func=swing, y0=x0, t=t)\n",
    "plt.plot(t, x[:,0], label=\"n=1/2\")\n",
    "\n",
    "n=1\n",
    "x = odeint(func=swing, y0=x0, t=t)\n",
    "plt.plot(t, x[:,0], label=\"n=1\")\n",
    "\n",
    "n=2\n",
    "x = odeint(func=swing, y0=x0, t=t)\n",
    "plt.plot(t, x[:,0], label=\"n=2\")\n",
    "\n",
    "plt.legend()"
   ]
  },
  {
   "cell_type": "code",
   "execution_count": null,
   "metadata": {},
   "outputs": [],
   "source": [
    "omega0 = 6                  \n",
    "gamma = 6\n",
    "\n",
    "n=0\n",
    "x = odeint(func=swing, y0=x0, t=t)\n",
    "plt.plot(t, x[:,0], label=\"n=0\")\n",
    "\n",
    "n=1/2\n",
    "x = odeint(func=swing, y0=x0, t=t)\n",
    "plt.plot(t, x[:,0], label=\"n=1/2\")\n",
    "\n",
    "n=1\n",
    "x = odeint(func=swing, y0=x0, t=t)\n",
    "plt.plot(t, x[:,0], label=\"n=1\")\n",
    "\n",
    "n=2\n",
    "x = odeint(func=swing, y0=x0, t=t)\n",
    "plt.plot(t, x[:,0], label=\"n=2\")\n",
    "\n",
    "plt.legend()"
   ]
  },
  {
   "cell_type": "code",
   "execution_count": null,
   "metadata": {},
   "outputs": [],
   "source": [
    "omega0 = 6                  \n",
    "gamma = 12\n",
    "\n",
    "n=0\n",
    "x = odeint(func=swing, y0=x0, t=t, atol=1e-1)\n",
    "plt.plot(t, x[:,0], label=\"n=0\")\n",
    "\n",
    "n=1/2\n",
    "x = odeint(func=swing, y0=x0, t=t)\n",
    "plt.plot(t, x[:,0], label=\"n=1/2\")\n",
    "\n",
    "n=1\n",
    "x = odeint(func=swing, y0=x0, t=t)\n",
    "plt.plot(t, x[:,0], label=\"n=1\")\n",
    "\n",
    "n=2\n",
    "x = odeint(func=swing, y0=x0, t=t)\n",
    "plt.plot(t, x[:,0], label=\"n=2\")\n",
    "\n",
    "plt.legend()"
   ]
  },
  {
   "cell_type": "markdown",
   "metadata": {},
   "source": [
    "## Aufgabe 2: Das nichtlineare Pendel I"
   ]
  },
  {
   "cell_type": "code",
   "execution_count": null,
   "metadata": {},
   "outputs": [],
   "source": []
  },
  {
   "cell_type": "markdown",
   "metadata": {},
   "source": [
    "## Aufgabe 3: Erzwungene Schwingung"
   ]
  },
  {
   "cell_type": "code",
   "execution_count": null,
   "metadata": {},
   "outputs": [],
   "source": []
  },
  {
   "cell_type": "markdown",
   "metadata": {},
   "source": [
    "## Aufgabe 4: Das nichtlineare Pendel II"
   ]
  },
  {
   "cell_type": "code",
   "execution_count": null,
   "metadata": {},
   "outputs": [],
   "source": []
  }
 ],
 "metadata": {
  "kernelspec": {
   "display_name": "Python 3",
   "language": "python",
   "name": "python3"
  },
  "language_info": {
   "codemirror_mode": {
    "name": "ipython",
    "version": 3
   },
   "file_extension": ".py",
   "mimetype": "text/x-python",
   "name": "python",
   "nbconvert_exporter": "python",
   "pygments_lexer": "ipython3",
   "version": "3.6.4"
  }
 },
 "nbformat": 4,
 "nbformat_minor": 2
}
