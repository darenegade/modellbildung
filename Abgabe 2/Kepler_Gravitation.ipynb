{
 "cells": [
  {
   "cell_type": "code",
   "execution_count": 1,
   "metadata": {},
   "outputs": [
    {
     "data": {
      "application/javascript": [
       "require.undef(\"nbextensions/vpython_libraries/glow.min\");"
      ],
      "text/plain": [
       "<IPython.core.display.Javascript object>"
      ]
     },
     "metadata": {},
     "output_type": "display_data"
    },
    {
     "data": {
      "application/javascript": [
       "require.undef(\"nbextensions/vpython_libraries/glowcomm\");"
      ],
      "text/plain": [
       "<IPython.core.display.Javascript object>"
      ]
     },
     "metadata": {},
     "output_type": "display_data"
    },
    {
     "data": {
      "application/javascript": [
       "require.undef(\"nbextensions/vpython_libraries/jquery-ui.custom.min\");"
      ],
      "text/plain": [
       "<IPython.core.display.Javascript object>"
      ]
     },
     "metadata": {},
     "output_type": "display_data"
    },
    {
     "data": {
      "application/javascript": [
       "require([\"nbextensions/vpython_libraries/glow.min\"], function(){console.log(\"GLOW LOADED\");})"
      ],
      "text/plain": [
       "<IPython.core.display.Javascript object>"
      ]
     },
     "metadata": {},
     "output_type": "display_data"
    },
    {
     "data": {
      "application/javascript": [
       "require([\"nbextensions/vpython_libraries/glowcomm\"], function(){console.log(\"GLOWCOMM LOADED\");})"
      ],
      "text/plain": [
       "<IPython.core.display.Javascript object>"
      ]
     },
     "metadata": {},
     "output_type": "display_data"
    },
    {
     "data": {
      "application/javascript": [
       "require([\"nbextensions/vpython_libraries/jquery-ui.custom.min\"], function(){console.log(\"JQUERY LOADED\");})"
      ],
      "text/plain": [
       "<IPython.core.display.Javascript object>"
      ]
     },
     "metadata": {},
     "output_type": "display_data"
    },
    {
     "data": {
      "text/html": [
       "<div id=\"glowscript\" class=\"glowscript\"></div>"
      ],
      "text/plain": [
       "<IPython.core.display.HTML object>"
      ]
     },
     "metadata": {},
     "output_type": "display_data"
    },
    {
     "data": {
      "application/javascript": [
       "window.__context = { glowscript_container: $(\"#glowscript\").removeAttr(\"id\")}"
      ],
      "text/plain": [
       "<IPython.core.display.Javascript object>"
      ]
     },
     "metadata": {},
     "output_type": "display_data"
    },
    {
     "data": {
      "text/html": [
       "<div id=\"glowscript\" class=\"glowscript\"></div>"
      ],
      "text/plain": [
       "<IPython.core.display.HTML object>"
      ]
     },
     "metadata": {},
     "output_type": "display_data"
    },
    {
     "data": {
      "application/javascript": [
       "window.__context = { glowscript_container: $(\"#glowscript\").removeAttr(\"id\")}"
      ],
      "text/plain": [
       "<IPython.core.display.Javascript object>"
      ]
     },
     "metadata": {},
     "output_type": "display_data"
    },
    {
     "ename": "KeyboardInterrupt",
     "evalue": "",
     "output_type": "error",
     "traceback": [
      "\u001b[0;31m---------------------------------------------------------------------------\u001b[0m",
      "\u001b[0;31mKeyboardInterrupt\u001b[0m                         Traceback (most recent call last)",
      "\u001b[0;32m<ipython-input-1-3fe1863b0041>\u001b[0m in \u001b[0;36m<module>\u001b[0;34m()\u001b[0m\n\u001b[1;32m     47\u001b[0m \u001b[0mm_s\u001b[0m \u001b[0;34m=\u001b[0m \u001b[0;36m1.989\u001b[0m\u001b[0;34m*\u001b[0m \u001b[0;36m10\u001b[0m\u001b[0;34m**\u001b[0m\u001b[0;36m30\u001b[0m\u001b[0;34m\u001b[0m\u001b[0m\n\u001b[1;32m     48\u001b[0m \u001b[0mm_e\u001b[0m \u001b[0;34m=\u001b[0m \u001b[0;36m5.972\u001b[0m \u001b[0;34m*\u001b[0m \u001b[0;36m10\u001b[0m\u001b[0;34m**\u001b[0m\u001b[0;36m24\u001b[0m\u001b[0;34m\u001b[0m\u001b[0m\n\u001b[0;32m---> 49\u001b[0;31m \u001b[0mgo\u001b[0m\u001b[0;34m(\u001b[0m\u001b[0;34m)\u001b[0m\u001b[0;34m\u001b[0m\u001b[0m\n\u001b[0m\u001b[1;32m     50\u001b[0m \u001b[0;34m\u001b[0m\u001b[0m\n",
      "\u001b[0;32m<ipython-input-1-3fe1863b0041>\u001b[0m in \u001b[0;36mgo\u001b[0;34m()\u001b[0m\n\u001b[1;32m     39\u001b[0m     \u001b[0;32mwhile\u001b[0m \u001b[0;32mTrue\u001b[0m\u001b[0;34m:\u001b[0m\u001b[0;34m\u001b[0m\u001b[0m\n\u001b[1;32m     40\u001b[0m        \u001b[0;31m# vp.rate(10)   # limit animation speed\u001b[0m\u001b[0;34m\u001b[0m\u001b[0;34m\u001b[0m\u001b[0m\n\u001b[0;32m---> 41\u001b[0;31m         \u001b[0mr_e\u001b[0m\u001b[0;34m,\u001b[0m \u001b[0mv_e\u001b[0m \u001b[0;34m=\u001b[0m \u001b[0mleapfrog\u001b[0m\u001b[0;34m(\u001b[0m\u001b[0mvelo\u001b[0m\u001b[0;34m,\u001b[0m \u001b[0mr_e\u001b[0m\u001b[0;34m,\u001b[0m \u001b[0mv_e\u001b[0m\u001b[0;34m,\u001b[0m \u001b[0mr_s\u001b[0m\u001b[0;34m,\u001b[0m \u001b[0mh\u001b[0m\u001b[0;34m,\u001b[0m \u001b[0mm_s\u001b[0m\u001b[0;34m)\u001b[0m  \u001b[0;31m# integrate\u001b[0m\u001b[0;34m\u001b[0m\u001b[0m\n\u001b[0m\u001b[1;32m     42\u001b[0m         \u001b[0mearth\u001b[0m\u001b[0;34m.\u001b[0m\u001b[0mpos\u001b[0m \u001b[0;34m=\u001b[0m \u001b[0mvec\u001b[0m\u001b[0;34m(\u001b[0m\u001b[0mr_e\u001b[0m\u001b[0;34m[\u001b[0m\u001b[0;36m0\u001b[0m\u001b[0;34m]\u001b[0m\u001b[0;34m,\u001b[0m\u001b[0mr_e\u001b[0m\u001b[0;34m[\u001b[0m\u001b[0;36m1\u001b[0m\u001b[0;34m]\u001b[0m\u001b[0;34m,\u001b[0m\u001b[0;36m0\u001b[0m\u001b[0;34m)\u001b[0m           \u001b[0;31m# move earth\u001b[0m\u001b[0;34m\u001b[0m\u001b[0m\n\u001b[1;32m     43\u001b[0m         \u001b[0mr_s\u001b[0m\u001b[0;34m,\u001b[0m \u001b[0mv_s\u001b[0m \u001b[0;34m=\u001b[0m \u001b[0mleapfrog\u001b[0m\u001b[0;34m(\u001b[0m\u001b[0mvelo\u001b[0m\u001b[0;34m,\u001b[0m \u001b[0mr_s\u001b[0m\u001b[0;34m,\u001b[0m \u001b[0mv_s\u001b[0m\u001b[0;34m,\u001b[0m \u001b[0mr_e\u001b[0m\u001b[0;34m,\u001b[0m \u001b[0mh\u001b[0m\u001b[0;34m,\u001b[0m \u001b[0mm_e\u001b[0m\u001b[0;34m)\u001b[0m  \u001b[0;31m# integrate\u001b[0m\u001b[0;34m\u001b[0m\u001b[0m\n",
      "\u001b[0;32m<ipython-input-1-3fe1863b0041>\u001b[0m in \u001b[0;36mleapfrog\u001b[0;34m(lfdiffeq, r1, v1, r2, h, GM)\u001b[0m\n\u001b[1;32m     12\u001b[0m     \u001b[0mhh\u001b[0m \u001b[0;34m=\u001b[0m \u001b[0mh\u001b[0m\u001b[0;34m/\u001b[0m\u001b[0;36m2.0\u001b[0m\u001b[0;34m\u001b[0m\u001b[0m\n\u001b[1;32m     13\u001b[0m     \u001b[0mr11\u001b[0m \u001b[0;34m=\u001b[0m \u001b[0mr1\u001b[0m \u001b[0;34m+\u001b[0m \u001b[0mhh\u001b[0m\u001b[0;34m*\u001b[0m\u001b[0mlfdiffeq\u001b[0m\u001b[0;34m(\u001b[0m\u001b[0;36m0\u001b[0m\u001b[0;34m,\u001b[0m \u001b[0mr1\u001b[0m\u001b[0;34m,\u001b[0m \u001b[0mv1\u001b[0m\u001b[0;34m,\u001b[0m \u001b[0mr2\u001b[0m\u001b[0;34m,\u001b[0m \u001b[0mGM\u001b[0m\u001b[0;34m)\u001b[0m     \u001b[0;31m# 1st: r at h/2 using v0    @\\lbl{line:lf1}@\u001b[0m\u001b[0;34m\u001b[0m\u001b[0m\n\u001b[0;32m---> 14\u001b[0;31m     \u001b[0mv11\u001b[0m \u001b[0;34m=\u001b[0m \u001b[0mv1\u001b[0m \u001b[0;34m+\u001b[0m  \u001b[0mh\u001b[0m\u001b[0;34m*\u001b[0m\u001b[0mlfdiffeq\u001b[0m\u001b[0;34m(\u001b[0m\u001b[0;36m1\u001b[0m\u001b[0;34m,\u001b[0m \u001b[0mr11\u001b[0m\u001b[0;34m,\u001b[0m \u001b[0mv1\u001b[0m\u001b[0;34m,\u001b[0m \u001b[0mr2\u001b[0m\u001b[0;34m,\u001b[0m \u001b[0mGM\u001b[0m\u001b[0;34m)\u001b[0m  \u001b[0;31m# 2nd: v1 using a(r) at h/2 @\\lbl{line:lf2}@\u001b[0m\u001b[0;34m\u001b[0m\u001b[0m\n\u001b[0m\u001b[1;32m     15\u001b[0m     \u001b[0mr11\u001b[0m \u001b[0;34m=\u001b[0m \u001b[0mr11\u001b[0m \u001b[0;34m+\u001b[0m \u001b[0mhh\u001b[0m\u001b[0;34m*\u001b[0m\u001b[0mlfdiffeq\u001b[0m\u001b[0;34m(\u001b[0m\u001b[0;36m0\u001b[0m\u001b[0;34m,\u001b[0m \u001b[0mr1\u001b[0m\u001b[0;34m,\u001b[0m \u001b[0mv11\u001b[0m\u001b[0;34m,\u001b[0m \u001b[0mr2\u001b[0m\u001b[0;34m,\u001b[0m \u001b[0mGM\u001b[0m\u001b[0;34m)\u001b[0m   \u001b[0;31m# 3rd: r1 at h using v1     @\\lbl{line:lf3}@\u001b[0m\u001b[0;34m\u001b[0m\u001b[0m\n\u001b[1;32m     16\u001b[0m     \u001b[0;32mreturn\u001b[0m \u001b[0mr1\u001b[0m\u001b[0;34m,\u001b[0m \u001b[0mv1\u001b[0m\u001b[0;34m\u001b[0m\u001b[0m\n",
      "\u001b[0;32m<ipython-input-1-3fe1863b0041>\u001b[0m in \u001b[0;36mvelo\u001b[0;34m(id, r1, v1, r2, GM)\u001b[0m\n\u001b[1;32m     20\u001b[0m     \u001b[0;32mif\u001b[0m \u001b[0;34m(\u001b[0m\u001b[0mid\u001b[0m \u001b[0;34m==\u001b[0m \u001b[0;36m0\u001b[0m\u001b[0;34m)\u001b[0m\u001b[0;34m:\u001b[0m \u001b[0;32mreturn\u001b[0m \u001b[0mv1\u001b[0m        \u001b[0;31m# velocity, dr/dt\u001b[0m\u001b[0;34m\u001b[0m\u001b[0m\n\u001b[1;32m     21\u001b[0m     \u001b[0mr12\u001b[0m \u001b[0;34m=\u001b[0m \u001b[0mr2\u001b[0m \u001b[0;34m-\u001b[0m \u001b[0mr1\u001b[0m\u001b[0;34m\u001b[0m\u001b[0m\n\u001b[0;32m---> 22\u001b[0;31m     \u001b[0ms\u001b[0m \u001b[0;34m=\u001b[0m \u001b[0mvp\u001b[0m\u001b[0;34m.\u001b[0m\u001b[0mmag\u001b[0m\u001b[0;34m(\u001b[0m\u001b[0mvec\u001b[0m\u001b[0;34m(\u001b[0m\u001b[0mr12\u001b[0m\u001b[0;34m[\u001b[0m\u001b[0;36m0\u001b[0m\u001b[0;34m]\u001b[0m\u001b[0;34m,\u001b[0m\u001b[0mr12\u001b[0m\u001b[0;34m[\u001b[0m\u001b[0;36m1\u001b[0m\u001b[0;34m]\u001b[0m\u001b[0;34m,\u001b[0m\u001b[0;36m0\u001b[0m\u001b[0;34m)\u001b[0m\u001b[0;34m)\u001b[0m   \u001b[0;31m# $s=|\\vec{r}|$\u001b[0m\u001b[0;34m\u001b[0m\u001b[0m\n\u001b[0m\u001b[1;32m     23\u001b[0m     \u001b[0;32mreturn\u001b[0m \u001b[0mGM\u001b[0m\u001b[0;34m*\u001b[0m\u001b[0mr12\u001b[0m\u001b[0;34m/\u001b[0m\u001b[0;34m(\u001b[0m\u001b[0ms\u001b[0m\u001b[0;34m*\u001b[0m\u001b[0ms\u001b[0m\u001b[0;34m*\u001b[0m\u001b[0ms\u001b[0m\u001b[0;34m)\u001b[0m           \u001b[0;31m# accel dv/dt, faster than s**3\u001b[0m\u001b[0;34m\u001b[0m\u001b[0m\n\u001b[1;32m     24\u001b[0m \u001b[0;34m\u001b[0m\u001b[0m\n",
      "\u001b[0;31mKeyboardInterrupt\u001b[0m: "
     ]
    }
   ],
   "source": [
    "import numpy as np     # get ODE solvers, numpy\n",
    "import vpython as vp         # get VPython modules for animation\n",
    "vec=vp.vector\n",
    "\n",
    "def leapfrog(lfdiffeq, r1, v1, r2, h, GM):       # vectorized leapfrog\n",
    "    \"\"\" vector leapfrog method using numpy arrays.\n",
    "        It solves general (r,v) ODEs as: \n",
    "        dr[i]/dt = f[i](v), and dv[i]/dt = g[i](r).\n",
    "        User supplied lfdiffeq(id, r, v, t) returns\n",
    "        f[i](r) if id=0, or g[i](v) if id=1.\n",
    "        It must return a numpy array if i>1 \"\"\"\n",
    "    hh = h/2.0\n",
    "    r11 = r1 + hh*lfdiffeq(0, r1, v1, r2, GM)     # 1st: r at h/2 using v0    @\\lbl{line:lf1}@\n",
    "    v11 = v1 +  h*lfdiffeq(1, r11, v1, r2, GM)  # 2nd: v1 using a(r) at h/2 @\\lbl{line:lf2}@\n",
    "    r11 = r11 + hh*lfdiffeq(0, r1, v11, r2, GM)   # 3rd: r1 at h using v1     @\\lbl{line:lf3}@\n",
    "    return r1, v1\n",
    "  \n",
    "     \n",
    "def velo(id, r1, v1, r2, GM):            # return the eqns of motion\n",
    "    if (id == 0): return v1        # velocity, dr/dt\n",
    "    r12 = r2 - r1\n",
    "    s = vp.mag(vec(r12[0],r12[1],0))   # $s=|\\vec{r}|$\n",
    "    return GM*r12/(s*s*s)           # accel dv/dt, faster than s**3  \n",
    "        \n",
    "def go():\n",
    "    r_e = np.array([1.4960, 0.0])*(10**11)    # initial x,y position for earth  \n",
    "    r_s = np.array([0.0, 0.0])   # initial x,y position for sun   \n",
    "    v_e = np.array([0.0, 29.8])*(10**3)    # initial vx, vy  for earth \n",
    "    v_s = np.array([0.0, 0.0])    # initial vx, vy  for sun \n",
    "    \n",
    "    # draw the scene, planet earth/path, sun/sunlight               \n",
    "    scene = vp.canvas(title='Planetary motion',          # scene start \n",
    "                       background=vec(.2,.5,1), forward=vec(0,2,-1))\n",
    "    earth= vp.sphere(pos=vec(r_e[0],r_e[1],0), radius=6371000*1000, make_trail=True, up=vec(0,0,1))\n",
    "    sun   = vp.sphere(pos=vec(r_s[0],r_s[1],0), radius=695508000*10, make_trail=True, color=vp.color.yellow)\n",
    "    sunlight = vp.local_light(pos=vec(0,0,0), color=vp.color.yellow) #scn end \n",
    "    \n",
    "    t, h = 0.0, 0.001\n",
    "    while True:\n",
    "       # vp.rate(10)   # limit animation speed\n",
    "        r_e, v_e = leapfrog(velo, r_e, v_e, r_s, h, m_s)  # integrate \n",
    "        earth.pos = vec(r_e[0],r_e[1],0)           # move earth    \n",
    "        r_s, v_s = leapfrog(velo, r_s, v_s, r_e, h, m_e)  # integrate \n",
    "        sun.pos = vec(r_s[0],r_s[1],0)           # move sun  \n",
    "\n",
    "        \n",
    "m_s = 1.989* 10**30\n",
    "m_e = 5.972 * 10**24\n",
    "go()\n",
    "       \n"
   ]
  },
  {
   "cell_type": "code",
   "execution_count": null,
   "metadata": {},
   "outputs": [],
   "source": []
  },
  {
   "cell_type": "code",
   "execution_count": null,
   "metadata": {},
   "outputs": [],
   "source": []
  },
  {
   "cell_type": "code",
   "execution_count": null,
   "metadata": {},
   "outputs": [],
   "source": []
  },
  {
   "cell_type": "code",
   "execution_count": null,
   "metadata": {},
   "outputs": [],
   "source": []
  }
 ],
 "metadata": {
  "kernelspec": {
   "display_name": "VPython",
   "language": "python",
   "name": "vpython"
  },
  "language_info": {
   "codemirror_mode": {
    "name": "ipython",
    "version": 3
   },
   "file_extension": ".py",
   "mimetype": "text/x-python",
   "name": "python",
   "nbconvert_exporter": "python",
   "pygments_lexer": "ipython3",
   "version": "3.6.4"
  }
 },
 "nbformat": 4,
 "nbformat_minor": 1
}
