{
 "cells": [
  {
   "cell_type": "markdown",
   "metadata": {},
   "source": [
    "# Abgabe 2: Klassische Mechanik 2\n",
    "\n",
    "**Teammitglieder:** René Zarwel, Michael Wimmer, Matthias Kastenmüller"
   ]
  },
  {
   "cell_type": "code",
   "execution_count": null,
   "metadata": {},
   "outputs": [],
   "source": []
  },
  {
   "cell_type": "code",
   "execution_count": 1,
   "metadata": {},
   "outputs": [],
   "source": [
    "from matplotlib import pyplot as plt\n",
    "import numpy as np\n",
    "from numpy import array, polyval, polyfit\n",
    "from scipy.optimize import curve_fit"
   ]
  },
  {
   "cell_type": "markdown",
   "metadata": {},
   "source": [
    "## Aufgabe 1: Umlaufzeit"
   ]
  },
  {
   "cell_type": "markdown",
   "metadata": {},
   "source": [
    "`<INSERT DESCRIPTION HERE>`"
   ]
  },
  {
   "cell_type": "code",
   "execution_count": 13,
   "metadata": {},
   "outputs": [
    {
     "name": "stdout",
     "output_type": "stream",
     "text": [
      "C=17.046411581708377 und n=1.508036297446902\n",
      "Für den Wert T=6.2 ergibt sich ein r=0.5113672986808556\n"
     ]
    },
    {
     "data": {
      "text/plain": [
       "[<matplotlib.lines.Line2D at 0x15114d8588>]"
      ]
     },
     "execution_count": 13,
     "metadata": {},
     "output_type": "execute_result"
    },
    {
     "data": {
      "image/png": "[encoded data removed]",
      "text/plain": [
       "<matplotlib.figure.Figure at 0x1510892be0>"
      ]
     },
     "metadata": {},
     "output_type": "display_data"
    }
   ],
   "source": [
    "# Gegebene Funktion & Umgestellt nach r\n",
    "T = lambda r,C,n: C*r**n\n",
    "r = lambda T,C,n: (T/C)**(1/n)\n",
    "\n",
    "# Eingangsdaten\n",
    "Tdata = array([0.44, 1.61, 3.88, 7.89])\n",
    "rdata = array([0.088, 0.208, 0.374, 0.600])\n",
    "\n",
    "plt.loglog(rdata, Tdata, 'o-')\n",
    "\n",
    "# Logarithmieren der Eingangsdaten\n",
    "TdataLog = np.log(Tdata)\n",
    "rdataLog = np.log(rdata)\n",
    "\n",
    "# Lösen durch Geradengleichung\n",
    "n = (TdataLog[0]-TdataLog[1])/(rdataLog[0]-rdataLog[1])\n",
    "C = Tdata[3]/rdata[3]**n\n",
    "print(\"C=\" + str(C) + \" und n=\" + str(n))\n",
    "plt.loglog(rdata, T(rdata,C,n), '*-')\n",
    "\n",
    "# Berechnung des fehlenden Wertes\n",
    "Tmiss = 6.20\n",
    "rmiss = r(6.2,C,n)\n",
    "print(\"Für den Wert T=\" + str(Tmiss) + \" ergibt sich ein r=\" + str(rmiss))\n",
    "plt.loglog(rmiss, Tmiss, '+')"
   ]
  },
  {
   "cell_type": "markdown",
   "metadata": {},
   "source": [
    "## Aufgabe 6: Drei Sterne"
   ]
  },
  {
   "cell_type": "markdown",
   "metadata": {},
   "source": [
    "Auf den Stern 1 wirkt die Anziehungskraft von Stern 2 und Stern 3. Zusammen ergeben sie die auf den Stern 1 wirkende Kraft:\n",
    "\n",
    "$$\n",
    "\\vec{F_1} = m_1 \\cdot \\ddot{r} = \\vec{F_{12}} + \\vec{F_{13}}\n",
    "$$\n",
    "\n",
    "Damit kann jede wirkende Anziehungskraft separat betrachtet werden. Durch einsetzen der jeweils wirkenden Anziehungskraft ergibt sich folgende Gleichung:\n",
    "\n",
    "$$\n",
    "m_1 \\cdot \\ddot{r} = G\\frac{m_2 \\cdot m_1}{r_{12}^3}\\vec{r_{12}} + G\\frac{m_3 \\cdot m_1}{r_{13}^3}\\vec{r_{13}}\n",
    "$$\n",
    "\n",
    "Da $m_1$ auf der rechten Seite ausgeklammert werden kann und somit auf beiden Seiten gleichermaßen vorkommt, kann es aufgehoben werden. Desweiteren ersetzen wir die Richtungsvektoren $\\vec{r_{12}}$ und $\\vec{r_{13}}$ durch die Berechnung aus den Positionsvektoren. Gleichermaßen wird mit den im Nenner vorhandenen Längen der Richtungsvektoren verfahren. Somit ergibt sich die gegebene Gleichung:\n",
    "\n",
    "$$\n",
    "\\ddot{\\vec{r_1}} = Gm_2\\frac{\\vec{r_2}-\\vec{r_1}}{|\\vec{r_2}-\\vec{r_1}|^3}+Gm_3\\frac{\\vec{r_3}-\\vec{r_1}}{|\\vec{r_3}-\\vec{r_1}|^3}\n",
    "$$\n",
    "\n",
    "Allgemein kann die Gleichung auch folgendermaßen fomuliert werden:\n",
    "\n",
    "$$\n",
    "\\ddot{\\vec{r_1}} = G \\displaystyle\\sum_{i=2}^{n} m_i\\frac{\\vec{r_i}-\\vec{r_1}}{|\\vec{r_i}-\\vec{r_1}|^3} \\\\\n",
    "n = Anzahl der Sterne\n",
    "$$\n",
    "\n",
    "Dies kann auf die anderen Sterne übertragen werden und somit ergeben sich für Stern 2 und 3 folgende Bewegungsgleichungen:\n",
    "\n",
    "$$\n",
    "\\ddot{\\vec{r_2}} = Gm_2\\frac{\\vec{r_1}-\\vec{r_2}}{|\\vec{r_1}-\\vec{r_1}|^3}+Gm_3\\frac{\\vec{r_3}-\\vec{r_1}}{|\\vec{r_3}-\\vec{r_1}|^3}\n",
    "$$"
   ]
  },
  {
   "cell_type": "markdown",
   "metadata": {},
   "source": [
    "# Kepler Gravitation"
   ]
  },
  {
   "cell_type": "code",
   "execution_count": null,
   "metadata": {},
   "outputs": [],
   "source": [
    "import numpy as np     # get ODE solvers, numpy\n",
    "import vpython as vp         # get VPython modules for animation\n",
    "vec=vp.vector\n",
    "\n",
    "def leapfrog(lfdiffeq, r0, v0, t, h):       # vectorized leapfrog\n",
    "    \"\"\" vector leapfrog method using numpy arrays.\n",
    "        It solves general (r,v) ODEs as: \n",
    "        dr[i]/dt = f[i](v), and dv[i]/dt = g[i](r).\n",
    "        User supplied lfdiffeq(id, r, v, t) returns\n",
    "        f[i](r) if id=0, or g[i](v) if id=1.\n",
    "        It must return a numpy array if i>1 \"\"\"\n",
    "    hh = h/2.0\n",
    "    r1 = r0 + hh*lfdiffeq(0, r0, v0, t)     # 1st: r at h/2 using v0    @\\lbl{line:lf1}@\n",
    "    v1 = v0 +  h*lfdiffeq(1, r1, v0, t+hh)  # 2nd: v1 using a(r) at h/2 @\\lbl{line:lf2}@\n",
    "    r1 = r1 + hh*lfdiffeq(0, r0, v1, t+h)   # 3rd: r1 at h using v1     @\\lbl{line:lf3}@\n",
    "    return r1, v1\n",
    "  \n",
    "     \n",
    "def earth(id, r, v, t):            # return the eqns of motion\n",
    "    if (id == 0): return v         # velocity, dr/dt\n",
    "    s = vp.mag(vec(r[0],r[1],0))   # $s=|\\vec{r}|$\n",
    "    return -GM*r/(s*s*s)           # accel dv/dt, faster than s**3  \n",
    "        \n",
    "def go():\n",
    "    r = np.array([1.017, 0.0])     # initial x,y position for earth   \n",
    "    v = np.array([0.0, 6.179])     # initial vx, vy                   \n",
    "    \n",
    "    # draw the scene, planet earth/path, sun/sunlight               \n",
    "    scene = vp.canvas(title='Planetary motion',          # scene start \n",
    "                       background=vec(.2,.5,1), forward=vec(0,2,-1))\n",
    "    planet= vp.sphere(pos=vec(r[0],r[1],0), radius=0.1, make_trail=True, up=vec(0,0,1))\n",
    "    sun   = vp.sphere(pos=vec(0,0,0), radius=0.2, color=vp.color.yellow)\n",
    "    sunlight = vp.local_light(pos=vec(0,0,0), color=vp.color.yellow) #scn end \n",
    "    \n",
    "    t, h = 0.0, 0.001\n",
    "    while True:\n",
    "        vp.rate(200)   # limit animation speed\n",
    "        r, v = leapfrog(earth, r, v, t, h)  # integrate \n",
    "        planet.pos = vec(r[0],r[1],0)           # move planet    \n",
    "\n",
    "        \n",
    "GM = 4*np.pi*np.pi          # G*Msun\n",
    "go()\n",
    "       \n"
   ]
  }
 ],
 "metadata": {
  "kernelspec": {
   "display_name": "VPython",
   "language": "python",
   "name": "vpython"
  },
  "language_info": {
   "codemirror_mode": {
    "name": "ipython",
    "version": 3
   },
   "file_extension": ".py",
   "mimetype": "text/x-python",
   "name": "python",
   "nbconvert_exporter": "python",
   "pygments_lexer": "ipython3",
   "version": "3.6.4"
  }
 },
 "nbformat": 4,
 "nbformat_minor": 1
}
