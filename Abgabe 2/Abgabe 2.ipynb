{
 "cells": [
  {
   "cell_type": "markdown",
   "metadata": {},
   "source": [
    "# Abgabe 2: Klassische Mechanik 2\n",
    "\n",
    "**Teammitglieder:** René Zarwel, Michael Wimmer, Matthias Kastenmüller"
   ]
  },
  {
   "cell_type": "code",
   "execution_count": 1,
   "metadata": {},
   "outputs": [],
   "source": [
    "from matplotlib import pyplot as plt\n",
    "import numpy as np\n",
    "from numpy import array, polyval, polyfit\n",
    "from scipy.optimize import curve_fit"
   ]
  },
  {
   "cell_type": "markdown",
   "metadata": {},
   "source": [
    "## Aufgabe 1: Umlaufzeit"
   ]
  },
  {
   "cell_type": "markdown",
   "metadata": {},
   "source": [
    "`<INSERT DESCRIPTION HERE>`"
   ]
  },
  {
   "cell_type": "code",
   "execution_count": 2,
   "metadata": {},
   "outputs": [
    {
     "name": "stdout",
     "output_type": "stream",
     "text": [
      "C=17.046411581708377 und n=1.508036297446902\n",
      "Für den Wert T=6.2 ergibt sich ein r=0.5113672986808556\n"
     ]
    },
    {
     "data": {
      "text/plain": [
       "[<matplotlib.lines.Line2D at 0x151b479d30>]"
      ]
     },
     "execution_count": 2,
     "metadata": {},
     "output_type": "execute_result"
    },
    {
     "data": {
      "image/png": "[encoded data removed]",
      "text/plain": [
       "<matplotlib.figure.Figure at 0x1515a857b8>"
      ]
     },
     "metadata": {},
     "output_type": "display_data"
    }
   ],
   "source": [
    "# Gegebene Funktion & Umgestellt nach r\n",
    "T = lambda r,C,n: C*r**n\n",
    "r = lambda T,C,n: (T/C)**(1/n)\n",
    "\n",
    "# Eingangsdaten\n",
    "Tdata = array([0.44, 1.61, 3.88, 7.89])\n",
    "rdata = array([0.088, 0.208, 0.374, 0.600])\n",
    "\n",
    "plt.loglog(rdata, Tdata, 'o-')\n",
    "\n",
    "# Logarithmieren der Eingangsdaten\n",
    "TdataLog = np.log(Tdata)\n",
    "rdataLog = np.log(rdata)\n",
    "\n",
    "# Lösen durch Geradengleichung\n",
    "n = (TdataLog[0]-TdataLog[1])/(rdataLog[0]-rdataLog[1])\n",
    "C = Tdata[3]/rdata[3]**n\n",
    "print(\"C=\" + str(C) + \" und n=\" + str(n))\n",
    "plt.loglog(rdata, T(rdata,C,n), '*-')\n",
    "\n",
    "# Berechnung des fehlenden Wertes\n",
    "Tmiss = 6.20\n",
    "rmiss = r(6.2,C,n)\n",
    "print(\"Für den Wert T=\" + str(Tmiss) + \" ergibt sich ein r=\" + str(rmiss))\n",
    "plt.loglog(rmiss, Tmiss, '+')"
   ]
  },
  {
   "cell_type": "markdown",
   "metadata": {},
   "source": [
    "## Aufgabe 6: Drei Sterne"
   ]
  },
  {
   "cell_type": "markdown",
   "metadata": {},
   "source": [
    "Auf den Stern 1 wirkt die Anziehungskraft von Stern 2 und Stern 3. Zusammen ergeben sie die auf den Stern 1 wirkende Kraft:\n",
    "\n",
    "$$\n",
    "\\vec{F_1} = m_1 \\cdot \\ddot{r} = \\vec{F_{12}} + \\vec{F_{13}}\n",
    "$$\n",
    "\n",
    "Damit kann jede wirkende Anziehungskraft separat betrachtet werden. Durch einsetzen der jeweils wirkenden Anziehungskraft ergibt sich folgende Gleichung:\n",
    "\n",
    "$$\n",
    "m_1 \\cdot \\ddot{r} = G\\frac{m_2 \\cdot m_1}{r_{12}^3}\\vec{r_{12}} + G\\frac{m_3 \\cdot m_1}{r_{13}^3}\\vec{r_{13}}\n",
    "$$\n",
    "\n",
    "Da $m_1$ auf der rechten Seite ausgeklammert werden kann und somit auf beiden Seiten gleichermaßen vorkommt, kann es aufgehoben werden. Desweiteren ersetzen wir die Richtungsvektoren $\\vec{r_{12}}$ und $\\vec{r_{13}}$ durch die Berechnung aus den Positionsvektoren. Gleichermaßen wird mit den im Nenner vorhandenen Längen der Richtungsvektoren verfahren. Somit ergibt sich die gegebene Gleichung:\n",
    "\n",
    "$$\n",
    "\\ddot{\\vec{r_1}} = Gm_2\\frac{\\vec{r_2}-\\vec{r_1}}{|\\vec{r_2}-\\vec{r_1}|^3}+Gm_3\\frac{\\vec{r_3}-\\vec{r_1}}{|\\vec{r_3}-\\vec{r_1}|^3}\n",
    "$$\n",
    "\n",
    "Allgemein kann die Gleichung auch folgendermaßen fomuliert werden:\n",
    "\n",
    "$$\n",
    "\\ddot{\\vec{r_1}} = G \\displaystyle\\sum_{i=2}^{n} m_i\\frac{\\vec{r_i}-\\vec{r_1}}{|\\vec{r_i}-\\vec{r_1}|^3} \\\\\n",
    "n = \\text{ Anzahl der Sterne}\n",
    "$$\n",
    "\n",
    "Dies kann auf die anderen Sterne übertragen werden und somit ergeben sich für Stern 2 und 3 folgende Bewegungsgleichungen:\n",
    "\n",
    "$$\n",
    "\\ddot{\\vec{r_2}} = Gm_1\\frac{\\vec{r_1}-\\vec{r_2}}{|\\vec{r_1}-\\vec{r_2}|^3}+Gm_3\\frac{\\vec{r_3}-\\vec{r_2}}{|\\vec{r_3}-\\vec{r_2}|^3} \\\\\n",
    "\\ddot{\\vec{r_3}} = Gm_1\\frac{\\vec{r_1}-\\vec{r_3}}{|\\vec{r_1}-\\vec{r_3}|^3}+Gm_2\\frac{\\vec{r_2}-\\vec{r_3}}{|\\vec{r_2}-\\vec{r_3}|^3}\n",
    "$$"
   ]
  },
  {
   "cell_type": "markdown",
   "metadata": {},
   "source": [
    "### Plot der Bewegung\n",
    "\n",
    "Im folgenden wird die Bewegung der 3 Sterne für 10 Sekunden berechnet und im Breich von -4 bis 4 für x und y geplottet."
   ]
  },
  {
   "cell_type": "code",
   "execution_count": 6,
   "metadata": {},
   "outputs": [
    {
     "data": {
      "text/plain": [
       "(-3, 3)"
      ]
     },
     "execution_count": 6,
     "metadata": {},
     "output_type": "execute_result"
    },
    {
     "data": {
      "image/png": "[encoded data removed]",
      "text/plain": [
       "<matplotlib.figure.Figure at 0x1520d06860>"
      ]
     },
     "metadata": {},
     "output_type": "display_data"
    }
   ],
   "source": [
    "import numpy as np     # get ODE solvers, numpy\n",
    "import vpython as vp         # get VPython modules for animation\n",
    "vec=vp.vector\n",
    "\n",
    "def leapfrog(lfdiffeq, r1, v1, r2, r3, t, h):       # vectorized leapfrog\n",
    "    \"\"\" vector leapfrog method using numpy arrays.\n",
    "        It solves general (r,v) ODEs as: \n",
    "        dr[i]/dt = f[i](v), and dv[i]/dt = g[i](r).\n",
    "        User supplied lfdiffeq(id, r, v, t) returns\n",
    "        f[i](r) if id=0, or g[i](v) if id=1.\n",
    "        It must return a numpy array if i>1 \"\"\"\n",
    "    hh = h/2.0\n",
    "    r11 = r1 + hh*lfdiffeq(0, r1, r2, r3, v1, t)     # 1st: r at h/2 using v0    @\\lbl{line:lf1}@\n",
    "    v11 = v1 +  h*lfdiffeq(1, r11, r2, r3, v1, t)  # 2nd: v1 using a(r) at h/2 @\\lbl{line:lf2}@\n",
    "    r11 = r11 + hh*lfdiffeq(0, r1, r2, r3, v11, t)   # 3rd: r1 at h using v1     @\\lbl{line:lf3}@\n",
    "    return r11, v11\n",
    "  \n",
    "     \n",
    "def star(id, r1, r2, r3, v, t):            # return the eqns of motion\n",
    "    if (id == 0): return v         # velocity, dr/dt\n",
    "    r12 = r2 - r1\n",
    "    r13 = r3 - r1\n",
    "    s12 = vp.mag(vec(r12[0],r12[1],0))   # $s=|\\vec{r}|$\n",
    "    s13 = vp.mag(vec(r13[0],r13[1],0))   # $s=|\\vec{r}|$\n",
    "    return m2*r12/(s12*s12*s12) + m3*r13/(s13*s13*s13)         # accel dv/dt, faster than s**3  \n",
    "\n",
    "# Startpositions\n",
    "r1 = [np.array([3.0, 1.0])] \n",
    "v1 = np.array([0.0, 0.0]) \n",
    "r2 = [np.array([-1.0, -2.0])] \n",
    "v2 = np.array([0.0, 0.0]) \n",
    "r3 = [np.array([-1.0, 1.0])] \n",
    "v3 = np.array([0.0, 0.0])\n",
    "m1 = 150\n",
    "m2 = 200\n",
    "m3 = 250\n",
    "t, h = 0.0, 0.001\n",
    "\n",
    "while t < 10:\n",
    "    r1_tmp, v1 = leapfrog(star, r1[-1], v1, r2[-1], r3[-1], t, h)  # integrate \n",
    "    r1.append(r1_tmp)\n",
    "    r2_tmp, v2 = leapfrog(star, r2[-1], v2, r1[-1], r3[-1], t, h)  # integrate \n",
    "    r2.append(r2_tmp)\n",
    "    r3_tmp, v3 = leapfrog(star, r3[-1], v3, r1[-1], r2[-1], t, h)  # integrate \n",
    "    r3.append(r3_tmp)\n",
    "    t += h\n",
    "    \n",
    "plt.title('Flugbahn der 3 Sterne')\n",
    "plt.ylabel('y')\n",
    "plt.xlabel('x')\n",
    "plt.plot([v[0] for v in r1], [v[1] for v in r1])\n",
    "plt.plot([v[0] for v in r2], [v[1] for v in r2])\n",
    "plt.plot([v[0] for v in r3], [v[1] for v in r3])\n",
    "axes = plt.gca()\n",
    "axes.set_xlim([-3,3])\n",
    "axes.set_ylim([-3,3])"
   ]
  },
  {
   "cell_type": "markdown",
   "metadata": {},
   "source": [
    "Man sieht, das die 3 Sterne sich zunächst gegenseitig anziehen und aufeinander zufliegen. Anschließend werden sie durch die hohe Anziehungskraft in der Näher der jeweils anderen Sterne voneinander schnell weggedrängt. Dies wird in der Raumfahrt auch genutzt und nennt sich Swing-By.\n",
    "\n",
    "Diese Bewegung wird im folgenden als Animation dargestellt."
   ]
  },
  {
   "cell_type": "code",
   "execution_count": 4,
   "metadata": {},
   "outputs": [
    {
     "data": {
      "text/html": [
       "<div id=\"glowscript\" class=\"glowscript\"></div>"
      ],
      "text/plain": [
       "<IPython.core.display.HTML object>"
      ]
     },
     "metadata": {},
     "output_type": "display_data"
    },
    {
     "data": {
      "application/javascript": [
       "window.__context = { glowscript_container: $(\"#glowscript\").removeAttr(\"id\")}"
      ],
      "text/plain": [
       "<IPython.core.display.Javascript object>"
      ]
     },
     "metadata": {},
     "output_type": "display_data"
    },
    {
     "ename": "KeyboardInterrupt",
     "evalue": "",
     "output_type": "error",
     "traceback": [
      "\u001b[0;31m---------------------------------------------------------------------------\u001b[0m",
      "\u001b[0;31mKeyboardInterrupt\u001b[0m                         Traceback (most recent call last)",
      "\u001b[0;32m<ipython-input-4-ba8ae6aba925>\u001b[0m in \u001b[0;36m<module>\u001b[0;34m()\u001b[0m\n\u001b[1;32m     34\u001b[0m \u001b[0mm2\u001b[0m \u001b[0;34m=\u001b[0m \u001b[0;36m200\u001b[0m\u001b[0;34m\u001b[0m\u001b[0m\n\u001b[1;32m     35\u001b[0m \u001b[0mm3\u001b[0m \u001b[0;34m=\u001b[0m \u001b[0;36m250\u001b[0m\u001b[0;34m\u001b[0m\u001b[0m\n\u001b[0;32m---> 36\u001b[0;31m \u001b[0mgo\u001b[0m\u001b[0;34m(\u001b[0m\u001b[0;34m)\u001b[0m\u001b[0;34m\u001b[0m\u001b[0m\n\u001b[0m",
      "\u001b[0;32m<ipython-input-4-ba8ae6aba925>\u001b[0m in \u001b[0;36mgo\u001b[0;34m()\u001b[0m\n\u001b[1;32m     21\u001b[0m         \u001b[0mr13\u001b[0m \u001b[0;34m=\u001b[0m \u001b[0mr3\u001b[0m \u001b[0;34m-\u001b[0m \u001b[0mr1\u001b[0m\u001b[0;34m\u001b[0m\u001b[0m\n\u001b[1;32m     22\u001b[0m         \u001b[0mlimiter\u001b[0m \u001b[0;34m=\u001b[0m \u001b[0mnp\u001b[0m\u001b[0;34m.\u001b[0m\u001b[0mminimum\u001b[0m\u001b[0;34m(\u001b[0m\u001b[0mvp\u001b[0m\u001b[0;34m.\u001b[0m\u001b[0mmag\u001b[0m\u001b[0;34m(\u001b[0m\u001b[0mvec\u001b[0m\u001b[0;34m(\u001b[0m\u001b[0mr12\u001b[0m\u001b[0;34m[\u001b[0m\u001b[0;36m0\u001b[0m\u001b[0;34m]\u001b[0m\u001b[0;34m,\u001b[0m\u001b[0mr12\u001b[0m\u001b[0;34m[\u001b[0m\u001b[0;36m1\u001b[0m\u001b[0;34m]\u001b[0m\u001b[0;34m,\u001b[0m\u001b[0;36m0\u001b[0m\u001b[0;34m)\u001b[0m\u001b[0;34m)\u001b[0m\u001b[0;34m,\u001b[0m \u001b[0mvp\u001b[0m\u001b[0;34m.\u001b[0m\u001b[0mmag\u001b[0m\u001b[0;34m(\u001b[0m\u001b[0mvec\u001b[0m\u001b[0;34m(\u001b[0m\u001b[0mr13\u001b[0m\u001b[0;34m[\u001b[0m\u001b[0;36m0\u001b[0m\u001b[0;34m]\u001b[0m\u001b[0;34m,\u001b[0m\u001b[0mr13\u001b[0m\u001b[0;34m[\u001b[0m\u001b[0;36m1\u001b[0m\u001b[0;34m]\u001b[0m\u001b[0;34m,\u001b[0m\u001b[0;36m0\u001b[0m\u001b[0;34m)\u001b[0m\u001b[0;34m)\u001b[0m\u001b[0;34m)\u001b[0m\u001b[0;34m\u001b[0m\u001b[0m\n\u001b[0;32m---> 23\u001b[0;31m         \u001b[0mvp\u001b[0m\u001b[0;34m.\u001b[0m\u001b[0mrate\u001b[0m\u001b[0;34m(\u001b[0m\u001b[0;36m100\u001b[0m \u001b[0;34m/\u001b[0m \u001b[0mlimiter\u001b[0m\u001b[0;34m)\u001b[0m   \u001b[0;31m# limit animation speed\u001b[0m\u001b[0;34m\u001b[0m\u001b[0m\n\u001b[0m\u001b[1;32m     24\u001b[0m \u001b[0;34m\u001b[0m\u001b[0m\n\u001b[1;32m     25\u001b[0m         \u001b[0mr1\u001b[0m\u001b[0;34m,\u001b[0m \u001b[0mv1\u001b[0m \u001b[0;34m=\u001b[0m \u001b[0mleapfrog\u001b[0m\u001b[0;34m(\u001b[0m\u001b[0mstar\u001b[0m\u001b[0;34m,\u001b[0m \u001b[0mr1\u001b[0m\u001b[0;34m,\u001b[0m \u001b[0mv1\u001b[0m\u001b[0;34m,\u001b[0m \u001b[0mr2\u001b[0m\u001b[0;34m,\u001b[0m \u001b[0mr3\u001b[0m\u001b[0;34m,\u001b[0m \u001b[0mt\u001b[0m\u001b[0;34m,\u001b[0m \u001b[0mh\u001b[0m\u001b[0;34m)\u001b[0m  \u001b[0;31m# integrate\u001b[0m\u001b[0;34m\u001b[0m\u001b[0m\n",
      "\u001b[0;32m~/anaconda3/lib/python3.6/site-packages/vpython/vpython.py\u001b[0m in \u001b[0;36m__call__\u001b[0;34m(self, N)\u001b[0m\n\u001b[1;32m    214\u001b[0m         \u001b[0mself\u001b[0m\u001b[0;34m.\u001b[0m\u001b[0mrval\u001b[0m \u001b[0;34m=\u001b[0m \u001b[0mN\u001b[0m\u001b[0;34m\u001b[0m\u001b[0m\n\u001b[1;32m    215\u001b[0m         \u001b[0;32mif\u001b[0m \u001b[0mself\u001b[0m\u001b[0;34m.\u001b[0m\u001b[0mrval\u001b[0m \u001b[0;34m<\u001b[0m \u001b[0;36m1\u001b[0m\u001b[0;34m:\u001b[0m \u001b[0;32mraise\u001b[0m \u001b[0mValueError\u001b[0m\u001b[0;34m(\u001b[0m\u001b[0;34m\"rate value must be greater than or equal to 1\"\u001b[0m\u001b[0;34m)\u001b[0m\u001b[0;34m\u001b[0m\u001b[0m\n\u001b[0;32m--> 216\u001b[0;31m         \u001b[0msuper\u001b[0m\u001b[0;34m(\u001b[0m\u001b[0m_RateKeeper2\u001b[0m\u001b[0;34m,\u001b[0m \u001b[0mself\u001b[0m\u001b[0;34m)\u001b[0m\u001b[0;34m.\u001b[0m\u001b[0m__call__\u001b[0m\u001b[0;34m(\u001b[0m\u001b[0mself\u001b[0m\u001b[0;34m.\u001b[0m\u001b[0mrval\u001b[0m\u001b[0;34m)\u001b[0m \u001b[0;31m## calls __call__ in rate_control.py\u001b[0m\u001b[0;34m\u001b[0m\u001b[0m\n\u001b[0m\u001b[1;32m    217\u001b[0m \u001b[0;34m\u001b[0m\u001b[0m\n\u001b[1;32m    218\u001b[0m \u001b[0;32mif\u001b[0m \u001b[0msys\u001b[0m\u001b[0;34m.\u001b[0m\u001b[0mversion\u001b[0m \u001b[0;34m>\u001b[0m \u001b[0;34m'3'\u001b[0m\u001b[0;34m:\u001b[0m\u001b[0;34m\u001b[0m\u001b[0m\n",
      "\u001b[0;32m~/anaconda3/lib/python3.6/site-packages/vpython/rate_control.py\u001b[0m in \u001b[0;36m__call__\u001b[0;34m(self, maxRate)\u001b[0m\n\u001b[1;32m    199\u001b[0m                 \u001b[0;32mif\u001b[0m \u001b[0mself\u001b[0m\u001b[0;34m.\u001b[0m\u001b[0mwhenToRender\u001b[0m\u001b[0;34m[\u001b[0m\u001b[0mself\u001b[0m\u001b[0;34m.\u001b[0m\u001b[0mrenderIndex\u001b[0m\u001b[0;34m]\u001b[0m \u001b[0;34m==\u001b[0m \u001b[0mself\u001b[0m\u001b[0;34m.\u001b[0m\u001b[0mrateCount\u001b[0m\u001b[0;34m:\u001b[0m\u001b[0;34m\u001b[0m\u001b[0m\n\u001b[1;32m    200\u001b[0m                     \u001b[0msleeps\u001b[0m \u001b[0;34m+=\u001b[0m \u001b[0;36m1\u001b[0m\u001b[0;34m\u001b[0m\u001b[0m\n\u001b[0;32m--> 201\u001b[0;31m                     \u001b[0m_sleep\u001b[0m\u001b[0;34m(\u001b[0m\u001b[0mself\u001b[0m\u001b[0;34m.\u001b[0m\u001b[0minteractionPeriod\u001b[0m\u001b[0;34m)\u001b[0m\u001b[0;34m\u001b[0m\u001b[0m\n\u001b[0m\u001b[1;32m    202\u001b[0m                 \u001b[0;32melse\u001b[0m\u001b[0;34m:\u001b[0m\u001b[0;34m\u001b[0m\u001b[0m\n\u001b[1;32m    203\u001b[0m                     \u001b[0;32mbreak\u001b[0m\u001b[0;34m\u001b[0m\u001b[0m\n",
      "\u001b[0;32m~/anaconda3/lib/python3.6/site-packages/vpython/rate_control.py\u001b[0m in \u001b[0;36m_sleep\u001b[0;34m(dt)\u001b[0m\n\u001b[1;32m     47\u001b[0m         \u001b[0mdtsleep\u001b[0m \u001b[0;34m=\u001b[0m \u001b[0mnticks\u001b[0m\u001b[0;34m*\u001b[0m\u001b[0m_tick\u001b[0m\u001b[0;34m\u001b[0m\u001b[0m\n\u001b[1;32m     48\u001b[0m         \u001b[0mt\u001b[0m \u001b[0;34m=\u001b[0m \u001b[0m_clock\u001b[0m\u001b[0;34m(\u001b[0m\u001b[0;34m)\u001b[0m\u001b[0;34m\u001b[0m\u001b[0m\n\u001b[0;32m---> 49\u001b[0;31m         \u001b[0mtime\u001b[0m\u001b[0;34m.\u001b[0m\u001b[0msleep\u001b[0m\u001b[0;34m(\u001b[0m\u001b[0mdtsleep\u001b[0m\u001b[0;34m)\u001b[0m\u001b[0;34m\u001b[0m\u001b[0m\n\u001b[0m\u001b[1;32m     50\u001b[0m         \u001b[0mt\u001b[0m \u001b[0;34m=\u001b[0m \u001b[0m_clock\u001b[0m\u001b[0;34m(\u001b[0m\u001b[0;34m)\u001b[0m\u001b[0;34m-\u001b[0m\u001b[0mt\u001b[0m\u001b[0;34m\u001b[0m\u001b[0m\n\u001b[1;32m     51\u001b[0m         \u001b[0mdt\u001b[0m \u001b[0;34m-=\u001b[0m \u001b[0mt\u001b[0m\u001b[0;34m\u001b[0m\u001b[0m\n",
      "\u001b[0;31mKeyboardInterrupt\u001b[0m: "
     ]
    }
   ],
   "source": [
    "#Animation      \n",
    "def go():\n",
    "    r1 = np.array([3.0, 1.0]) \n",
    "    v1 = np.array([0.0, 0.0]) \n",
    "    r2 = np.array([-1.0, -2.0]) \n",
    "    v2 = np.array([0.0, 0.0]) \n",
    "    r3 = np.array([-1.0, 1.0]) \n",
    "    v3 = np.array([0.0, 0.0]) \n",
    "    \n",
    "    # draw the scene, planet earth/path, sun/sunlight               \n",
    "    scene = vp.canvas(title='Planetary motion',          # scene start \n",
    "                       background=vec(.2,.5,1), forward=vec(0,2,-1))\n",
    "    star1 = vp.sphere(pos=vec(r1[0],r1[1],0), radius=0.1, make_trail=True, up=vec(0,0,1))\n",
    "    star2 = vp.sphere(pos=vec(r2[0],r2[1],0), radius=0.1, make_trail=True, up=vec(0,0,1))\n",
    "    star3 = vp.sphere(pos=vec(r3[0],r3[1],0), radius=0.1, make_trail=True, up=vec(0,0,1))\n",
    "    sunlight = vp.local_light(pos=vec(0,0,0), color=vp.color.yellow) #scn end \n",
    "    \n",
    "    t, h = 0.0, 0.001\n",
    "    while True:\n",
    "        r12 = r2 - r1\n",
    "        r13 = r3 - r1\n",
    "        limiter = np.minimum(vp.mag(vec(r12[0],r12[1],0)), vp.mag(vec(r13[0],r13[1],0)))\n",
    "        vp.rate(100 / limiter)   # limit animation speed\n",
    "        \n",
    "        r1, v1 = leapfrog(star, r1, v1, r2, r3, t, h)  # integrate \n",
    "        star1.pos = vec(r1[0],r1[1],0)           # move planet  \n",
    "        r2, v2 = leapfrog(star, r2, v2, r1, r3, t, h)  # integrate \n",
    "        star2.pos = vec(r2[0],r2[1],0)           # move planet  \n",
    "        r3, v3 = leapfrog(star, r3, v3, r1, r2, t, h)  # integrate \n",
    "        star3.pos = vec(r3[0],r3[1],0)           # move planet  \n",
    "\n",
    "        \n",
    "m1 = 150\n",
    "m2 = 200\n",
    "m3 = 250\n",
    "go()"
   ]
  },
  {
   "cell_type": "code",
   "execution_count": null,
   "metadata": {},
   "outputs": [],
   "source": []
  }
 ],
 "metadata": {
  "kernelspec": {
   "display_name": "VPython",
   "language": "python",
   "name": "vpython"
  },
  "language_info": {
   "codemirror_mode": {
    "name": "ipython",
    "version": 3
   },
   "file_extension": ".py",
   "mimetype": "text/x-python",
   "name": "python",
   "nbconvert_exporter": "python",
   "pygments_lexer": "ipython3",
   "version": "3.6.4"
  }
 },
 "nbformat": 4,
 "nbformat_minor": 1
}
