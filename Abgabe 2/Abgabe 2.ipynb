{
 "cells": [
  {
   "cell_type": "markdown",
   "metadata": {},
   "source": [
    "# Abgabe 2: Klassische Mechanik 2\n",
    "\n",
    "**Teammitglieder:** René Zarwel, Matthias Kastenmüller"
   ]
  },
  {
   "cell_type": "code",
   "execution_count": 1,
   "metadata": {},
   "outputs": [
    {
     "data": {
      "application/javascript": [
       "require.undef(\"nbextensions/vpython_libraries/glow.min\");"
      ],
      "text/plain": [
       "<IPython.core.display.Javascript object>"
      ]
     },
     "metadata": {},
     "output_type": "display_data"
    },
    {
     "data": {
      "application/javascript": [
       "require.undef(\"nbextensions/vpython_libraries/glowcomm\");"
      ],
      "text/plain": [
       "<IPython.core.display.Javascript object>"
      ]
     },
     "metadata": {},
     "output_type": "display_data"
    },
    {
     "data": {
      "application/javascript": [
       "require.undef(\"nbextensions/vpython_libraries/jquery-ui.custom.min\");"
      ],
      "text/plain": [
       "<IPython.core.display.Javascript object>"
      ]
     },
     "metadata": {},
     "output_type": "display_data"
    },
    {
     "data": {
      "application/javascript": [
       "require([\"nbextensions/vpython_libraries/glow.min\"], function(){console.log(\"GLOW LOADED\");})"
      ],
      "text/plain": [
       "<IPython.core.display.Javascript object>"
      ]
     },
     "metadata": {},
     "output_type": "display_data"
    },
    {
     "data": {
      "application/javascript": [
       "require([\"nbextensions/vpython_libraries/glowcomm\"], function(){console.log(\"GLOWCOMM LOADED\");})"
      ],
      "text/plain": [
       "<IPython.core.display.Javascript object>"
      ]
     },
     "metadata": {},
     "output_type": "display_data"
    },
    {
     "data": {
      "application/javascript": [
       "require([\"nbextensions/vpython_libraries/jquery-ui.custom.min\"], function(){console.log(\"JQUERY LOADED\");})"
      ],
      "text/plain": [
       "<IPython.core.display.Javascript object>"
      ]
     },
     "metadata": {},
     "output_type": "display_data"
    },
    {
     "data": {
      "text/html": [
       "<div id=\"glowscript\" class=\"glowscript\"></div>"
      ],
      "text/plain": [
       "<IPython.core.display.HTML object>"
      ]
     },
     "metadata": {},
     "output_type": "display_data"
    },
    {
     "data": {
      "application/javascript": [
       "window.__context = { glowscript_container: $(\"#glowscript\").removeAttr(\"id\")}"
      ],
      "text/plain": [
       "<IPython.core.display.Javascript object>"
      ]
     },
     "metadata": {},
     "output_type": "display_data"
    }
   ],
   "source": [
    "import matplotlib.pyplot as plt\n",
    "import pylab as pylab\n",
    "import numpy.polynomial.polynomial as poly\n",
    "import numpy as np\n",
    "from scipy.integrate import odeint\n",
    "import math\n",
    "from numpy import array, polyval, polyfit\n",
    "import vpython as vp         # get VPython modules for animation\n",
    "vec=vp.vector"
   ]
  },
  {
   "cell_type": "markdown",
   "metadata": {},
   "source": [
    "## Aufgabe 1: Umlaufzeit"
   ]
  },
  {
   "cell_type": "markdown",
   "metadata": {},
   "source": [
    "`<INSERT DESCRIPTION HERE>`"
   ]
  },
  {
   "cell_type": "code",
   "execution_count": 2,
   "metadata": {},
   "outputs": [
    {
     "name": "stdout",
     "output_type": "stream",
     "text": [
      "C=17.046411581708377 und n=1.508036297446902\n",
      "Für den Wert T=6.2 ergibt sich ein r=0.5113672986808556\n"
     ]
    },
    {
     "data": {
      "text/plain": [
       "[<matplotlib.lines.Line2D at 0x1515313198>]"
      ]
     },
     "execution_count": 2,
     "metadata": {},
     "output_type": "execute_result"
    },
    {
     "data": {
      "image/png": "[encoded data removed]",
      "text/plain": [
       "<matplotlib.figure.Figure at 0x150f906d68>"
      ]
     },
     "metadata": {},
     "output_type": "display_data"
    }
   ],
   "source": [
    "# Gegebene Funktion & Umgestellt nach r\n",
    "T = lambda r,C,n: C*r**n\n",
    "r = lambda T,C,n: (T/C)**(1/n)\n",
    "\n",
    "# Eingangsdaten\n",
    "Tdata = array([0.44, 1.61, 3.88, 7.89])\n",
    "rdata = array([0.088, 0.208, 0.374, 0.600])\n",
    "\n",
    "plt.loglog(rdata, Tdata, 'o-')\n",
    "\n",
    "# Logarithmieren der Eingangsdaten\n",
    "TdataLog = np.log(Tdata)\n",
    "rdataLog = np.log(rdata)\n",
    "\n",
    "# Lösen durch Geradengleichung\n",
    "n = (TdataLog[0]-TdataLog[1])/(rdataLog[0]-rdataLog[1])\n",
    "C = Tdata[3]/rdata[3]**n\n",
    "print(\"C=\" + str(C) + \" und n=\" + str(n))\n",
    "plt.loglog(rdata, T(rdata,C,n), '*-')\n",
    "\n",
    "# Berechnung des fehlenden Wertes\n",
    "Tmiss = 6.20\n",
    "rmiss = r(6.2,C,n)\n",
    "print(\"Für den Wert T=\" + str(Tmiss) + \" ergibt sich ein r=\" + str(rmiss))\n",
    "plt.loglog(rmiss, Tmiss, '+')"
   ]
  },
  {
   "cell_type": "markdown",
   "metadata": {},
   "source": [
    "## Aufgabe 2"
   ]
  },
  {
   "cell_type": "code",
   "execution_count": 3,
   "metadata": {},
   "outputs": [],
   "source": [
    "\n",
    "g=9.81\n",
    "G=6.67408*10**-11\n",
    "mErde=5.972*10**24\n",
    "mSonne=1.989*10**30"
   ]
  },
  {
   "cell_type": "code",
   "execution_count": 4,
   "metadata": {},
   "outputs": [
    {
     "data": {
      "text/plain": [
       "6.674079999999999e-11"
      ]
     },
     "execution_count": 4,
     "metadata": {},
     "output_type": "execute_result"
    }
   ],
   "source": [
    "G"
   ]
  },
  {
   "cell_type": "code",
   "execution_count": 5,
   "metadata": {},
   "outputs": [
    {
     "data": {
      "text/plain": [
       "<matplotlib.collections.PathCollection at 0x15187334a8>"
      ]
     },
     "execution_count": 5,
     "metadata": {},
     "output_type": "execute_result"
    },
    {
     "data": {
      "image/png": "[encoded data removed]",
      "text/plain": [
       "<matplotlib.figure.Figure at 0x15187331d0>"
      ]
     },
     "metadata": {},
     "output_type": "display_data"
    }
   ],
   "source": [
    "factor = 3600 \n",
    "yearsTimeSpan = 5\n",
    "deltaT = 1 * factor\n",
    "\n",
    "def distance(p1, p2):\n",
    "    return math.sqrt((p1[0]-p2[0])**2 + (p1[1]-p2[1])**2)\n",
    "\n",
    "def direction(p1, p2):\n",
    "    return [p2[0] - p1[0], p2[1] - p1[1]]\n",
    "\n",
    "def acceleration(mOwn, pOwn, mOther, pOther):\n",
    "    intermed = -G * mOther / (distance(pOwn, pOther)**3)\n",
    "    return [element * intermed for element in direction(pOther, pOwn)]\n",
    "\n",
    "def calc(vErde, vSonne, pErde, pSonne):\n",
    "    koordsSonne = [[pSonne[0], pSonne[1], vSonne[0], vSonne[1]]]\n",
    "    koordsErde  = [[pErde[0], pErde[1], vErde[0], vErde[1]]]\n",
    "\n",
    "    for x in range(0, int(yearsTimeSpan * 365 * 24 * 3600 / factor)):\n",
    "        deltaTNeu = deltaT / 2\n",
    "        pErde = [pErde[0] + deltaTNeu * vErde[0], pErde[1] + deltaTNeu * vErde[1]]\n",
    "        acc = acceleration(mErde, pErde, mSonne, pSonne)\n",
    "        vErde = [vErde[0] + deltaT * acc[0], vErde[1] + deltaT * acc[1]] \n",
    "        pErde = [pErde[0] + deltaTNeu * vErde[0], pErde[1] + deltaTNeu * vErde[1]]\n",
    "\n",
    "        pSonne = [pSonne[0] + deltaTNeu * vSonne[0], pSonne[1] + deltaTNeu * vSonne[1]]\n",
    "        acc = acceleration(mSonne, pSonne, mErde, pErde)\n",
    "        vSonne = [vSonne[0] + deltaT * acc[0], vSonne[1] + deltaT * acc[1]] \n",
    "        pSonne = [pSonne[0] + deltaTNeu * vSonne[0], pSonne[1] + deltaTNeu * vSonne[1]]\n",
    "\n",
    "        \n",
    "        koordsErde.append([pErde[0], pErde[1], vErde[0], vErde[1]])\n",
    "        koordsSonne.append([pSonne[0], pSonne[1], vSonne[0], vSonne[1]])\n",
    "\n",
    "    return [koordsErde, koordsSonne]\n",
    "            \n",
    "def calcAlt(vErde, vSonne, pErde, pSonne):\n",
    "    koordsSonne = [[pSonne[0], pSonne[1], vSonne[0], vSonne[1]]]\n",
    "    koordsErde  = [[pErde[0], pErde[1], vErde[0], vErde[1]]]\n",
    "\n",
    "    for x in range(0, int(yearsTimeSpan * 365 * 24 * 3600 / factor)):\n",
    "        aErde  = acceleration(mErde, pErde, mSonne, pSonne)\n",
    "        aSonne = acceleration(mSonne, pSonne, mErde, pErde)\n",
    "\n",
    "        vErde = [vErde[0] + aErde[0] * deltaT, vErde[1] + aErde[1] * deltaT]\n",
    "        vSonne = [vSonne[0] + aSonne[0] * deltaT, vSonne[1] + aSonne[1] * deltaT]\n",
    "\n",
    "        pErde = [pErde[0] + vErde[0] * deltaT, pErde[1] + vErde[1] * deltaT]\n",
    "        pSonne = [pSonne[0] + vSonne[0] * deltaT, pSonne[1] + vSonne[1] * deltaT]\n",
    "    \n",
    "        koordsErde.append([pErde[0], pErde[1], vErde[0], vErde[1]])\n",
    "        koordsSonne.append([pSonne[0], pSonne[1], vSonne[0], vSonne[1]])\n",
    "    return [koordsErde, koordsSonne]\n",
    "    \n",
    "vErde  = [0.0, 29.8 * 10**3]\n",
    "vSonne = [0.0, 0.0]\n",
    "pErde  = [1.4960*(10**11), 0.0]\n",
    "pSonne = [0.0, 0.0]\n",
    "data = calc(vErde, vSonne, pErde, pSonne)\n",
    "\n",
    "plt.scatter([element[0] for element in data[0]], [element[1] for element in data[0]])       \n",
    "plt.scatter([element[0] for element in data[1]], [element[1] for element in data[1]])      \n"
   ]
  },
  {
   "cell_type": "markdown",
   "metadata": {},
   "source": [
    "Wie zu erwarten war, ist zu erkennen, dass die Erde die Sonne umkreist. Die Bahn der Sonne fällt auf einen Punkt zusammen, da sie aufgrund ihrer sehr hohen Masse eine Bahn mit sehr geringen Durchmesser durchläuft. Wird nur die Bahn der Sonne eingezeichnet so erhällt man folgendes:"
   ]
  },
  {
   "cell_type": "code",
   "execution_count": 6,
   "metadata": {},
   "outputs": [
    {
     "data": {
      "text/plain": [
       "<matplotlib.collections.PathCollection at 0x15153ba550>"
      ]
     },
     "execution_count": 6,
     "metadata": {},
     "output_type": "execute_result"
    },
    {
     "data": {
      "image/png": "[encoded data removed]",
      "text/plain": [
       "<matplotlib.figure.Figure at 0x151871e208>"
      ]
     },
     "metadata": {},
     "output_type": "display_data"
    }
   ],
   "source": [
    "plt.scatter([element[0] for element in data[1]], [element[1] for element in data[1]])      \n"
   ]
  },
  {
   "cell_type": "markdown",
   "metadata": {},
   "source": [
    "Dieses Ergebnis ist auf dem ersten Blick sehr überraschend, da eine Ellipsenbahn von uns erwartet wurde. \n",
    "Da zum Zeitpunkt t=0 die Sonne ihre Geschwindigkeit v=0 gesetzt wurde, aber die Erde bereits in Bewegung war und alle Impulse in der Summe 0 ergeben müssen, bedeutet das, dass der Schwerpunk des Systems zum Zeitpunkt t=0 in Bewegung sein musste.\n",
    "\n",
    "Diese Tatsache wurde in obiger Kalkulation nicht berücksichtigt.\n",
    "Führt man selbige Berechnung mit einer Anfangsgeschwindigkeit für die Sonne durch, so dass ihr Impuls betraglich dem der Erde entspricht, so erhällt man folgendes Ergebnis:"
   ]
  },
  {
   "cell_type": "code",
   "execution_count": 7,
   "metadata": {},
   "outputs": [
    {
     "data": {
      "text/plain": [
       "<matplotlib.collections.PathCollection at 0x1518759a58>"
      ]
     },
     "execution_count": 7,
     "metadata": {},
     "output_type": "execute_result"
    },
    {
     "data": {
      "image/png": "[encoded data removed]",
      "text/plain": [
       "<matplotlib.figure.Figure at 0x1518793c88>"
      ]
     },
     "metadata": {},
     "output_type": "display_data"
    }
   ],
   "source": [
    "vErde  = [0.0, 29.8 * 10**3]\n",
    "vSonne = [-mErde / mSonne * vErde[0], -mErde / mSonne * vErde[1]]\n",
    "pErde  = [1.4960*(10**11), 0.0]\n",
    "pSonne = [0.0, 0.0]\n",
    "data = calc(vErde, vSonne, pErde, pSonne)\n",
    "plt.scatter([element[0] for element in data[1]], [element[1] for element in data[1]])      \n"
   ]
  },
  {
   "cell_type": "markdown",
   "metadata": {},
   "source": [
    "Da der Schwerpunk nun ruhend ist, entsteht der zunächst erahnte Effekt, dass die Sonne eine Ellipsenbahn vollzieht."
   ]
  },
  {
   "cell_type": "markdown",
   "metadata": {},
   "source": [
    "Um das System nun zu validieren, wird nun der Impuls über alle Messwerte errechnet. Dieser muss für alle Messwerte den gleichen Wert ergeben:"
   ]
  },
  {
   "cell_type": "code",
   "execution_count": 8,
   "metadata": {},
   "outputs": [
    {
     "data": {
      "text/plain": [
       "<matplotlib.collections.PathCollection at 0x1518a19588>"
      ]
     },
     "execution_count": 8,
     "metadata": {},
     "output_type": "execute_result"
    },
    {
     "data": {
      "image/png": "[encoded data removed]",
      "text/plain": [
       "<matplotlib.figure.Figure at 0x151877d358>"
      ]
     },
     "metadata": {},
     "output_type": "display_data"
    }
   ],
   "source": [
    "def impuls(masse, geschwindigkeit):\n",
    "    return masse * geschwindigkeit\n",
    "\n",
    "sumImpulseX = []\n",
    "sumImpulseY = []\n",
    "\n",
    "for index in range(0, len(data[0])):\n",
    "    sumImpulseX.append(impuls(mErde, data[0][index][2]) + impuls(mSonne, data[1][index][2]))\n",
    "    sumImpulseY.append(impuls(mErde, data[0][index][3]) + impuls(mSonne, data[1][index][3]))\n",
    "\n",
    "plt.scatter(range(0, len(data[0])), sumImpulseX)\n",
    "plt.scatter(range(0, len(data[0])), sumImpulseY)"
   ]
  },
  {
   "cell_type": "markdown",
   "metadata": {},
   "source": [
    "Da der Impulserhaltungssatz gilt, müssen die einzelnen Messwerte um einen konstanten Wert fluktuieren. Da das Bezugssystem ruhend und keine weiteren Einflüsse neben Sonne und Erde eingegangen sind, ist der konstante Wert 0.\n",
    "Die Größenordnung des Fehlers erscheint zunächst erschreckend, im Verhälltnis zum letzten errechneten Wert für den Impuls der Sonne zeigt sich jedoch:"
   ]
  },
  {
   "cell_type": "code",
   "execution_count": 9,
   "metadata": {},
   "outputs": [
    {
     "data": {
      "text/plain": [
       "[-9.858194840248786e+27, -1.7769567493221588e+29]"
      ]
     },
     "execution_count": 9,
     "metadata": {},
     "output_type": "execute_result"
    }
   ],
   "source": [
    "[impuls(mSonne, data[1][-1][2]), impuls(mSonne, data[1][-1][3])]"
   ]
  },
  {
   "cell_type": "markdown",
   "metadata": {},
   "source": [
    "Der letzte errechnete Impuls der Sonne bewegt sich hier bei 1e27 bzw 1e29. Ein Fehler in der Größenordnung von 1e15 ist also vernachlässigbar."
   ]
  },
  {
   "cell_type": "markdown",
   "metadata": {},
   "source": [
    "Eine weitere Kontrolle der numerischen Berechnung kann mithilfe des Energieerhaltungssatzes vorgenommen werden. Da weder Energie dem System hinzugefügt noch entfernt wird, muss diese über alle Berechnungen hinweg konstant bleiben. Für eine vollständige Berechnung muss im vorliegenden Fall die chinetische und die potenzielle Energie betrachtet werden."
   ]
  },
  {
   "cell_type": "code",
   "execution_count": 10,
   "metadata": {},
   "outputs": [
    {
     "data": {
      "text/plain": [
       "-2.647554454998686e+33"
      ]
     },
     "execution_count": 10,
     "metadata": {},
     "output_type": "execute_result"
    },
    {
     "data": {
      "image/png": "[encoded data removed]",
      "text/plain": [
       "<matplotlib.figure.Figure at 0x1518bf4908>"
      ]
     },
     "metadata": {},
     "output_type": "display_data"
    }
   ],
   "source": [
    "def potEnergie(masse1, masse2, distanz):\n",
    "    return -G * masse1 * masse2 / distanz\n",
    "\n",
    "def chinEnergie(masse, geschwindigkeit):\n",
    "    return 0.5 * masse * geschwindigkeit ** 2\n",
    "\n",
    "sumEnergie = []\n",
    "for index in range(0, len(data[0])):\n",
    "    distanceSonneErde = distance(data[0][index], data[1][index])\n",
    "    sumEnergie.append(\n",
    "    chinEnergie(mErde, math.sqrt(data[0][index][2]**2 + data[0][index][3]**2))\n",
    "    +chinEnergie(mSonne, math.sqrt(data[1][index][2]**2 + data[1][index][3]**2))\n",
    "    +potEnergie(mSonne, mErde, distanceSonneErde)\n",
    "    )\n",
    "plt.scatter(range(0, len(data[0])), sumEnergie)\n",
    "sumEnergie[-1]\n"
   ]
  },
  {
   "cell_type": "code",
   "execution_count": 11,
   "metadata": {},
   "outputs": [
    {
     "data": {
      "text/plain": [
       "<matplotlib.collections.PathCollection at 0x1518bc9e10>"
      ]
     },
     "execution_count": 11,
     "metadata": {},
     "output_type": "execute_result"
    },
    {
     "data": {
      "image/png": "[encoded data removed]",
      "text/plain": [
       "<matplotlib.figure.Figure at 0x1518bff2b0>"
      ]
     },
     "metadata": {},
     "output_type": "display_data"
    }
   ],
   "source": [
    "ls = []\n",
    "\n",
    "for index in range(0, len(data[0])):\n",
    "    px = impuls(mErde, data[0][index][2]) + impuls(mSonne, data[1][index][2])\n",
    "    py = impuls(mErde, data[0][index][3]) + impuls(mSonne, data[1][index][3])\n",
    "    direc = direction(data[0][index], data[1][index])\n",
    "    l = px*direc[1] - py*direc[0]\n",
    "    ls.append(l)\n",
    "\n",
    "plt.scatter(range(0, len(data[0])), ls)"
   ]
  },
  {
   "cell_type": "markdown",
   "metadata": {},
   "source": [
    "## Aufgabe 3"
   ]
  },
  {
   "cell_type": "markdown",
   "metadata": {},
   "source": [
    "Die Ort eines Objekts lässt sich über Polarkoordinaten ausdrücken.\n",
    "Der radiale Vektor sowie die Position auf der Kreisbahn lassen sich wie folgt ausdrücken."
   ]
  },
  {
   "cell_type": "markdown",
   "metadata": {},
   "source": [
    "\\begin{align}\n",
    "\\vec{e_r} = \\vec{e_x} * cos(\\varphi) + \\vec{e_y} * sin(\\varphi)\\\\\n",
    "\\vec{e_\\varphi} = -\\vec{e_x} * sin(\\varphi) + \\vec{e_y} * cos(\\varphi)\n",
    "\\end{align}"
   ]
  },
  {
   "cell_type": "markdown",
   "metadata": {},
   "source": [
    "Als lineares Gleichungssystem ergibt sich nun:"
   ]
  },
  {
   "cell_type": "markdown",
   "metadata": {},
   "source": [
    "\\begin{align}\n",
    "\\vec{e_r} = \\left( \\begin{array}{c}\n",
    "  \\cos(\\varphi) \\\\\n",
    "  \\sin(\\varphi) \\\\\n",
    "\\end{array} \\right) \n",
    "\\end{align}"
   ]
  },
  {
   "cell_type": "markdown",
   "metadata": {},
   "source": [
    "\\begin{align}\n",
    "\\vec{e_\\varphi} = \\left( \\begin{array}{c}\n",
    "  -sin(\\varphi) \\\\\n",
    "  \\cos(\\varphi) \\\\\n",
    "\\end{array} \\right) \n",
    "\\end{align}"
   ]
  },
  {
   "cell_type": "markdown",
   "metadata": {},
   "source": [
    "Durch Ableiten erhält man die Geschwindigkeiten:"
   ]
  },
  {
   "cell_type": "markdown",
   "metadata": {},
   "source": [
    "\\begin{align}\n",
    "\\dot{\\vec{e_r}} = \\left( \\begin{array}{c}\n",
    "  -\\sin(\\varphi) * \\dot{\\varphi} \\\\\n",
    "  \\cos(\\varphi) * \\dot{\\varphi} \\\\\n",
    "\\end{array} \\right) = \\dot{\\varphi} * \\left( \\begin{array}{c}\n",
    "  -\\sin(\\varphi) \\\\\n",
    "  \\cos(\\varphi) \\\\\n",
    "\\end{array} \\right) = \\dot{\\varphi} * \\vec{e_\\varphi}\n",
    "\\end{align}"
   ]
  },
  {
   "cell_type": "markdown",
   "metadata": {},
   "source": [
    "\\begin{align}\n",
    "\\dot{\\vec{e_\\varphi}} = \\left( \\begin{array}{c}\n",
    "-\\cos(\\varphi) * \\dot{\\varphi}\\\\\n",
    " -\\sin(\\varphi) * \\dot{\\varphi} \\\\\n",
    "\\end{array} \\right) = - \\dot{\\varphi} * \\vec{e_r}\n",
    "\\end{align}"
   ]
  },
  {
   "cell_type": "markdown",
   "metadata": {},
   "source": [
    "Daraus ergibt sich die radiale Winkelgeschwindigkeit:"
   ]
  },
  {
   "cell_type": "markdown",
   "metadata": {},
   "source": [
    "\\begin{align}\n",
    "\\left( \\begin{array}{c}\n",
    "  \\dot{x} \\\\\n",
    "  \\dot{y} \\\\\n",
    "\\end{array} \\right) = \\dot{r} * \\vec{e_r} + r \\dot{\\varphi} \\vec{e_\\varphi}\n",
    "\\end{align}"
   ]
  },
  {
   "cell_type": "markdown",
   "metadata": {},
   "source": [
    "Durch erneute Ableitung\n",
    "\n",
    "\\begin{align}\n",
    "\\left( \\begin{array}{c}\n",
    "  \\ddot{x} \\\\\n",
    "  \\dot{y} \\\\\n",
    "\\end{array} \\right) = \\ddot{r}\\vec{e_r} + \\dot{r} \\dot{\\varphi} \\vec{e_\\varphi} + r\\ddot{\\varphi}\\vec{e_\\varphi} + r\\dot{\\varphi}(-\\dot{\\varphi}\\vec{e_r}) = (\\ddot{r} - r\\dot{\\varphi}^2)\\vec{e_r} + (2r\\ddot{\\varphi} + r \\dot{\\varphi}) \\vec{e_\\varphi}\n",
    "\\end{align}"
   ]
  },
  {
   "cell_type": "markdown",
   "metadata": {},
   "source": [
    "Daraus ergibt sich die Radialkraft(Beschleunigung vom Körper weg)\n",
    "\n",
    "\\begin{align}\n",
    "F_r = m (\\ddot{\\vec{r}} - r\\dot{\\varphi}^2)\n",
    "\\end{align}\n",
    "\n",
    "sowie die Winkelkraft (Beschleunigung in Bewegungsrichtung)\n",
    "\n",
    "\\begin{align}\n",
    "F_\\varphi = m (r\\ddot{\\varphi} + 2r\\dot{\\varphi})\n",
    "\\end{align}"
   ]
  },
  {
   "cell_type": "markdown",
   "metadata": {},
   "source": [
    "Die Radialkraft wirkt der Anziehungskraft der 2 Körper entgegen, sie heben sich also gegenseitig auf und bleibt über die Zeit immer 0, die potentielle Energie ändert sich also nicht:\n",
    "    \n",
    "\\begin{align}\n",
    "m (\\ddot{\\vec{r}} - r\\dot{\\varphi}^2) = -G \\frac{mM}{r^2}\n",
    "\\end{align}\n",
    "\n",
    "Die Winkelkraft bleibt immer 0, das bedeutet es wirkt keine Bescheunigung in Richtung der Kreisbahn, die Geschwindigkeit bleibt gleich.\n",
    "\n",
    "\\begin{align}\n",
    "m (r\\ddot{\\varphi} + 2r\\dot{\\varphi}) = 0\n",
    "\\end{align}"
   ]
  },
  {
   "cell_type": "markdown",
   "metadata": {},
   "source": [
    "Energieerhaltungssatz\n",
    "\n",
    "\\begin{align}\n",
    "E = E_{pot}  + E_{kin}\\\\\n",
    "E = 1/2 * m * v^2 - \\frac{GmM}{r^2}\n",
    "\\end{align}\n",
    "\n",
    "In Polarkoordinaten:\n",
    "\\begin{align}\n",
    "E = m/2(\\dot{r^2} + (r\\dot{\\varphi})^2) - \\frac{GmM}{r^2}\n",
    "\\end{align}\n",
    "\n",
    "Für diese Formel ergibt sich durch Ableitung nach der Zeit:\n",
    "\\begin{align}\n",
    "\\frac{dE}{dt} = 0\n",
    "\\end{align}"
   ]
  },
  {
   "cell_type": "markdown",
   "metadata": {},
   "source": [
    "Impulserhaltungssatz\n",
    "\n",
    "Ein Impuls wird beschrieben mit:\n",
    "\\begin{align}\n",
    "L = m  + v\\\\\n",
    "\\end{align}\n",
    "\n",
    "In Polarkoordinaten:\n",
    "\\begin{align}\n",
    "L = m (\\ddot{\\vec{r}} - r\\dot{\\varphi}^2)\n",
    "\\end{align}\n",
    "\n",
    "Abgeleitet nach der Zeit ergibt sich\n",
    "\\begin{align}\n",
    "\\frac{dL}{dt} = 0\n",
    "\\end{align}\n"
   ]
  },
  {
   "cell_type": "markdown",
   "metadata": {},
   "source": [
    "Drehimpuls\n",
    "\n",
    "Der Drehimpuls in Polarkoordinaten wird wie folgt beschrieben:\n",
    "    \n",
    "\\begin{align}\n",
    "L = m r^2 \\dot{\\varphi}\n",
    "\\end{align}\n",
    "\n",
    "Durch Ableitung nach der Zeit\n",
    "\n",
    "\\begin{align}\n",
    "\\frac{dL}{dt}\n",
    "\\end{align}\n",
    "\n",
    "ergibt sich:\n",
    "\n",
    "\\begin{align}\n",
    "m2r\\dot{r}\\dot{\\varphi} + mr^2\\ddot{\\varphi}\\\\\n",
    "mr(2\\dot{r}\\dot{\\varphi} + r\\ddot{\\varphi}) = 0\n",
    "\\end{align}"
   ]
  },
  {
   "cell_type": "code",
   "execution_count": null,
   "metadata": {},
   "outputs": [],
   "source": []
  },
  {
   "cell_type": "code",
   "execution_count": null,
   "metadata": {},
   "outputs": [],
   "source": []
  },
  {
   "cell_type": "markdown",
   "metadata": {},
   "source": [
    "## Aufgabe 4"
   ]
  },
  {
   "cell_type": "code",
   "execution_count": 12,
   "metadata": {},
   "outputs": [
    {
     "data": {
      "text/plain": [
       "[<matplotlib.lines.Line2D at 0x1518a70b38>]"
      ]
     },
     "execution_count": 12,
     "metadata": {},
     "output_type": "execute_result"
    },
    {
     "data": {
      "image/png": "[encoded data removed]",
      "text/plain": [
       "<matplotlib.figure.Figure at 0x1518bf9c50>"
      ]
     },
     "metadata": {},
     "output_type": "display_data"
    }
   ],
   "source": [
    "mErde=5.972*10**24\n",
    "mSonne=1.989*10**30\n",
    "yearsTimeSpan = 20\n",
    "\n",
    "vErde  = [0.0, 10 * 10**3]\n",
    "vSonne = [-mErde / mSonne * vErde[0], -mErde / mSonne * vErde[1]]\n",
    "pErde  = [1.4960*(10**11), 0.0]\n",
    "pSonne = [0.0, 0.0]\n",
    "data = calc(vErde, vSonne, pErde, pSonne)\n",
    "\n",
    "plt.plot([element[0] for element in data[0]], [element[1] for element in data[0]], '-')       \n",
    "plt.plot([element[0] for element in data[1]], [element[1] for element in data[1]], 'ro')    \n",
    "\n",
    "vErde  = [0.0, 20 * 10**3]\n",
    "vSonne = [-mErde / mSonne * vErde[0], -mErde / mSonne * vErde[1]]\n",
    "data = calc(vErde, vSonne, pErde, pSonne)\n",
    "plt.plot([element[0] for element in data[0]], [element[1] for element in data[0]], '-')       \n",
    "\n",
    "vErde  = [0.0, 30 * 10**3]\n",
    "vSonne = [-mErde / mSonne * vErde[0], -mErde / mSonne * vErde[1]]\n",
    "data = calc(vErde, vSonne, pErde, pSonne)\n",
    "plt.plot([element[0] for element in data[0]], [element[1] for element in data[0]], '-')       \n",
    "\n",
    "vErde  = [0.0, 40 * 10**3]\n",
    "vSonne = [-mErde / mSonne * vErde[0], -mErde / mSonne * vErde[1]]\n",
    "data = calc(vErde, vSonne, pErde, pSonne)\n",
    "plt.plot([element[0] for element in data[0]], [element[1] for element in data[0]], '-') "
   ]
  },
  {
   "cell_type": "markdown",
   "metadata": {},
   "source": [
    "## Aufgabe 5"
   ]
  },
  {
   "cell_type": "code",
   "execution_count": 13,
   "metadata": {},
   "outputs": [
    {
     "data": {
      "text/plain": [
       "[<matplotlib.lines.Line2D at 0x1518a37c18>]"
      ]
     },
     "execution_count": 13,
     "metadata": {},
     "output_type": "execute_result"
    },
    {
     "data": {
      "image/png": "[encoded data removed]",
      "text/plain": [
       "<matplotlib.figure.Figure at 0x151871e668>"
      ]
     },
     "metadata": {},
     "output_type": "display_data"
    }
   ],
   "source": [
    "mErde=5.972*10**24\n",
    "mSonne=mErde * 1.01\n",
    "\n",
    "vErde  = [0.0, 5 * 10**1]\n",
    "vSonne = [-mErde / mSonne * vErde[0], -mErde / mSonne * vErde[1]]\n",
    "pErde  = [1.4960*(10**10), 0.0]\n",
    "pSonne = [0.0, 0.0]\n",
    "yearsTimeSpan = 20\n",
    "data = calc(vErde, vSonne, pErde, pSonne)\n",
    "\n",
    "plt.plot([element[0] for element in data[0]], [element[1] for element in data[0]], '-')       \n",
    "plt.plot([element[0] for element in data[1]], [element[1] for element in data[1]], '-')  "
   ]
  },
  {
   "cell_type": "code",
   "execution_count": null,
   "metadata": {},
   "outputs": [],
   "source": []
  },
  {
   "cell_type": "markdown",
   "metadata": {},
   "source": [
    "## Aufgabe 6: Drei Sterne"
   ]
  },
  {
   "cell_type": "markdown",
   "metadata": {},
   "source": [
    "Auf den Stern 1 wirkt die Anziehungskraft von Stern 2 und Stern 3. Zusammen ergeben sie die auf den Stern 1 wirkende Kraft:\n",
    "\n",
    "$$\n",
    "\\vec{F_1} = m_1 \\cdot \\ddot{r} = \\vec{F_{12}} + \\vec{F_{13}}\n",
    "$$\n",
    "\n",
    "Damit kann jede wirkende Anziehungskraft separat betrachtet werden. Durch einsetzen der jeweils wirkenden Anziehungskraft ergibt sich folgende Gleichung:\n",
    "\n",
    "$$\n",
    "m_1 \\cdot \\ddot{r} = G\\frac{m_2 \\cdot m_1}{r_{12}^3}\\vec{r_{12}} + G\\frac{m_3 \\cdot m_1}{r_{13}^3}\\vec{r_{13}}\n",
    "$$\n",
    "\n",
    "Da $m_1$ auf der rechten Seite ausgeklammert werden kann und somit auf beiden Seiten gleichermaßen vorkommt, kann es aufgehoben werden. Desweiteren ersetzen wir die Richtungsvektoren $\\vec{r_{12}}$ und $\\vec{r_{13}}$ durch die Berechnung aus den Positionsvektoren. Gleichermaßen wird mit den im Nenner vorhandenen Längen der Richtungsvektoren verfahren. Somit ergibt sich die gegebene Gleichung:\n",
    "\n",
    "$$\n",
    "\\ddot{\\vec{r_1}} = Gm_2\\frac{\\vec{r_2}-\\vec{r_1}}{|\\vec{r_2}-\\vec{r_1}|^3}+Gm_3\\frac{\\vec{r_3}-\\vec{r_1}}{|\\vec{r_3}-\\vec{r_1}|^3}\n",
    "$$\n",
    "\n",
    "Allgemein kann die Gleichung auch folgendermaßen fomuliert werden:\n",
    "\n",
    "$$\n",
    "\\ddot{\\vec{r_1}} = G \\displaystyle\\sum_{i=2}^{n} m_i\\frac{\\vec{r_i}-\\vec{r_1}}{|\\vec{r_i}-\\vec{r_1}|^3} \\\\\n",
    "n = \\text{ Anzahl der Sterne}\n",
    "$$\n",
    "\n",
    "Dies kann auf die anderen Sterne übertragen werden und somit ergeben sich für Stern 2 und 3 folgende Bewegungsgleichungen:\n",
    "\n",
    "$$\n",
    "\\ddot{\\vec{r_2}} = Gm_1\\frac{\\vec{r_1}-\\vec{r_2}}{|\\vec{r_1}-\\vec{r_2}|^3}+Gm_3\\frac{\\vec{r_3}-\\vec{r_2}}{|\\vec{r_3}-\\vec{r_2}|^3} \\\\\n",
    "\\ddot{\\vec{r_3}} = Gm_1\\frac{\\vec{r_1}-\\vec{r_3}}{|\\vec{r_1}-\\vec{r_3}|^3}+Gm_2\\frac{\\vec{r_2}-\\vec{r_3}}{|\\vec{r_2}-\\vec{r_3}|^3}\n",
    "$$"
   ]
  },
  {
   "cell_type": "markdown",
   "metadata": {},
   "source": [
    "### Plot der Bewegung\n",
    "\n",
    "Im folgenden wird die Bewegung der 3 Sterne für 10 Sekunden berechnet und im Breich von -4 bis 4 für x und y geplottet."
   ]
  },
  {
   "cell_type": "code",
   "execution_count": 14,
   "metadata": {},
   "outputs": [
    {
     "data": {
      "text/plain": [
       "(-3, 3)"
      ]
     },
     "execution_count": 14,
     "metadata": {},
     "output_type": "execute_result"
    },
    {
     "data": {
      "image/png": "[encoded data removed]",
      "text/plain": [
       "<matplotlib.figure.Figure at 0x1523188f28>"
      ]
     },
     "metadata": {},
     "output_type": "display_data"
    }
   ],
   "source": [
    "def leapfrog(lfdiffeq, r1, v1, r2, r3, h):       # vectorized leapfrog\n",
    "    \"\"\" vector leapfrog method using numpy arrays.\n",
    "        It solves general (r,v) ODEs as: \n",
    "        dr[i]/dt = f[i](v), and dv[i]/dt = g[i](r).\n",
    "        User supplied lfdiffeq(id, r, v, t) returns\n",
    "        f[i](r) if id=0, or g[i](v) if id=1.\n",
    "        It must return a numpy array if i>1 \"\"\"\n",
    "    hh = h/2.0\n",
    "    r11 = r1 + hh*lfdiffeq(0, r1, r2, r3, v1)     # 1st: r at h/2 using v0    @\\lbl{line:lf1}@\n",
    "    v11 = v1 +  h*lfdiffeq(1, r11, r2, r3, v1)  # 2nd: v1 using a(r) at h/2 @\\lbl{line:lf2}@\n",
    "    r11 = r11 + hh*lfdiffeq(0, r1, r2, r3, v11)   # 3rd: r1 at h using v1     @\\lbl{line:lf3}@\n",
    "    return r11, v11\n",
    "  \n",
    "     \n",
    "def star(id, r1, r2, r3, v):            # return the eqns of motion\n",
    "    if (id == 0): return v         # velocity, dr/dt\n",
    "    r12 = r2 - r1\n",
    "    r13 = r3 - r1\n",
    "    s12 = vp.mag(vec(r12[0],r12[1],0))   # $s=|\\vec{r}|$\n",
    "    s13 = vp.mag(vec(r13[0],r13[1],0))   # $s=|\\vec{r}|$\n",
    "    return m2*r12/(s12*s12*s12) + m3*r13/(s13*s13*s13)         # accel dv/dt, faster than s**3  \n",
    "\n",
    "# Startpositions\n",
    "r1 = [np.array([3.0, 1.0])] \n",
    "v1 = np.array([0.0, 0.0]) \n",
    "r2 = [np.array([-1.0, -2.0])] \n",
    "v2 = np.array([0.0, 0.0]) \n",
    "r3 = [np.array([-1.0, 1.0])] \n",
    "v3 = np.array([0.0, 0.0])\n",
    "m1 = 150\n",
    "m2 = 200\n",
    "m3 = 250\n",
    "t, h = 0.0, 1.5/20000\n",
    "\n",
    "while t < 1.5:\n",
    "    r1_tmp, v1 = leapfrog(star, r1[-1], v1, r2[-1], r3[-1], h)  # integrate \n",
    "    r1.append(r1_tmp)\n",
    "    r2_tmp, v2 = leapfrog(star, r2[-1], v2, r1[-1], r3[-1], h)  # integrate \n",
    "    r2.append(r2_tmp)\n",
    "    r3_tmp, v3 = leapfrog(star, r3[-1], v3, r1[-1], r2[-1], h)  # integrate \n",
    "    r3.append(r3_tmp)\n",
    "    t += h\n",
    "    \n",
    "plt.title('Flugbahn der 3 Sterne')\n",
    "plt.ylabel('y')\n",
    "plt.xlabel('x')\n",
    "plt.plot([v[0] for v in r1], [v[1] for v in r1])\n",
    "plt.plot([v[0] for v in r2], [v[1] for v in r2])\n",
    "plt.plot([v[0] for v in r3], [v[1] for v in r3])\n",
    "axes = plt.gca()\n",
    "s =3\n",
    "axes.set_xlim([-s,s])\n",
    "axes.set_ylim([-s,s])"
   ]
  },
  {
   "cell_type": "markdown",
   "metadata": {},
   "source": [
    "Man sieht, das die 3 Sterne sich zunächst gegenseitig anziehen und aufeinander zufliegen. Anschließend werden sie durch die hohe Anziehungskraft in der Nähe der jeweils anderen Sterne voneinander schnell weggedrängt. Dieses Verhalten wird in der Raumfahrt auch genutzt und nennt sich Swing-By.\n",
    "\n",
    "Diese Bewegung wird im folgenden als Animation dargestellt."
   ]
  },
  {
   "cell_type": "code",
   "execution_count": 15,
   "metadata": {},
   "outputs": [
    {
     "data": {
      "text/html": [
       "<div id=\"glowscript\" class=\"glowscript\"></div>"
      ],
      "text/plain": [
       "<IPython.core.display.HTML object>"
      ]
     },
     "metadata": {},
     "output_type": "display_data"
    },
    {
     "data": {
      "application/javascript": [
       "window.__context = { glowscript_container: $(\"#glowscript\").removeAttr(\"id\")}"
      ],
      "text/plain": [
       "<IPython.core.display.Javascript object>"
      ]
     },
     "metadata": {},
     "output_type": "display_data"
    }
   ],
   "source": [
    "# draw the scene              \n",
    "scene = vp.canvas(title='Planetary motion',          # scene start \n",
    "                   background=vec(.2,.5,1), forward=vec(0,2,-1))\n",
    "star1 = vp.sphere(pos=vec(r1[0][0],r1[0][1],0), radius=0.1, make_trail=True, up=vec(0,0,1))\n",
    "star2 = vp.sphere(pos=vec(r2[0][0],r2[0][1],0), radius=0.1, make_trail=True, up=vec(0,0,1))\n",
    "star3 = vp.sphere(pos=vec(r3[0][0],r3[0][1],0), radius=0.1, make_trail=True, up=vec(0,0,1))\n",
    "sunlight = vp.local_light(pos=vec(0,0,0), color=vp.color.yellow) #scn end \n",
    "\n",
    "for i in range(len(r1)):\n",
    "    vp.rate(500)   # limit animation speed\n",
    "\n",
    "    star1.pos = vec(r1[i][0],r1[i][1],0)           # move planet  \n",
    "    star2.pos = vec(r2[i][0],r2[i][1],0)           # move planet  \n",
    "    star3.pos = vec(r3[i][0],r3[i][1],0)           # move planet  \n",
    "\n",
    "        "
   ]
  },
  {
   "cell_type": "code",
   "execution_count": null,
   "metadata": {},
   "outputs": [],
   "source": []
  }
 ],
 "metadata": {
  "kernelspec": {
   "display_name": "VPython",
   "language": "python",
   "name": "vpython"
  },
  "language_info": {
   "codemirror_mode": {
    "name": "ipython",
    "version": 3
   },
   "file_extension": ".py",
   "mimetype": "text/x-python",
   "name": "python",
   "nbconvert_exporter": "python",
   "pygments_lexer": "ipython3",
   "version": "3.6.4"
  }
 },
 "nbformat": 4,
 "nbformat_minor": 1
}
