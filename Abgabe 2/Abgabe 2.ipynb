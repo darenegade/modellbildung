{
 "cells": [
  {
   "cell_type": "markdown",
   "metadata": {},
   "source": [
    "# Abgabe 2: Klassische Mechanik 2\n",
    "\n",
    "**Teammitglieder:** René Zarwel, Matthias Kastenmüller\n",
    "\n",
    "<br>\n",
    "\n",
    "Importieren allgemein benötigter Bibliotheken:"
   ]
  },
  {
   "cell_type": "code",
   "execution_count": 1,
   "metadata": {},
   "outputs": [],
   "source": [
    "import matplotlib.pyplot as plt\n",
    "import matplotlib.patches as mpatches\n",
    "import pylab as pylab\n",
    "import numpy.polynomial.polynomial as poly\n",
    "import numpy as np\n",
    "from scipy.integrate import odeint\n",
    "import math\n",
    "from numpy import array, polyval, polyfit\n",
    "import vpython as vp         # get VPython modules for animation\n",
    "vec=vp.vector"
   ]
  },
  {
   "cell_type": "markdown",
   "metadata": {},
   "source": [
    "## Aufgabe 1: Umlaufzeit"
   ]
  },
  {
   "cell_type": "markdown",
   "metadata": {},
   "source": [
    "Die gegebene Formel $T=Cr^n$ ist eine Potenzfunktion. Diese wird bei doppelt logarithmischer Darstellung zu einer Geraden. Dies ergibt sich aus folgendem Zusammenhang:\n",
    "\n",
    "$$\n",
    "T = C \\cdot R^n \\Longrightarrow t = log(C) + n \\cdot r\n",
    "$$\n",
    "\n",
    "Damit kann durch logarithmieren der Daten die Steigung $n$ über die Lösung einer Geradengleichung mit den ersten beiden Messpunkten berechnet werden. Anschließend muss nur die $log(C)$ Verschiebung der Geraden ermittelt werden. Durch einfaches Umstellen der Gleichung und Einsetzen eines Punktes lässt sich dies lösen."
   ]
  },
  {
   "cell_type": "code",
   "execution_count": 2,
   "metadata": {
    "scrolled": false
   },
   "outputs": [
    {
     "name": "stdout",
     "output_type": "stream",
     "text": [
      "C=17.187437007248548 und n=1.508036297446902\n",
      "Für den Wert T=6.2 ergibt sich ein r=0.5085811166787044\n"
     ]
    },
    {
     "data": {
      "text/plain": [
       "Text(0,0.5,'Umlaufzeit (T)')"
      ]
     },
     "execution_count": 2,
     "metadata": {},
     "output_type": "execute_result"
    },
    {
     "data": {
      "image/png": "[encoded data removed]",
      "text/plain": [
       "<matplotlib.figure.Figure at 0x7f68dcf6af98>"
      ]
     },
     "metadata": {},
     "output_type": "display_data"
    }
   ],
   "source": [
    "# Gegebene Funktion & Umgestellt nach r\n",
    "T = lambda r,C,n: C*r**n\n",
    "r = lambda T,C,n: (T/C)**(1/n)\n",
    "\n",
    "# Eingangsdaten\n",
    "Tdata = array([0.44, 1.61, 3.88, 7.89])\n",
    "rdata = array([0.088, 0.208, 0.374, 0.600])\n",
    "\n",
    "# Logarithmische Darstellung der Daten\n",
    "plt.loglog(rdata, Tdata, 'o-')\n",
    "\n",
    "# Logarithmieren der Eingangsdaten\n",
    "TdataLog = np.log(Tdata)\n",
    "rdataLog = np.log(rdata)\n",
    "\n",
    "# Lösen durch Geradengleichung und Verschiebung\n",
    "n = (TdataLog[0]-TdataLog[1])/(rdataLog[0]-rdataLog[1])\n",
    "C = Tdata[0]/rdata[0]**n\n",
    "print(\"C=\" + str(C) + \" und n=\" + str(n))\n",
    "plt.loglog(rdata, T(rdata,C,n), '*-')\n",
    "\n",
    "# Berechnung des fehlenden Wertes\n",
    "Tmiss = 6.20\n",
    "rmiss = r(6.2,C,n)\n",
    "print(\"Für den Wert T=\" + str(Tmiss) + \" ergibt sich ein r=\" + str(rmiss))\n",
    "plt.loglog(rmiss, Tmiss, '+')\n",
    "\n",
    "# Plot Beschriftung\n",
    "plt.title('Logarithmische Darstellung der SAT Daten')\n",
    "plt.xlabel('Radius (r)')\n",
    "plt.ylabel('Umlaufzeit (T)')"
   ]
  },
  {
   "cell_type": "markdown",
   "metadata": {},
   "source": [
    "Wie in der oberen Grafik zu sehen ist, liegen alle Messpunkte (blau) auf der Geraden, obwohl für die Berechnung nur die ersten beiden Messpunkte verwendet wurden. Damit kann davon ausgegangen werden, dass sich die Daten mit der geg. Funktion darstellen lassen. \n",
    "\n",
    "Der fehlende Radius konnte durch Umstellen der Gleichung leicht ermittelt werden. (Siehe Ausgabe)  \n",
    "Zusätzlich wurde er in der Grafik als grünes Kreuz dargestellt."
   ]
  },
  {
   "cell_type": "markdown",
   "metadata": {},
   "source": [
    "## Aufgabe 2"
   ]
  },
  {
   "cell_type": "markdown",
   "metadata": {},
   "source": [
    "Zunächst werden einige Konstanten definiert, die für das restliche Notebook gelten."
   ]
  },
  {
   "cell_type": "code",
   "execution_count": 3,
   "metadata": {},
   "outputs": [],
   "source": [
    "g=9.81\n",
    "G=6.67408*10**-11\n",
    "mErde=5.972*10**24\n",
    "mSonne=1.989*10**30"
   ]
  },
  {
   "cell_type": "markdown",
   "metadata": {},
   "source": [
    "Um das Notebook möglichst übersichtlich zu halten, werden für einige Formeln einzelne Funktionen erstellt.\n",
    "\n",
    "#### distance: \n",
    "Berechnet die Distanz zwischen zwei Punkten. Die x- und y-Koordinaten müssen innerhalb des Arrays an erster und zweiter Stelle stehen.\n",
    "\n",
    "#### direction: \n",
    "Berechnet den Vektor aus zwei Punkten. Dabei ist der erste Punkt die Spitze resp. der zweite Punkt der Fuß. Der entstehende Vektor wird nicht normalisiert.\n",
    "\n",
    "#### acceleration: \n",
    "Berechnet die Beschleunigung die durch die Anziehung zwischen zwei Massen entsteht.\n",
    "\n",
    "#### calc: \n",
    "Errechnet numerisch die Bahn zweier Objekte, die durch die Anziehung der Massen entsteht. Die Massen sowie die Positionen werden als Argumente übergeben. Zur Justierung der Genauigkeit wird ein Faktor angegeben. Dieser wird so gewählt, dass genügend Punkte errechnet werden, sodass eine hinreichende Genauigkeit bei akzeptabler Laufzeit erreicht wird. Zurückgegeben wird ein Array, das alle errechneten Punkte (Position und Geschwindigkeit) für beide Objekte enthällt.\n"
   ]
  },
  {
   "cell_type": "code",
   "execution_count": 4,
   "metadata": {},
   "outputs": [],
   "source": [
    "factor = 3600 \n",
    "yearsTimeSpan = 5\n",
    "deltaT = 1 * factor\n",
    "\n",
    "def distance(p1, p2):\n",
    "    return math.sqrt((p1[0]-p2[0])**2 + (p1[1]-p2[1])**2)\n",
    "\n",
    "def direction(p1, p2):\n",
    "    return [p2[0] - p1[0], p2[1] - p1[1]]\n",
    "\n",
    "def acceleration(mOwn, pOwn, mOther, pOther):\n",
    "    intermed = -G * mOther / (distance(pOwn, pOther)**3)\n",
    "    return [element * intermed for element in direction(pOther, pOwn)]\n",
    "\n",
    "def calc(vErde, vSonne, pErde, pSonne):\n",
    "    koordsSonne = [[pSonne[0], pSonne[1], vSonne[0], vSonne[1]]]\n",
    "    koordsErde  = [[pErde[0], pErde[1], vErde[0], vErde[1]]]\n",
    "\n",
    "    for x in range(0, int(yearsTimeSpan * 365 * 24 * 3600 / factor)):\n",
    "        deltaTNeu = deltaT / 2\n",
    "        pErde = [pErde[0] + deltaTNeu * vErde[0], pErde[1] + deltaTNeu * vErde[1]]\n",
    "        acc = acceleration(mErde, pErde, mSonne, pSonne)\n",
    "        vErde = [vErde[0] + deltaT * acc[0], vErde[1] + deltaT * acc[1]] \n",
    "        pErde = [pErde[0] + deltaTNeu * vErde[0], pErde[1] + deltaTNeu * vErde[1]]\n",
    "\n",
    "        pSonne = [pSonne[0] + deltaTNeu * vSonne[0], pSonne[1] + deltaTNeu * vSonne[1]]\n",
    "        acc = acceleration(mSonne, pSonne, mErde, pErde)\n",
    "        vSonne = [vSonne[0] + deltaT * acc[0], vSonne[1] + deltaT * acc[1]] \n",
    "        pSonne = [pSonne[0] + deltaTNeu * vSonne[0], pSonne[1] + deltaTNeu * vSonne[1]]\n",
    "\n",
    "        \n",
    "        koordsErde.append([pErde[0], pErde[1], vErde[0], vErde[1]])\n",
    "        koordsSonne.append([pSonne[0], pSonne[1], vSonne[0], vSonne[1]])\n",
    "\n",
    "    return [koordsErde, koordsSonne]\n",
    "            "
   ]
  },
  {
   "cell_type": "markdown",
   "metadata": {},
   "source": [
    "Mit den gegebenen Startwerten und definierten Funktionen werden nun die Bahnen für Sonne und Erde errechnet."
   ]
  },
  {
   "cell_type": "code",
   "execution_count": 5,
   "metadata": {},
   "outputs": [
    {
     "data": {
      "text/plain": [
       "Text(0,0.5,'Y')"
      ]
     },
     "execution_count": 5,
     "metadata": {},
     "output_type": "execute_result"
    },
    {
     "data": {
      "image/png": "[encoded data removed]",
      "text/plain": [
       "<matplotlib.figure.Figure at 0x7f68d48589b0>"
      ]
     },
     "metadata": {},
     "output_type": "display_data"
    }
   ],
   "source": [
    "vErde  = [0.0, 29.8 * 10**3]\n",
    "vSonne = [0.0, 0.0]\n",
    "pErde  = [1.4960*(10**11), 0.0]\n",
    "pSonne = [0.0, 0.0]\n",
    "data = calc(vErde, vSonne, pErde, pSonne)\n",
    "\n",
    "plt.scatter([element[0] for element in data[0]], [element[1] for element in data[0]])       \n",
    "plt.scatter([element[0] for element in data[1]], [element[1] for element in data[1]])      \n",
    "\n",
    "# Plot Beschriftung\n",
    "plt.title('Darstellung der Bahnen')\n",
    "plt.xlabel('X')\n",
    "plt.ylabel('Y')"
   ]
  },
  {
   "cell_type": "markdown",
   "metadata": {},
   "source": [
    "Wie zu erwarten war, ist zu erkennen, dass die Erde die Sonne umkreist. Die Bahn der Sonne fällt in der Grafik auf einen Punkt zusammen, da sie aufgrund ihrer sehr hohen Masse eine Bahn mit sehr geringen Durchmesser durchläuft. Wird nur die Bahn der Sonne eingezeichnet so erhällt man folgendes:"
   ]
  },
  {
   "cell_type": "code",
   "execution_count": 6,
   "metadata": {},
   "outputs": [
    {
     "data": {
      "text/plain": [
       "Text(0,0.5,'Y')"
      ]
     },
     "execution_count": 6,
     "metadata": {},
     "output_type": "execute_result"
    },
    {
     "data": {
      "image/png": "[encoded data removed]",
      "text/plain": [
       "<matplotlib.figure.Figure at 0x7f68d48f9208>"
      ]
     },
     "metadata": {},
     "output_type": "display_data"
    }
   ],
   "source": [
    "plt.scatter([element[0] for element in data[1]], [element[1] for element in data[1]])      \n",
    "# Plot Beschriftung\n",
    "plt.title('Darstellung der Bahn der Sonne')\n",
    "plt.xlabel('X')\n",
    "plt.ylabel('Y')"
   ]
  },
  {
   "cell_type": "markdown",
   "metadata": {},
   "source": [
    "Dieses Ergebnis ist auf dem ersten Blick sehr überraschend, da eine Ellipsenbahn von uns erwartet wurde. \n",
    "Da zum Zeitpunkt t=0 die Sonne ihre Geschwindigkeit v=0 gesetzt wurde, aber die Erde bereits in Bewegung war und alle Impulse in der Summe 0 ergeben müssen, bedeutet das, dass der Schwerpunk des Systems zum Zeitpunkt t=0 in Bewegung sein musste.\n",
    "\n",
    "Diese Tatsache wurde in obiger Kalkulation nicht berücksichtigt.\n",
    "Führt man selbige Berechnung mit einer Anfangsgeschwindigkeit für die Sonne durch, so dass ihr Impuls betraglich dem der Erde entspricht, so erhällt man folgendes Ergebnis:"
   ]
  },
  {
   "cell_type": "code",
   "execution_count": 7,
   "metadata": {},
   "outputs": [
    {
     "data": {
      "text/plain": [
       "Text(0,0.5,'Y')"
      ]
     },
     "execution_count": 7,
     "metadata": {},
     "output_type": "execute_result"
    },
    {
     "data": {
      "image/png": "[encoded data removed]",
      "text/plain": [
       "<matplotlib.figure.Figure at 0x7f68d378da90>"
      ]
     },
     "metadata": {},
     "output_type": "display_data"
    }
   ],
   "source": [
    "vErde  = [0.0, 29.8 * 10**3]\n",
    "vSonne = [-mErde / mSonne * vErde[0], -mErde / mSonne * vErde[1]]\n",
    "pErde  = [1.4960*(10**11), 0.0]\n",
    "pSonne = [0.0, 0.0]\n",
    "data = calc(vErde, vSonne, pErde, pSonne)\n",
    "plt.scatter([element[0] for element in data[1]], [element[1] for element in data[1]])      \n",
    "\n",
    "plt.title('Darstellung der Bahn der Sonne mit Anfangsgeschwindigkeit')\n",
    "plt.xlabel('X')\n",
    "plt.ylabel('Y')"
   ]
  },
  {
   "cell_type": "markdown",
   "metadata": {},
   "source": [
    "Da der Schwerpunk nun ruhend ist, entsteht der zunächst erahnte Effekt, dass die Sonne eine Kreisbewegung vollzieht."
   ]
  },
  {
   "cell_type": "markdown",
   "metadata": {},
   "source": [
    "Um das System nun zu validieren, wird nun der Impuls über alle Messwerte errechnet. Dieser muss für alle Messwerte den gleichen Wert ergeben. Auch hier wurde zunächst eine Funktion definiert, die den Impuls berechnet."
   ]
  },
  {
   "cell_type": "code",
   "execution_count": 8,
   "metadata": {},
   "outputs": [
    {
     "data": {
      "text/plain": [
       "Text(0,0.5,'Impuls p')"
      ]
     },
     "execution_count": 8,
     "metadata": {},
     "output_type": "execute_result"
    },
    {
     "data": {
      "image/png": "[encoded data removed]",
      "text/plain": [
       "<matplotlib.figure.Figure at 0x7f68d484eba8>"
      ]
     },
     "metadata": {},
     "output_type": "display_data"
    }
   ],
   "source": [
    "def impuls(masse, geschwindigkeit):\n",
    "    return masse * geschwindigkeit\n",
    "\n",
    "sumImpulseX = []\n",
    "sumImpulseY = []\n",
    "\n",
    "for index in range(0, len(data[0])):\n",
    "    sumImpulseX.append(impuls(mErde, data[0][index][2]) + impuls(mSonne, data[1][index][2]))\n",
    "    sumImpulseY.append(impuls(mErde, data[0][index][3]) + impuls(mSonne, data[1][index][3]))\n",
    "\n",
    "plt.scatter(range(0, len(data[0])), sumImpulseX)\n",
    "plt.scatter(range(0, len(data[0])), sumImpulseY)\n",
    "\n",
    "plt.title('Impuls')\n",
    "plt.xlabel('Werte')\n",
    "plt.ylabel('Impuls p')"
   ]
  },
  {
   "cell_type": "markdown",
   "metadata": {},
   "source": [
    "Da der Impulserhaltungssatz gilt, müssen die einzelnen Messwerte um einen konstanten Wert fluktuieren."
   ]
  },
  {
   "cell_type": "markdown",
   "metadata": {},
   "source": [
    "Eine weitere Kontrolle der numerischen Berechnung kann mithilfe des Energieerhaltungssatzes vorgenommen werden. Da weder Energie dem System hinzugefügt noch entfernt wird, muss diese über alle Berechnungen hinweg konstant bleiben. Für eine vollständige Berechnung muss im vorliegenden Fall die chinetische und die potenzielle Energie betrachtet werden."
   ]
  },
  {
   "cell_type": "code",
   "execution_count": 9,
   "metadata": {},
   "outputs": [
    {
     "data": {
      "text/plain": [
       "Text(0,0.5,'Energie E')"
      ]
     },
     "execution_count": 9,
     "metadata": {},
     "output_type": "execute_result"
    },
    {
     "data": {
      "image/png": "[encoded data removed]",
      "text/plain": [
       "<matplotlib.figure.Figure at 0x7f68d48ad630>"
      ]
     },
     "metadata": {},
     "output_type": "display_data"
    }
   ],
   "source": [
    "def potEnergie(masse1, masse2, distanz):\n",
    "    return -G * masse1 * masse2 / distanz\n",
    "\n",
    "def chinEnergie(masse, geschwindigkeit):\n",
    "    return 0.5 * masse * geschwindigkeit ** 2\n",
    "\n",
    "sumEnergie = []\n",
    "for index in range(0, len(data[0])):\n",
    "    distanceSonneErde = distance(data[0][index], data[1][index])\n",
    "    sumEnergie.append(\n",
    "    chinEnergie(mErde, math.sqrt(data[0][index][2]**2 + data[0][index][3]**2))\n",
    "    +chinEnergie(mSonne, math.sqrt(data[1][index][2]**2 + data[1][index][3]**2))\n",
    "    +potEnergie(mSonne, mErde, distanceSonneErde)\n",
    "    )\n",
    "plt.scatter(range(0, len(data[0])), sumEnergie)\n",
    "sumEnergie[-1]\n",
    "\n",
    "plt.title('Energie')\n",
    "plt.xlabel('Werte')\n",
    "plt.ylabel('Energie E')\n"
   ]
  },
  {
   "cell_type": "markdown",
   "metadata": {},
   "source": [
    "Auch hier ist wieder zu erkennen, dass die Gesamtenergie konstant bleibt. Das ist darauf zurückzuführen, dass dem System weder Enegie hinzugeführt noch entfernt wird. Dieses Ergebnis validiert daher die numerische Berechnung.\n",
    "\n",
    "Als letzten Schritt wird nun der Drehimpuls berechnet. Dieser berechnet sich aus dem Kreuzprodukt des Ortsvektors der Objekte mit dessen Impuls. \n",
    "\\begin{align}\n",
    "\\vec{L} = \\left( \\begin{array}{c}\n",
    "  r_x \\\\\n",
    "  r_y \\\\\n",
    "  0  \\\\\n",
    "\\end{array} \\right) \n",
    "\\times\t\n",
    "\\left( \\begin{array}{c}\n",
    "  p_x \\\\\n",
    "  p_y \\\\\n",
    "  0  \\\\\n",
    "\\end{array} \\right) \n",
    "\\end{align}\n",
    "Da wir die Bewegung im R² betrachten, können die z-Komponenten mit 0 aufgefüllt werden. Multipliziert man das Kreuprodukt nun aus, so erhällt man:\n",
    "\\begin{align}\n",
    "\\vec{L} = \\left( \\begin{array}{c}\n",
    "  0 \\\\\n",
    "  0 \\\\\n",
    "  p_x*r_y-p_y*r_x  \\\\\n",
    "\\end{array} \\right) \n",
    "\\end{align}\n",
    "Da sich sowohl p als auch r in der x-y-Ebene befinden und der Drehimpuls senkrecht zu dieser Ebene stehen muss, ergibt sich für den Drehimpuls, dass dieser für x und y den Wert 0 annehmen muss.\n",
    "\n",
    "Für die weitere Berechnung betrachten wir daher nur \\begin{align}L_z\\end{align}"
   ]
  },
  {
   "cell_type": "code",
   "execution_count": 10,
   "metadata": {},
   "outputs": [
    {
     "data": {
      "text/plain": [
       "Text(0,0.5,'Drehimpuls L')"
      ]
     },
     "execution_count": 10,
     "metadata": {},
     "output_type": "execute_result"
    },
    {
     "data": {
      "image/png": "[encoded data removed]",
      "text/plain": [
       "<matplotlib.figure.Figure at 0x7f68d44f4550>"
      ]
     },
     "metadata": {},
     "output_type": "display_data"
    }
   ],
   "source": [
    "ls = []\n",
    "\n",
    "for index in range(0, len(data[0])):\n",
    "    px = impuls(mErde, data[0][index][2]) + impuls(mSonne, data[1][index][2])\n",
    "    py = impuls(mErde, data[0][index][3]) + impuls(mSonne, data[1][index][3])\n",
    "    direc = direction(data[0][index], data[1][index])\n",
    "    l = px*direc[1] - py*direc[0]\n",
    "    ls.append(l)\n",
    "\n",
    "plt.scatter(range(0, len(data[0])), ls)\n",
    "plt.title('Drehimpuls')\n",
    "plt.xlabel('Werte')\n",
    "plt.ylabel('Drehimpuls L')"
   ]
  },
  {
   "cell_type": "markdown",
   "metadata": {},
   "source": [
    "Auch hier ist wieder zu erkennen, dass der Wert wieder um einen konstanten Wert fluktuiert."
   ]
  },
  {
   "cell_type": "markdown",
   "metadata": {},
   "source": [
    "## Aufgabe 3"
   ]
  },
  {
   "cell_type": "markdown",
   "metadata": {},
   "source": [
    "Der Ort eines Objekts lässt sich über Polarkoordinaten ausdrücken.\n",
    "Der radiale Vektor sowie die Position auf der Kreisbahn lassen sich wie folgt ausdrücken:"
   ]
  },
  {
   "cell_type": "markdown",
   "metadata": {},
   "source": [
    "\\begin{align}\n",
    "\\vec{e_r} = \\vec{e_x} * cos(\\varphi) + \\vec{e_y} * sin(\\varphi)\\\\\n",
    "\\vec{e_\\varphi} = -\\vec{e_x} * sin(\\varphi) + \\vec{e_y} * cos(\\varphi)\n",
    "\\end{align}"
   ]
  },
  {
   "cell_type": "markdown",
   "metadata": {},
   "source": [
    "Als lineares Gleichungssystem ergibt sich nun:"
   ]
  },
  {
   "cell_type": "markdown",
   "metadata": {},
   "source": [
    "\\begin{align}\n",
    "\\vec{e_r} = \\left( \\begin{array}{c}\n",
    "  \\cos(\\varphi) \\\\\n",
    "  \\sin(\\varphi) \\\\\n",
    "\\end{array} \\right) \n",
    "\\end{align}"
   ]
  },
  {
   "cell_type": "markdown",
   "metadata": {},
   "source": [
    "\\begin{align}\n",
    "\\vec{e_\\varphi} = \\left( \\begin{array}{c}\n",
    "  -sin(\\varphi) \\\\\n",
    "  \\cos(\\varphi) \\\\\n",
    "\\end{array} \\right) \n",
    "\\end{align}"
   ]
  },
  {
   "cell_type": "markdown",
   "metadata": {},
   "source": [
    "Durch Ableiten erhält man die Geschwindigkeiten:"
   ]
  },
  {
   "cell_type": "markdown",
   "metadata": {},
   "source": [
    "\\begin{align}\n",
    "\\dot{\\vec{e_r}} = \\left( \\begin{array}{c}\n",
    "  -\\sin(\\varphi) * \\dot{\\varphi} \\\\\n",
    "  \\cos(\\varphi) * \\dot{\\varphi} \\\\\n",
    "\\end{array} \\right) = \\dot{\\varphi} * \\left( \\begin{array}{c}\n",
    "  -\\sin(\\varphi) \\\\\n",
    "  \\cos(\\varphi) \\\\\n",
    "\\end{array} \\right) = \\dot{\\varphi} * \\vec{e_\\varphi}\n",
    "\\end{align}"
   ]
  },
  {
   "cell_type": "markdown",
   "metadata": {},
   "source": [
    "\\begin{align}\n",
    "\\dot{\\vec{e_\\varphi}} = \\left( \\begin{array}{c}\n",
    "-\\cos(\\varphi) * \\dot{\\varphi}\\\\\n",
    " -\\sin(\\varphi) * \\dot{\\varphi} \\\\\n",
    "\\end{array} \\right) = - \\dot{\\varphi} * \\vec{e_r}\n",
    "\\end{align}"
   ]
  },
  {
   "cell_type": "markdown",
   "metadata": {},
   "source": [
    "Daraus ergibt sich die radiale Winkelgeschwindigkeit:"
   ]
  },
  {
   "cell_type": "markdown",
   "metadata": {},
   "source": [
    "\\begin{align}\n",
    "\\left( \\begin{array}{c}\n",
    "  \\dot{x} \\\\\n",
    "  \\dot{y} \\\\\n",
    "\\end{array} \\right) = \\dot{r} * \\vec{e_r} + r \\dot{\\varphi} \\vec{e_\\varphi}\n",
    "\\end{align}"
   ]
  },
  {
   "cell_type": "markdown",
   "metadata": {},
   "source": [
    "Durch erneute Ableitung erhält man die Beschleunigung\n",
    "\n",
    "\\begin{align}\n",
    "\\left( \\begin{array}{c}\n",
    "  \\ddot{x} \\\\\n",
    "  \\dot{y} \\\\\n",
    "\\end{array} \\right) = \\ddot{r}\\vec{e_r} + \\dot{r} \\dot{\\varphi} \\vec{e_\\varphi} + r\\ddot{\\varphi}\\vec{e_\\varphi} + r\\dot{\\varphi}(-\\dot{\\varphi}\\vec{e_r}) = (\\ddot{r} - r\\dot{\\varphi}^2)\\vec{e_r} + (2r\\ddot{\\varphi} + r \\dot{\\varphi}) \\vec{e_\\varphi}\n",
    "\\end{align}"
   ]
  },
  {
   "cell_type": "markdown",
   "metadata": {},
   "source": [
    "Daraus ergibt sich die Radialkraft(Beschleunigung vom Körper weg)\n",
    "\n",
    "\\begin{align}\n",
    "F_r = m (\\ddot{\\vec{r}} - r\\dot{\\varphi}^2)\n",
    "\\end{align}\n",
    "\n",
    "sowie die Winkelkraft (Beschleunigung in Bewegungsrichtung)\n",
    "\n",
    "\\begin{align}\n",
    "F_\\varphi = m (r\\ddot{\\varphi} + 2r\\dot{\\varphi})\n",
    "\\end{align}"
   ]
  },
  {
   "cell_type": "markdown",
   "metadata": {},
   "source": [
    "Die Radialkraft wirkt der Anziehungskraft der 2 Körper entgegen, sie heben sich also gegenseitig auf und bleibt über die Zeit immer 0. Die potentielle Energie ändert sich also nicht:\n",
    "    \n",
    "\\begin{align}\n",
    "m (\\ddot{\\vec{r}} - r\\dot{\\varphi}^2) = -G \\frac{mM}{r^2}\n",
    "\\end{align}\n",
    "\n",
    "Die Winkelkraft bleibt immer 0. Das bedeutet es wirkt keine Bescheunigung in Richtung der Kreisbahn. Die Geschwindigkeit bleibt gleich:\n",
    "\n",
    "\\begin{align}\n",
    "m (r\\ddot{\\varphi} + 2r\\dot{\\varphi}) = 0\n",
    "\\end{align}"
   ]
  },
  {
   "cell_type": "markdown",
   "metadata": {},
   "source": [
    "__Energieerhaltungssatz__\n",
    "\n",
    "\\begin{align}\n",
    "E = E_{pot}  + E_{kin}\\\\\n",
    "E = 1/2 * m * v^2 - \\frac{GmM}{r^2}\n",
    "\\end{align}\n",
    "\n",
    "In Polarkoordinaten:\n",
    "\\begin{align}\n",
    "E = m/2(\\dot{r^2} + (r\\dot{\\varphi})^2) - \\frac{GmM}{r^2}\n",
    "\\end{align}\n",
    "\n",
    "Für diese Formel ergibt sich durch Ableitung nach der Zeit:\n",
    "\\begin{align}\n",
    "\\frac{dE}{dt} = 0\n",
    "\\end{align}"
   ]
  },
  {
   "cell_type": "markdown",
   "metadata": {},
   "source": [
    "__Impulserhaltungssatz__\n",
    "\n",
    "Ein Impuls wird beschrieben mit:\n",
    "\\begin{align}\n",
    "L = m  + v\\\\\n",
    "\\end{align}\n",
    "\n",
    "In Polarkoordinaten:\n",
    "\\begin{align}\n",
    "L = m (\\ddot{\\vec{r}} - r\\dot{\\varphi}^2)\n",
    "\\end{align}\n",
    "\n",
    "Abgeleitet nach der Zeit ergibt sich\n",
    "\\begin{align}\n",
    "\\frac{dL}{dt} = 0\n",
    "\\end{align}\n"
   ]
  },
  {
   "cell_type": "markdown",
   "metadata": {},
   "source": [
    "__Drehimpuls__\n",
    "\n",
    "Der Drehimpuls in Polarkoordinaten wird wie folgt beschrieben:\n",
    "    \n",
    "\\begin{align}\n",
    "L = m r^2 \\dot{\\varphi}\n",
    "\\end{align}\n",
    "\n",
    "Durch Ableitung nach der Zeit\n",
    "\n",
    "\\begin{align}\n",
    "\\frac{dL}{dt}\n",
    "\\end{align}\n",
    "\n",
    "ergibt sich:\n",
    "\n",
    "\\begin{align}\n",
    "m2r\\dot{r}\\dot{\\varphi} + mr^2\\ddot{\\varphi}\\\\\n",
    "mr(2\\dot{r}\\dot{\\varphi} + r\\ddot{\\varphi}) = 0\n",
    "\\end{align}"
   ]
  },
  {
   "cell_type": "markdown",
   "metadata": {},
   "source": [
    "## Aufgabe 4"
   ]
  },
  {
   "cell_type": "markdown",
   "metadata": {},
   "source": [
    "In den folgenden Berechnungen wurde die Anfangsgeschwindigkeit der Erde von $10 \\cdot 10^3 m/s$ bis $40 \\cdot 10^3m/s$ variiert. Zusätzlich wurden 2 Grenzfälle betrachtet. \n",
    "\n",
    "Ein Wert kleiner $10 \\cdot 10^3 m/s$ hat sich als nicht zielführend erwiesen, da die Bahn der Erde damit unmittelbar durch die Sonne verläuft. So erfährt die Erde im Mittelpunkt der Sonne eine gegen Unendlich gehende Beschleunigung und wird aus dem System katapultiert. Dies ist eine Beschränkung des Modells, da in der Realität beide Planeten kolliedieren würden. \n",
    "\n",
    "Ein Wert größer $40 \\cdot 10^3 m/s$ hat sich auch nicht als zielführend erwiesen, da durch den extrem starken Impuls die Erde aus dem System fliegt und die Anziehung der Sonne dem zu schwach entgegen wirkt.\n",
    "\n",
    "Im folgenden werden die Variationen berechnet und als Plot dargestellt:"
   ]
  },
  {
   "cell_type": "code",
   "execution_count": 11,
   "metadata": {},
   "outputs": [
    {
     "data": {
      "text/plain": [
       "(-500000000000, 500000000000)"
      ]
     },
     "execution_count": 11,
     "metadata": {},
     "output_type": "execute_result"
    },
    {
     "data": {
      "image/png": "[encoded data removed]",
      "text/plain": [
       "<matplotlib.figure.Figure at 0x7f68d468bbe0>"
      ]
     },
     "metadata": {},
     "output_type": "display_data"
    }
   ],
   "source": [
    "mErde=5.972*10**24\n",
    "mSonne=1.989*10**30\n",
    "yearsTimeSpan = 20\n",
    "\n",
    "def calcAndPlotEarthMov(v, col):\n",
    "    vErde  = [0.0, v]\n",
    "    vSonne = [-mErde / mSonne * vErde[0], -mErde / mSonne * vErde[1]]\n",
    "    pErde  = [1.4960*(10**11), 0.0]\n",
    "    pSonne = [0.0, 0.0]\n",
    "    data = calc(vErde, vSonne, pErde, pSonne)\n",
    "    plt.plot([element[0] for element in data[0]], [element[1] for element in data[0]], '-', color=col)       \n",
    "    plt.plot([element[0] for element in data[1]], [element[1] for element in data[1]], 'ro')     \n",
    "\n",
    "calcAndPlotEarthMov(10  * 10**3, 'C0')\n",
    "calcAndPlotEarthMov(20  * 10**3, 'C1')\n",
    "calcAndPlotEarthMov(30  * 10**3, 'C2')\n",
    "calcAndPlotEarthMov(40  * 10**3, 'C3')\n",
    "#Grenzfälle\n",
    "calcAndPlotEarthMov(0   * 10**3, 'C4')\n",
    "calcAndPlotEarthMov(200 * 10**3, 'C5') \n",
    "\n",
    "# Plot Beschriftung\n",
    "plt.title('Variation der Anfangsgeschwindigkeit der Erde')\n",
    "plt.xlabel('X')\n",
    "plt.ylabel('Y')\n",
    "\n",
    "patch1 = mpatches.Patch(color='C0', label='10*10^3 m/s')\n",
    "patch2 = mpatches.Patch(color='C1', label='20*10^3 m/s')\n",
    "patch3 = mpatches.Patch(color='C2', label='30*10^3 m/s')\n",
    "patch4 = mpatches.Patch(color='C3', label='40*10^3 m/s')\n",
    "patch5 = mpatches.Patch(color='C4', label='0*10^3 m/s')\n",
    "patch6 = mpatches.Patch(color='C5', label='200*10^3 m/s')\n",
    "plt.legend(handles=[patch1,patch2,patch3,patch4,patch5,patch6])\n",
    "\n",
    "axes = plt.gca()\n",
    "axes.set_xlim([-1.4*10**12,0.2*10**12])\n",
    "axes.set_ylim([-5*10**11,5*10**11])"
   ]
  },
  {
   "cell_type": "markdown",
   "metadata": {},
   "source": [
    "In der obigen Grafik ist ersichtlich, dass bei einer geringen Anfangsgeschwindigkeit, hier $10 \\cdot 10^3 m/s$, die Erde nahe an der Sonne vorbeifliegt und in einem sog. Swing-By Geschwindigkeit aufnimmt. So ergibt sich eine elliptische Kurvenbahn. Bei einer Geschwindigkeit von $30 \\cdot 10^3 m/s$ ist der Impuls mit der Anziehungskraft ausgeglichen, wodurch sich eine kreisförmige Kurvenbahn ergibt. Durch weitere Steigung der Anfangsgeschwindigkeit entfernt sich die Erde zunächst stark von der Sonne. Durch die wirkende Anziehungskraft wird die Erde jedoch wieder zurück gezogen, wodurch sich auch hier eine elliptische Kurvenbahn ergibt. \n",
    "\n",
    "Der erste Grenzfall mit fehlender Anfangsgeschwindigkeit wurde bereits oben beschrieben. In der Grafik sieht man einen geraden Flug durch die Sonne. Auch der zweite Grenzfall mit einer gegen unendlich gehenden Anfangsgeschwindigkeit, hier beispielhaft $200 \\cdot 10^3 m/s$, wurde bereits erläutert. Hier ist er durch einen geraden Flug aus dem System ersichtlich."
   ]
  },
  {
   "cell_type": "markdown",
   "metadata": {},
   "source": [
    "## Aufgabe 5"
   ]
  },
  {
   "cell_type": "markdown",
   "metadata": {},
   "source": [
    "Im folgenden Modell entspricht das Gewicht der Sonne fast der Erde. Anschließend wird die Anfangsgeschwindigkeit variiert, wodurch sich unterschiedliche Flugbahnen ergeben.\n",
    "\n",
    "Dabei wurden die Grenzfälle nicht als Plot dargestellt, da diese dem Experiment aus der vorhergehenden Aufgabe entsprichen."
   ]
  },
  {
   "cell_type": "code",
   "execution_count": 12,
   "metadata": {},
   "outputs": [
    {
     "data": {
      "image/png": "[encoded data removed]",
      "text/plain": [
       "<matplotlib.figure.Figure at 0x7f68d43868d0>"
      ]
     },
     "metadata": {},
     "output_type": "display_data"
    }
   ],
   "source": [
    "def calcAndPlotSameWeightMov(vE, mErde, mSonne):\n",
    "    vErde  = [0.0, vE]\n",
    "    vSonne = [-mErde / mSonne * vErde[0], -mErde / mSonne * vErde[1]]\n",
    "    pErde  = [1.4960*(10**10), 0.0]\n",
    "    pSonne = [0.0, 0.0]\n",
    "    yearsTimeSpan = 20\n",
    "    data = calc(vErde, vSonne, pErde, pSonne)\n",
    "    plt.plot([element[0] for element in data[0]], [element[1] for element in data[0]], '-')       \n",
    "    plt.plot([element[0] for element in data[1]], [element[1] for element in data[1]], '-')  \n",
    "    # Plot Beschriftung\n",
    "    plt.title('Zwei Körper mit gleichem Gewicht')\n",
    "    plt.xlabel('X')\n",
    "    plt.ylabel('Y')\n",
    "\n",
    "#Config\n",
    "mErde=5.972*10**24\n",
    "mSonne=mErde * 1.01\n",
    "plt.subplots(figsize=(15, 5))\n",
    "\n",
    "#Swing-By Bewegung\n",
    "plt.subplot(121)\n",
    "v  = 5 * 10**1\n",
    "calcAndPlotSameWeightMov(v, mErde, mSonne)\n",
    "\n",
    "#Bewegung auf der selben Bahn\n",
    "plt.subplot(122)\n",
    "v  = 11.62 * 10**1\n",
    "calcAndPlotSameWeightMov(v, mErde, mSonne)\n",
    "\n",
    "plt.tight_layout()"
   ]
  },
  {
   "cell_type": "markdown",
   "metadata": {},
   "source": [
    "Bei einer geringen Anfangsgeschwindigkeit ergibt sich eine nebenläufige Flugbahn der Planeten. Durch einen Swing-By entfernen sich beide Planeten wieder voneinandern. Durch die fast gleichen Massen ergeben sich jedoch gleich große Flugkurven. Würde die Masse variiert werden, würde das Radius-Verhältnis entgegengesetzt zum Masse-Verhältnis sein. Somit ist, wie bei der Erde und Sonne, der Radius des leichteren Körpers größer, als der des schwereren.\n",
    "\n",
    "Im zweiten Bild ergibt sich durch eine perfekte Anfangsgschwindigkeit eine gleiche Flugbahn für beide Körper. Die Planeten verlaufen auf der jeweils entgegengesetzten Seite und behalten somit die gleiche Flugbahn."
   ]
  },
  {
   "cell_type": "markdown",
   "metadata": {},
   "source": [
    "## Aufgabe 6: Drei Sterne"
   ]
  },
  {
   "cell_type": "markdown",
   "metadata": {},
   "source": [
    "Auf den Stern 1 wirkt die Anziehungskraft von Stern 2 und Stern 3. Zusammen ergeben sie die auf den Stern 1 wirkende Kraft:\n",
    "\n",
    "$$\n",
    "\\vec{F_1} = m_1 \\cdot \\ddot{r} = \\vec{F_{12}} + \\vec{F_{13}}\n",
    "$$\n",
    "\n",
    "Damit kann jede wirkende Anziehungskraft separat betrachtet werden. Durch einsetzen der jeweils wirkenden Anziehungskraft ergibt sich folgende Gleichung:\n",
    "\n",
    "$$\n",
    "m_1 \\cdot \\ddot{r} = G\\frac{m_2 \\cdot m_1}{r_{12}^3}\\vec{r_{12}} + G\\frac{m_3 \\cdot m_1}{r_{13}^3}\\vec{r_{13}}\n",
    "$$\n",
    "\n",
    "Da $m_1$ auf der rechten Seite ausgeklammert werden kann und somit auf beiden Seiten gleichermaßen vorkommt, kann es aufgehoben werden. Desweiteren ersetzen wir die Richtungsvektoren $\\vec{r_{12}}$ und $\\vec{r_{13}}$ durch die Berechnung aus den Positionsvektoren. Gleichermaßen wird mit den im Nenner vorhandenen Längen der Richtungsvektoren verfahren. Somit ergibt sich die gegebene Gleichung:\n",
    "\n",
    "$$\n",
    "\\ddot{\\vec{r_1}} = Gm_2\\frac{\\vec{r_2}-\\vec{r_1}}{|\\vec{r_2}-\\vec{r_1}|^3}+Gm_3\\frac{\\vec{r_3}-\\vec{r_1}}{|\\vec{r_3}-\\vec{r_1}|^3}\n",
    "$$\n",
    "\n",
    "Allgemein kann die Gleichung auch folgendermaßen fomuliert werden:\n",
    "\n",
    "$$\n",
    "\\ddot{\\vec{r_1}} = G \\displaystyle\\sum_{i=2}^{n} m_i\\frac{\\vec{r_i}-\\vec{r_1}}{|\\vec{r_i}-\\vec{r_1}|^3} \\\\\n",
    "n = \\text{ Anzahl der Sterne}\n",
    "$$\n",
    "\n",
    "Dies kann auf die anderen Sterne übertragen werden und somit ergeben sich für Stern 2 und 3 folgende Bewegungsgleichungen:\n",
    "\n",
    "$$\n",
    "\\ddot{\\vec{r_2}} = Gm_1\\frac{\\vec{r_1}-\\vec{r_2}}{|\\vec{r_1}-\\vec{r_2}|^3}+Gm_3\\frac{\\vec{r_3}-\\vec{r_2}}{|\\vec{r_3}-\\vec{r_2}|^3} \\\\\n",
    "\\ddot{\\vec{r_3}} = Gm_1\\frac{\\vec{r_1}-\\vec{r_3}}{|\\vec{r_1}-\\vec{r_3}|^3}+Gm_2\\frac{\\vec{r_2}-\\vec{r_3}}{|\\vec{r_2}-\\vec{r_3}|^3}\n",
    "$$"
   ]
  },
  {
   "cell_type": "markdown",
   "metadata": {},
   "source": [
    "### Plot der Bewegung\n",
    "\n",
    "Im folgenden wird die Bewegung der 3 Sterne für 4 Sekunden berechnet und geplottet. Die Berechnung erfolgt analog zum zuvor beschriebenen Modell.\n",
    "\n",
    "Bemerkung: Je nach gewählter Diskretisierung verändert sich die Bewegung stark, da in großen Schritten von gleicher Geschwindigkeit ausgegangen wird. So ziehen sich bei großem Delta die Planeten zunächst in direkter Richtung an und stoßen sich anschließend sehr schnell außerhalb des Systems. Aus diesem Grund wurde hier eine sehr kleines Delta gewählt."
   ]
  },
  {
   "cell_type": "code",
   "execution_count": 13,
   "metadata": {},
   "outputs": [
    {
     "ename": "NameError",
     "evalue": "name 'vp' is not defined",
     "output_type": "error",
     "traceback": [
      "\u001b[0;31m---------------------------------------------------------------------------\u001b[0m",
      "\u001b[0;31mNameError\u001b[0m                                 Traceback (most recent call last)",
      "\u001b[0;32m<ipython-input-13-d27ebce6af5f>\u001b[0m in \u001b[0;36m<module>\u001b[0;34m()\u001b[0m\n\u001b[1;32m     34\u001b[0m \u001b[0;34m\u001b[0m\u001b[0m\n\u001b[1;32m     35\u001b[0m \u001b[0;32mwhile\u001b[0m \u001b[0mt\u001b[0m \u001b[0;34m<\u001b[0m \u001b[0;36m4\u001b[0m\u001b[0;34m:\u001b[0m\u001b[0;34m\u001b[0m\u001b[0m\n\u001b[0;32m---> 36\u001b[0;31m     \u001b[0mr1_tmp\u001b[0m\u001b[0;34m,\u001b[0m \u001b[0mv1\u001b[0m \u001b[0;34m=\u001b[0m \u001b[0mleapfrog\u001b[0m\u001b[0;34m(\u001b[0m\u001b[0mstar\u001b[0m\u001b[0;34m,\u001b[0m \u001b[0mr1\u001b[0m\u001b[0;34m[\u001b[0m\u001b[0;34m-\u001b[0m\u001b[0;36m1\u001b[0m\u001b[0;34m]\u001b[0m\u001b[0;34m,\u001b[0m \u001b[0mv1\u001b[0m\u001b[0;34m,\u001b[0m \u001b[0mr2\u001b[0m\u001b[0;34m[\u001b[0m\u001b[0;34m-\u001b[0m\u001b[0;36m1\u001b[0m\u001b[0;34m]\u001b[0m\u001b[0;34m,\u001b[0m \u001b[0mr3\u001b[0m\u001b[0;34m[\u001b[0m\u001b[0;34m-\u001b[0m\u001b[0;36m1\u001b[0m\u001b[0;34m]\u001b[0m\u001b[0;34m,\u001b[0m \u001b[0mh\u001b[0m\u001b[0;34m)\u001b[0m  \u001b[0;31m# integrate\u001b[0m\u001b[0;34m\u001b[0m\u001b[0m\n\u001b[0m\u001b[1;32m     37\u001b[0m     \u001b[0mr1\u001b[0m\u001b[0;34m.\u001b[0m\u001b[0mappend\u001b[0m\u001b[0;34m(\u001b[0m\u001b[0mr1_tmp\u001b[0m\u001b[0;34m)\u001b[0m\u001b[0;34m\u001b[0m\u001b[0m\n\u001b[1;32m     38\u001b[0m     \u001b[0mr2_tmp\u001b[0m\u001b[0;34m,\u001b[0m \u001b[0mv2\u001b[0m \u001b[0;34m=\u001b[0m \u001b[0mleapfrog\u001b[0m\u001b[0;34m(\u001b[0m\u001b[0mstar\u001b[0m\u001b[0;34m,\u001b[0m \u001b[0mr2\u001b[0m\u001b[0;34m[\u001b[0m\u001b[0;34m-\u001b[0m\u001b[0;36m1\u001b[0m\u001b[0;34m]\u001b[0m\u001b[0;34m,\u001b[0m \u001b[0mv2\u001b[0m\u001b[0;34m,\u001b[0m \u001b[0mr1\u001b[0m\u001b[0;34m[\u001b[0m\u001b[0;34m-\u001b[0m\u001b[0;36m1\u001b[0m\u001b[0;34m]\u001b[0m\u001b[0;34m,\u001b[0m \u001b[0mr3\u001b[0m\u001b[0;34m[\u001b[0m\u001b[0;34m-\u001b[0m\u001b[0;36m1\u001b[0m\u001b[0;34m]\u001b[0m\u001b[0;34m,\u001b[0m \u001b[0mh\u001b[0m\u001b[0;34m)\u001b[0m  \u001b[0;31m# integrate\u001b[0m\u001b[0;34m\u001b[0m\u001b[0m\n",
      "\u001b[0;32m<ipython-input-13-d27ebce6af5f>\u001b[0m in \u001b[0;36mleapfrog\u001b[0;34m(lfdiffeq, r1, v1, r2, r3, h)\u001b[0m\n\u001b[1;32m      8\u001b[0m     \u001b[0mhh\u001b[0m \u001b[0;34m=\u001b[0m \u001b[0mh\u001b[0m\u001b[0;34m/\u001b[0m\u001b[0;36m2.0\u001b[0m\u001b[0;34m\u001b[0m\u001b[0m\n\u001b[1;32m      9\u001b[0m     \u001b[0mr11\u001b[0m \u001b[0;34m=\u001b[0m \u001b[0mr1\u001b[0m \u001b[0;34m+\u001b[0m \u001b[0mhh\u001b[0m\u001b[0;34m*\u001b[0m\u001b[0mlfdiffeq\u001b[0m\u001b[0;34m(\u001b[0m\u001b[0;36m0\u001b[0m\u001b[0;34m,\u001b[0m \u001b[0mr1\u001b[0m\u001b[0;34m,\u001b[0m \u001b[0mr2\u001b[0m\u001b[0;34m,\u001b[0m \u001b[0mr3\u001b[0m\u001b[0;34m,\u001b[0m \u001b[0mv1\u001b[0m\u001b[0;34m)\u001b[0m     \u001b[0;31m# 1st: r at h/2 using v0    @\\lbl{line:lf1}@\u001b[0m\u001b[0;34m\u001b[0m\u001b[0m\n\u001b[0;32m---> 10\u001b[0;31m     \u001b[0mv11\u001b[0m \u001b[0;34m=\u001b[0m \u001b[0mv1\u001b[0m \u001b[0;34m+\u001b[0m  \u001b[0mh\u001b[0m\u001b[0;34m*\u001b[0m\u001b[0mlfdiffeq\u001b[0m\u001b[0;34m(\u001b[0m\u001b[0;36m1\u001b[0m\u001b[0;34m,\u001b[0m \u001b[0mr11\u001b[0m\u001b[0;34m,\u001b[0m \u001b[0mr2\u001b[0m\u001b[0;34m,\u001b[0m \u001b[0mr3\u001b[0m\u001b[0;34m,\u001b[0m \u001b[0mv1\u001b[0m\u001b[0;34m)\u001b[0m  \u001b[0;31m# 2nd: v1 using a(r) at h/2 @\\lbl{line:lf2}@\u001b[0m\u001b[0;34m\u001b[0m\u001b[0m\n\u001b[0m\u001b[1;32m     11\u001b[0m     \u001b[0mr11\u001b[0m \u001b[0;34m=\u001b[0m \u001b[0mr11\u001b[0m \u001b[0;34m+\u001b[0m \u001b[0mhh\u001b[0m\u001b[0;34m*\u001b[0m\u001b[0mlfdiffeq\u001b[0m\u001b[0;34m(\u001b[0m\u001b[0;36m0\u001b[0m\u001b[0;34m,\u001b[0m \u001b[0mr1\u001b[0m\u001b[0;34m,\u001b[0m \u001b[0mr2\u001b[0m\u001b[0;34m,\u001b[0m \u001b[0mr3\u001b[0m\u001b[0;34m,\u001b[0m \u001b[0mv11\u001b[0m\u001b[0;34m)\u001b[0m   \u001b[0;31m# 3rd: r1 at h using v1     @\\lbl{line:lf3}@\u001b[0m\u001b[0;34m\u001b[0m\u001b[0m\n\u001b[1;32m     12\u001b[0m     \u001b[0;32mreturn\u001b[0m \u001b[0mr11\u001b[0m\u001b[0;34m,\u001b[0m \u001b[0mv11\u001b[0m\u001b[0;34m\u001b[0m\u001b[0m\n",
      "\u001b[0;32m<ipython-input-13-d27ebce6af5f>\u001b[0m in \u001b[0;36mstar\u001b[0;34m(id, r1, r2, r3, v)\u001b[0m\n\u001b[1;32m     17\u001b[0m     \u001b[0mr12\u001b[0m \u001b[0;34m=\u001b[0m \u001b[0mr2\u001b[0m \u001b[0;34m-\u001b[0m \u001b[0mr1\u001b[0m\u001b[0;34m\u001b[0m\u001b[0m\n\u001b[1;32m     18\u001b[0m     \u001b[0mr13\u001b[0m \u001b[0;34m=\u001b[0m \u001b[0mr3\u001b[0m \u001b[0;34m-\u001b[0m \u001b[0mr1\u001b[0m\u001b[0;34m\u001b[0m\u001b[0m\n\u001b[0;32m---> 19\u001b[0;31m     \u001b[0ms12\u001b[0m \u001b[0;34m=\u001b[0m \u001b[0mvp\u001b[0m\u001b[0;34m.\u001b[0m\u001b[0mmag\u001b[0m\u001b[0;34m(\u001b[0m\u001b[0mvec\u001b[0m\u001b[0;34m(\u001b[0m\u001b[0mr12\u001b[0m\u001b[0;34m[\u001b[0m\u001b[0;36m0\u001b[0m\u001b[0;34m]\u001b[0m\u001b[0;34m,\u001b[0m\u001b[0mr12\u001b[0m\u001b[0;34m[\u001b[0m\u001b[0;36m1\u001b[0m\u001b[0;34m]\u001b[0m\u001b[0;34m,\u001b[0m\u001b[0;36m0\u001b[0m\u001b[0;34m)\u001b[0m\u001b[0;34m)\u001b[0m   \u001b[0;31m# $s=|\\vec{r}|$\u001b[0m\u001b[0;34m\u001b[0m\u001b[0m\n\u001b[0m\u001b[1;32m     20\u001b[0m     \u001b[0ms13\u001b[0m \u001b[0;34m=\u001b[0m \u001b[0mvp\u001b[0m\u001b[0;34m.\u001b[0m\u001b[0mmag\u001b[0m\u001b[0;34m(\u001b[0m\u001b[0mvec\u001b[0m\u001b[0;34m(\u001b[0m\u001b[0mr13\u001b[0m\u001b[0;34m[\u001b[0m\u001b[0;36m0\u001b[0m\u001b[0;34m]\u001b[0m\u001b[0;34m,\u001b[0m\u001b[0mr13\u001b[0m\u001b[0;34m[\u001b[0m\u001b[0;36m1\u001b[0m\u001b[0;34m]\u001b[0m\u001b[0;34m,\u001b[0m\u001b[0;36m0\u001b[0m\u001b[0;34m)\u001b[0m\u001b[0;34m)\u001b[0m   \u001b[0;31m# $s=|\\vec{r}|$\u001b[0m\u001b[0;34m\u001b[0m\u001b[0m\n\u001b[1;32m     21\u001b[0m     \u001b[0;32mreturn\u001b[0m \u001b[0mm2\u001b[0m\u001b[0;34m*\u001b[0m\u001b[0mr12\u001b[0m\u001b[0;34m/\u001b[0m\u001b[0;34m(\u001b[0m\u001b[0ms12\u001b[0m\u001b[0;34m*\u001b[0m\u001b[0ms12\u001b[0m\u001b[0;34m*\u001b[0m\u001b[0ms12\u001b[0m\u001b[0;34m)\u001b[0m \u001b[0;34m+\u001b[0m \u001b[0mm3\u001b[0m\u001b[0;34m*\u001b[0m\u001b[0mr13\u001b[0m\u001b[0;34m/\u001b[0m\u001b[0;34m(\u001b[0m\u001b[0ms13\u001b[0m\u001b[0;34m*\u001b[0m\u001b[0ms13\u001b[0m\u001b[0;34m*\u001b[0m\u001b[0ms13\u001b[0m\u001b[0;34m)\u001b[0m         \u001b[0;31m# accel dv/dt, faster than s**3\u001b[0m\u001b[0;34m\u001b[0m\u001b[0m\n",
      "\u001b[0;31mNameError\u001b[0m: name 'vp' is not defined"
     ]
    }
   ],
   "source": [
    "def leapfrog(lfdiffeq, r1, v1, r2, r3, h):       # vectorized leapfrog\n",
    "    \"\"\" vector leapfrog method using numpy arrays.\n",
    "        It solves general (r,v) ODEs as: \n",
    "        dr[i]/dt = f[i](v), and dv[i]/dt = g[i](r).\n",
    "        User supplied lfdiffeq(id, r, v, t) returns\n",
    "        f[i](r) if id=0, or g[i](v) if id=1.\n",
    "        It must return a numpy array if i>1 \"\"\"\n",
    "    hh = h/2.0\n",
    "    r11 = r1 + hh*lfdiffeq(0, r1, r2, r3, v1)     # 1st: r at h/2 using v0    @\\lbl{line:lf1}@\n",
    "    v11 = v1 +  h*lfdiffeq(1, r11, r2, r3, v1)  # 2nd: v1 using a(r) at h/2 @\\lbl{line:lf2}@\n",
    "    r11 = r11 + hh*lfdiffeq(0, r1, r2, r3, v11)   # 3rd: r1 at h using v1     @\\lbl{line:lf3}@\n",
    "    return r11, v11\n",
    "  \n",
    "     \n",
    "def star(id, r1, r2, r3, v):            # return the eqns of motion\n",
    "    if (id == 0): return v         # velocity, dr/dt\n",
    "    r12 = r2 - r1\n",
    "    r13 = r3 - r1\n",
    "    s12 = vp.mag(vec(r12[0],r12[1],0))   # $s=|\\vec{r}|$\n",
    "    s13 = vp.mag(vec(r13[0],r13[1],0))   # $s=|\\vec{r}|$\n",
    "    return m2*r12/(s12*s12*s12) + m3*r13/(s13*s13*s13)         # accel dv/dt, faster than s**3  \n",
    "\n",
    "# Startpositions\n",
    "r1 = [np.array([3.0, 1.0])] \n",
    "v1 = np.array([0.0, 0.0]) \n",
    "r2 = [np.array([-1.0, -2.0])] \n",
    "v2 = np.array([0.0, 0.0]) \n",
    "r3 = [np.array([-1.0, 1.0])] \n",
    "v3 = np.array([0.0, 0.0])\n",
    "m1 = 150\n",
    "m2 = 200\n",
    "m3 = 250\n",
    "t, h = 0.0, 1.5/20000\n",
    "\n",
    "while t < 4:\n",
    "    r1_tmp, v1 = leapfrog(star, r1[-1], v1, r2[-1], r3[-1], h)  # integrate \n",
    "    r1.append(r1_tmp)\n",
    "    r2_tmp, v2 = leapfrog(star, r2[-1], v2, r1[-1], r3[-1], h)  # integrate \n",
    "    r2.append(r2_tmp)\n",
    "    r3_tmp, v3 = leapfrog(star, r3[-1], v3, r1[-1], r2[-1], h)  # integrate \n",
    "    r3.append(r3_tmp)\n",
    "    t += h\n",
    "    \n",
    "plt.title('Flugbahn der 3 Sterne')\n",
    "plt.ylabel('y')\n",
    "plt.xlabel('x')\n",
    "plt.plot(r1[0][0], r1[0][1], 'x')\n",
    "plt.plot(r2[0][0], r2[0][1], 'x')\n",
    "plt.plot(r3[0][0], r3[0][1], 'x')\n",
    "plt.plot([v[0] for v in r1], [v[1] for v in r1])\n",
    "plt.plot([v[0] for v in r2], [v[1] for v in r2])\n",
    "plt.plot([v[0] for v in r3], [v[1] for v in r3])"
   ]
  },
  {
   "cell_type": "markdown",
   "metadata": {},
   "source": [
    "Man sieht, dass die Planten sich von der Startposition (Makierung 'X') anziehen und aufgrund der unterschiedlichen Massen und Entfernungen mehrfach aneinander in einem Swing-by vorbeifliegen. Durch die 3 Planeten ist das System jedoch um einiges chaotischer, als das aus den vorhergehenden Experimenten.\n",
    "\n",
    "Diese Bewegung wird im folgenden als Animation dargestellt."
   ]
  },
  {
   "cell_type": "code",
   "execution_count": null,
   "metadata": {},
   "outputs": [],
   "source": [
    "# draw the scene              \n",
    "scene = vp.canvas(title='Planetary motion',          # scene start \n",
    "                   background=vec(.2,.5,1), forward=vec(0,2,-1))\n",
    "star1 = vp.sphere(pos=vec(r1[0][0],r1[0][1],0), radius=0.1, make_trail=True, up=vec(0,0,1))\n",
    "star2 = vp.sphere(pos=vec(r2[0][0],r2[0][1],0), radius=0.1, make_trail=True, up=vec(0,0,1))\n",
    "star3 = vp.sphere(pos=vec(r3[0][0],r3[0][1],0), radius=0.1, make_trail=True, up=vec(0,0,1))\n",
    "sunlight = vp.local_light(pos=vec(0,0,0), color=vp.color.yellow) #scn end \n",
    "\n",
    "for i in range(len(r1)):\n",
    "    vp.rate(500)   # limit animation speed\n",
    "\n",
    "    star1.pos = vec(r1[i][0],r1[i][1],0)           # move planet  \n",
    "    star2.pos = vec(r2[i][0],r2[i][1],0)           # move planet  \n",
    "    star3.pos = vec(r3[i][0],r3[i][1],0)           # move planet  \n",
    "\n",
    "        "
   ]
  },
  {
   "cell_type": "code",
   "execution_count": null,
   "metadata": {},
   "outputs": [],
   "source": []
  }
 ],
 "metadata": {
  "kernelspec": {
   "display_name": "Python 3",
   "language": "python",
   "name": "python3"
  },
  "language_info": {
   "codemirror_mode": {
    "name": "ipython",
    "version": 3
   },
   "file_extension": ".py",
   "mimetype": "text/x-python",
   "name": "python",
   "nbconvert_exporter": "python",
   "pygments_lexer": "ipython3",
   "version": "3.6.4"
  }
 },
 "nbformat": 4,
 "nbformat_minor": 1
}
