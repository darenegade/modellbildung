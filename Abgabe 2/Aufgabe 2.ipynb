{
 "cells": [
  {
   "cell_type": "code",
   "execution_count": 1,
   "metadata": {},
   "outputs": [],
   "source": [
    "import pandas as pd\n",
    "import matplotlib.pyplot as plt\n",
    "import pylab as pylab\n",
    "import numpy.polynomial.polynomial as poly\n",
    "import numpy as np\n",
    "from scipy.integrate import odeint\n",
    "import math\n",
    "g=9.81\n",
    "G=6.67408*10**-11\n",
    "mErde=5.972*10**24\n",
    "mSonne=1.989*10**30"
   ]
  },
  {
   "cell_type": "code",
   "execution_count": 2,
   "metadata": {},
   "outputs": [
    {
     "data": {
      "text/plain": [
       "6.674079999999999e-11"
      ]
     },
     "execution_count": 2,
     "metadata": {},
     "output_type": "execute_result"
    }
   ],
   "source": [
    "G"
   ]
  },
  {
   "cell_type": "code",
   "execution_count": 3,
   "metadata": {},
   "outputs": [
    {
     "data": {
      "text/plain": [
       "<matplotlib.collections.PathCollection at 0x110af82e8>"
      ]
     },
     "execution_count": 3,
     "metadata": {},
     "output_type": "execute_result"
    },
    {
     "data": {
      "image/png": "[encoded data removed]",
      "text/plain": [
       "<matplotlib.figure.Figure at 0x11449fc88>"
      ]
     },
     "metadata": {},
     "output_type": "display_data"
    }
   ],
   "source": [
    "factor = 3600 \n",
    "yearsTimeSpan = 5\n",
    "deltaT = 1 * factor\n",
    "\n",
    "def distance(p1, p2):\n",
    "    return math.sqrt((p1[0]-p2[0])**2 + (p1[1]-p2[1])**2)\n",
    "\n",
    "def direction(p1, p2):\n",
    "    return [p2[0] - p1[0], p2[1] - p1[1]]\n",
    "\n",
    "def acceleration(mOwn, pOwn, mOther, pOther):\n",
    "    intermed = -G * mOther / (distance(pOwn, pOther)**3)\n",
    "    return [element * intermed for element in direction(pOther, pOwn)]\n",
    "\n",
    "def calc(vErde, vSonne, pErde, pSonne):\n",
    "    koordsSonne = [[pSonne[0], pSonne[1], vSonne[0], vSonne[1]]]\n",
    "    koordsErde  = [[pErde[0], pErde[1], vErde[0], vErde[1]]]\n",
    "\n",
    "    for x in range(0, int(yearsTimeSpan * 365 * 24 * 3600 / factor)):\n",
    "        deltaTNeu = deltaT / 2\n",
    "        pErde = [pErde[0] + deltaTNeu * vErde[0], pErde[1] + deltaTNeu * vErde[1]]\n",
    "        acc = acceleration(mErde, pErde, mSonne, pSonne)\n",
    "        vErde = [vErde[0] + deltaT * acc[0], vErde[1] + deltaT * acc[1]] \n",
    "        pErde = [pErde[0] + deltaTNeu * vErde[0], pErde[1] + deltaTNeu * vErde[1]]\n",
    "\n",
    "        pSonne = [pSonne[0] + deltaTNeu * vSonne[0], pSonne[1] + deltaTNeu * vSonne[1]]\n",
    "        acc = acceleration(mSonne, pSonne, mErde, pErde)\n",
    "        vSonne = [vSonne[0] + deltaT * acc[0], vSonne[1] + deltaT * acc[1]] \n",
    "        pSonne = [pSonne[0] + deltaTNeu * vSonne[0], pSonne[1] + deltaTNeu * vSonne[1]]\n",
    "\n",
    "        \n",
    "        koordsErde.append([pErde[0], pErde[1], vErde[0], vErde[1]])\n",
    "        koordsSonne.append([pSonne[0], pSonne[1], vSonne[0], vSonne[1]])\n",
    "\n",
    "    return [koordsErde, koordsSonne]\n",
    "            \n",
    "def calcAlt(vErde, vSonne, pErde, pSonne):\n",
    "    koordsSonne = [[pSonne[0], pSonne[1], vSonne[0], vSonne[1]]]\n",
    "    koordsErde  = [[pErde[0], pErde[1], vErde[0], vErde[1]]]\n",
    "\n",
    "    for x in range(0, int(yearsTimeSpan * 365 * 24 * 3600 / factor)):\n",
    "        aErde  = acceleration(mErde, pErde, mSonne, pSonne)\n",
    "        aSonne = acceleration(mSonne, pSonne, mErde, pErde)\n",
    "\n",
    "        vErde = [vErde[0] + aErde[0] * deltaT, vErde[1] + aErde[1] * deltaT]\n",
    "        vSonne = [vSonne[0] + aSonne[0] * deltaT, vSonne[1] + aSonne[1] * deltaT]\n",
    "\n",
    "        pErde = [pErde[0] + vErde[0] * deltaT, pErde[1] + vErde[1] * deltaT]\n",
    "        pSonne = [pSonne[0] + vSonne[0] * deltaT, pSonne[1] + vSonne[1] * deltaT]\n",
    "    \n",
    "        koordsErde.append([pErde[0], pErde[1], vErde[0], vErde[1]])\n",
    "        koordsSonne.append([pSonne[0], pSonne[1], vSonne[0], vSonne[1]])\n",
    "    return [koordsErde, koordsSonne]\n",
    "    \n",
    "vErde  = [0.0, 29.8 * 10**3]\n",
    "vSonne = [0.0, 0.0]\n",
    "pErde  = [1.4960*(10**11), 0.0]\n",
    "pSonne = [0.0, 0.0]\n",
    "data = calc(vErde, vSonne, pErde, pSonne)\n",
    "\n",
    "plt.scatter([element[0] for element in data[0]], [element[1] for element in data[0]])       \n",
    "plt.scatter([element[0] for element in data[1]], [element[1] for element in data[1]])      \n"
   ]
  },
  {
   "cell_type": "markdown",
   "metadata": {},
   "source": [
    "Wie zu erwarten war, ist zu erkennen, dass die Erde die Sonne umkreist. Die Bahn der Sonne fällt auf einen Punkt zusammen, da sie aufgrund ihrer sehr hohen Masse eine Bahn mit sehr geringen Durchmesser durchläuft. Wird nur die Bahn der Sonne eingezeichnet so erhällt man folgendes:"
   ]
  },
  {
   "cell_type": "code",
   "execution_count": 4,
   "metadata": {},
   "outputs": [
    {
     "data": {
      "text/plain": [
       "<matplotlib.collections.PathCollection at 0x114c61160>"
      ]
     },
     "execution_count": 4,
     "metadata": {},
     "output_type": "execute_result"
    },
    {
     "data": {
      "image/png": "[encoded data removed]",
      "text/plain": [
       "<matplotlib.figure.Figure at 0x110ad8dd8>"
      ]
     },
     "metadata": {},
     "output_type": "display_data"
    }
   ],
   "source": [
    "plt.scatter([element[0] for element in data[1]], [element[1] for element in data[1]])      \n"
   ]
  },
  {
   "cell_type": "markdown",
   "metadata": {},
   "source": [
    "Dieses Ergebnis ist auf dem ersten Blick sehr überraschend, da eine Ellipsenbahn von uns erwartet wurde. \n",
    "Da zum Zeitpunkt t=0 die Sonne ihre Geschwindigkeit v=0 gesetzt wurde, aber die Erde bereits in Bewegung war und alle Impulse in der Summe 0 ergeben müssen, bedeutet das, dass der Schwerpunk des Systems zum Zeitpunkt t=0 in Bewegung sein musste.\n",
    "\n",
    "Diese Tatsache wurde in obiger Kalkulation nicht berücksichtigt.\n",
    "Führt man selbige Berechnung mit einer Anfangsgeschwindigkeit für die Sonne durch, so dass ihr Impuls betraglich dem der Erde entspricht, so erhällt man folgendes Ergebnis:"
   ]
  },
  {
   "cell_type": "code",
   "execution_count": 5,
   "metadata": {},
   "outputs": [
    {
     "data": {
      "text/plain": [
       "<matplotlib.collections.PathCollection at 0x115d6aba8>"
      ]
     },
     "execution_count": 5,
     "metadata": {},
     "output_type": "execute_result"
    },
    {
     "data": {
      "image/png": "[encoded data removed]",
      "text/plain": [
       "<matplotlib.figure.Figure at 0x118fa65c0>"
      ]
     },
     "metadata": {},
     "output_type": "display_data"
    }
   ],
   "source": [
    "vErde  = [0.0, 29.8 * 10**3]\n",
    "vSonne = [-mErde / mSonne * vErde[0], -mErde / mSonne * vErde[1]]\n",
    "pErde  = [1.4960*(10**11), 0.0]\n",
    "pSonne = [0.0, 0.0]\n",
    "data = calc(vErde, vSonne, pErde, pSonne)\n",
    "plt.scatter([element[0] for element in data[1]], [element[1] for element in data[1]])      \n"
   ]
  },
  {
   "cell_type": "markdown",
   "metadata": {},
   "source": [
    "Da der Schwerpunk nun ruhend ist, entsteht der zunächst erahnte Effekt, dass die Sonne eine Ellipsenbahn vollzieht."
   ]
  },
  {
   "cell_type": "markdown",
   "metadata": {},
   "source": [
    "Um das System nun zu validieren, wird nun der Impuls über alle Messwerte errechnet. Dieser muss für alle Messwerte den gleichen Wert ergeben:"
   ]
  },
  {
   "cell_type": "code",
   "execution_count": 6,
   "metadata": {},
   "outputs": [
    {
     "data": {
      "text/plain": [
       "<matplotlib.collections.PathCollection at 0x114f0a6d8>"
      ]
     },
     "execution_count": 6,
     "metadata": {},
     "output_type": "execute_result"
    },
    {
     "data": {
      "image/png": "[encoded data removed]",
      "text/plain": [
       "<matplotlib.figure.Figure at 0x110af8208>"
      ]
     },
     "metadata": {},
     "output_type": "display_data"
    }
   ],
   "source": [
    "def impuls(masse, geschwindigkeit):\n",
    "    return masse * geschwindigkeit\n",
    "\n",
    "sumImpulseX = []\n",
    "sumImpulseY = []\n",
    "\n",
    "for index in range(0, len(data[0])):\n",
    "    sumImpulseX.append(impuls(mErde, data[0][index][2]) + impuls(mSonne, data[1][index][2]))\n",
    "    sumImpulseY.append(impuls(mErde, data[0][index][3]) + impuls(mSonne, data[1][index][3]))\n",
    "\n",
    "plt.scatter(range(0, len(data[0])), sumImpulseX)\n",
    "plt.scatter(range(0, len(data[0])), sumImpulseY)"
   ]
  },
  {
   "cell_type": "markdown",
   "metadata": {},
   "source": [
    "Da der Impulserhaltungssatz gilt, müssen die einzelnen Messwerte um einen konstanten Wert fluktuieren. Da das Bezugssystem ruhend und keine weiteren Einflüsse neben Sonne und Erde eingegangen sind, ist der konstante Wert 0.\n",
    "Die Größenordnung des Fehlers erscheint zunächst erschreckend, im Verhälltnis zum letzten errechneten Wert für den Impuls der Sonne zeigt sich jedoch:"
   ]
  },
  {
   "cell_type": "code",
   "execution_count": 7,
   "metadata": {},
   "outputs": [
    {
     "data": {
      "text/plain": [
       "[-9.858194840248786e+27, -1.7769567493221588e+29]"
      ]
     },
     "execution_count": 7,
     "metadata": {},
     "output_type": "execute_result"
    }
   ],
   "source": [
    "[impuls(mSonne, data[1][-1][2]), impuls(mSonne, data[1][-1][3])]"
   ]
  },
  {
   "cell_type": "markdown",
   "metadata": {},
   "source": [
    "Der letzte errechnete Impuls der Sonne bewegt sich hier bei 1e27 bzw 1e29. Ein Fehler in der Größenordnung von 1e15 ist also vernachlässigbar."
   ]
  },
  {
   "cell_type": "markdown",
   "metadata": {},
   "source": [
    "Eine weitere Kontrolle der numerischen Berechnung kann mithilfe des Energieerhaltungssatzes vorgenommen werden. Da weder Energie dem System hinzugefügt noch entfernt wird, muss diese über alle Berechnungen hinweg konstant bleiben. Für eine vollständige Berechnung muss im vorliegenden Fall die chinetische und die potenzielle Energie betrachtet werden."
   ]
  },
  {
   "cell_type": "code",
   "execution_count": 8,
   "metadata": {},
   "outputs": [
    {
     "data": {
      "text/plain": [
       "-2.647554454998686e+33"
      ]
     },
     "execution_count": 8,
     "metadata": {},
     "output_type": "execute_result"
    },
    {
     "data": {
      "image/png": "[encoded data removed]",
      "text/plain": [
       "<matplotlib.figure.Figure at 0x114ee9080>"
      ]
     },
     "metadata": {},
     "output_type": "display_data"
    }
   ],
   "source": [
    "def potEnergie(masse1, masse2, distanz):\n",
    "    return -G * masse1 * masse2 / distanz\n",
    "\n",
    "def chinEnergie(masse, geschwindigkeit):\n",
    "    return 0.5 * masse * geschwindigkeit ** 2\n",
    "\n",
    "sumEnergie = []\n",
    "for index in range(0, len(data[0])):\n",
    "    distanceSonneErde = distance(data[0][index], data[1][index])\n",
    "    sumEnergie.append(\n",
    "    chinEnergie(mErde, math.sqrt(data[0][index][2]**2 + data[0][index][3]**2))\n",
    "    +chinEnergie(mSonne, math.sqrt(data[1][index][2]**2 + data[1][index][3]**2))\n",
    "    +potEnergie(mSonne, mErde, distanceSonneErde)\n",
    "    )\n",
    "plt.scatter(range(0, len(data[0])), sumEnergie)\n",
    "sumEnergie[-1]\n"
   ]
  },
  {
   "cell_type": "code",
   "execution_count": 9,
   "metadata": {},
   "outputs": [
    {
     "data": {
      "text/plain": [
       "<matplotlib.collections.PathCollection at 0x115359f60>"
      ]
     },
     "execution_count": 9,
     "metadata": {},
     "output_type": "execute_result"
    },
    {
     "data": {
      "image/png": "[encoded data removed]",
      "text/plain": [
       "<matplotlib.figure.Figure at 0x152076a908>"
      ]
     },
     "metadata": {},
     "output_type": "display_data"
    }
   ],
   "source": [
    "ls = []\n",
    "\n",
    "for index in range(0, len(data[0])):\n",
    "    px = impuls(mErde, data[0][index][2]) + impuls(mSonne, data[1][index][2])\n",
    "    py = impuls(mErde, data[0][index][3]) + impuls(mSonne, data[1][index][3])\n",
    "    direc = direction(data[0][index], data[1][index])\n",
    "    l = px*direc[1] - py*direc[0]\n",
    "    ls.append(l)\n",
    "\n",
    "plt.scatter(range(0, len(data[0])), ls)"
   ]
  },
  {
   "cell_type": "markdown",
   "metadata": {},
   "source": [
    "## Aufgabe 4"
   ]
  },
  {
   "cell_type": "code",
   "execution_count": 20,
   "metadata": {},
   "outputs": [
    {
     "data": {
      "text/plain": [
       "[<matplotlib.lines.Line2D at 0x1524087e48>]"
      ]
     },
     "execution_count": 20,
     "metadata": {},
     "output_type": "execute_result"
    },
    {
     "data": {
      "image/png": "[encoded data removed]",
      "text/plain": [
       "<matplotlib.figure.Figure at 0x114f138d0>"
      ]
     },
     "metadata": {},
     "output_type": "display_data"
    }
   ],
   "source": [
    "vErde  = [0.0, 10 * 10**3]\n",
    "vSonne = [0.0, 0.0]\n",
    "pErde  = [1.4960*(10**11), 0.0]\n",
    "pSonne = [0.0, 0.0]\n",
    "data = calc(vErde, vSonne, pErde, pSonne)\n",
    "\n",
    "plt.plot([element[0] for element in data[0]], [element[1] for element in data[0]], '-')       \n",
    "plt.plot([element[0] for element in data[1]], [element[1] for element in data[1]], 'ro')    \n",
    "\n",
    "vErde  = [0.0, 20 * 10**3]\n",
    "data = calc(vErde, vSonne, pErde, pSonne)\n",
    "plt.plot([element[0] for element in data[0]], [element[1] for element in data[0]], '-')       \n",
    "\n",
    "vErde  = [0.0, 30 * 10**3]\n",
    "data = calc(vErde, vSonne, pErde, pSonne)\n",
    "plt.plot([element[0] for element in data[0]], [element[1] for element in data[0]], '-')       \n",
    "\n",
    "vErde  = [0.0, 40 * 10**3]\n",
    "data = calc(vErde, vSonne, pErde, pSonne)\n",
    "plt.plot([element[0] for element in data[0]], [element[1] for element in data[0]], '-') \n",
    "\n",
    "vErde  = [40 * 10**3, 0.0]\n",
    "data = calc(vErde, vSonne, pErde, pSonne)\n",
    "plt.plot([element[0] for element in data[0]], [element[1] for element in data[0]], '-') "
   ]
  },
  {
   "cell_type": "code",
   "execution_count": null,
   "metadata": {},
   "outputs": [],
   "source": []
  }
 ],
 "metadata": {
  "kernelspec": {
   "display_name": "Python 3",
   "language": "python",
   "name": "python3"
  },
  "language_info": {
   "codemirror_mode": {
    "name": "ipython",
    "version": 3
   },
   "file_extension": ".py",
   "mimetype": "text/x-python",
   "name": "python",
   "nbconvert_exporter": "python",
   "pygments_lexer": "ipython3",
   "version": "3.6.4"
  }
 },
 "nbformat": 4,
 "nbformat_minor": 2
}
