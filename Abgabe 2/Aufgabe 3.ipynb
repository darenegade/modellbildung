{
 "cells": [
  {
   "cell_type": "markdown",
   "metadata": {},
   "source": [
    "Die Ort eines Objekts lässt sich über Polarkoordinaten ausdrücken.\n",
    "Der radiale Vektor sowie die Position auf der Kreisbahn lassen sich wie folgt ausdrücken."
   ]
  },
  {
   "cell_type": "markdown",
   "metadata": {},
   "source": [
    "\\begin{align}\n",
    "\\vec{e_r} = \\vec{e_x} * cos(\\varphi) + \\vec{e_y} * sin(\\varphi)\\\\\n",
    "\\vec{e_\\varphi} = -\\vec{e_x} * sin(\\varphi) + \\vec{e_y} * cos(\\varphi)\n",
    "\\end{align}"
   ]
  },
  {
   "cell_type": "markdown",
   "metadata": {},
   "source": [
    "Als lineares Gleichungssystem ergibt sich nun:"
   ]
  },
  {
   "cell_type": "markdown",
   "metadata": {},
   "source": [
    "\\begin{align}\n",
    "\\vec{e_r} = \\left( \\begin{array}{c}\n",
    "  \\cos(\\varphi) \\\\\n",
    "  \\sin(\\varphi) \\\\\n",
    "\\end{array} \\right) \n",
    "\\end{align}"
   ]
  },
  {
   "cell_type": "markdown",
   "metadata": {},
   "source": [
    "\\begin{align}\n",
    "\\vec{e_\\varphi} = \\left( \\begin{array}{c}\n",
    "  -sin(\\varphi) \\\\\n",
    "  \\cos(\\varphi) \\\\\n",
    "\\end{array} \\right) \n",
    "\\end{align}"
   ]
  },
  {
   "cell_type": "markdown",
   "metadata": {},
   "source": [
    "Durch Ableiten erhält man die Geschwindigkeiten:"
   ]
  },
  {
   "cell_type": "markdown",
   "metadata": {},
   "source": [
    "\\begin{align}\n",
    "\\dot{\\vec{e_r}} = \\left( \\begin{array}{c}\n",
    "  -\\sin(\\varphi) * \\dot{\\varphi} \\\\\n",
    "  \\cos(\\varphi) * \\dot{\\varphi} \\\\\n",
    "\\end{array} \\right) = \\dot{\\varphi} * \\left( \\begin{array}{c}\n",
    "  -\\sin(\\varphi) \\\\\n",
    "  \\cos(\\varphi) \\\\\n",
    "\\end{array} \\right) = \\dot{\\varphi} * \\vec{e_\\varphi}\n",
    "\\end{align}"
   ]
  },
  {
   "cell_type": "markdown",
   "metadata": {},
   "source": [
    "\\begin{align}\n",
    "\\dot{\\vec{e_\\varphi}} = \\left( \\begin{array}{c}\n",
    "-\\cos(\\varphi) * \\dot{\\varphi}\\\\\n",
    " -\\sin(\\varphi) * \\dot{\\varphi} \\\\\n",
    "\\end{array} \\right) = - \\dot{\\varphi} * \\vec{e_r}\n",
    "\\end{align}"
   ]
  },
  {
   "cell_type": "markdown",
   "metadata": {},
   "source": [
    "Daraus ergibt sich die radiale Winkelgeschwindigkeit:"
   ]
  },
  {
   "cell_type": "markdown",
   "metadata": {},
   "source": [
    "\\begin{align}\n",
    "\\left( \\begin{array}{c}\n",
    "  \\dot{x} \\\\\n",
    "  \\dot{y} \\\\\n",
    "\\end{array} \\right) = \\dot{r} * \\vec{e_r} + r \\dot{\\varphi} \\vec{e_\\varphi}\n",
    "\\end{align}"
   ]
  },
  {
   "cell_type": "markdown",
   "metadata": {},
   "source": [
    "Durch erneute Ableitung\n",
    "\n",
    "\\begin{align}\n",
    "\\left( \\begin{array}{c}\n",
    "  \\ddot{x} \\\\\n",
    "  \\dot{y} \\\\\n",
    "\\end{array} \\right) = \\ddot{r}\\vec{e_r} + \\dot{r} \\dot{\\varphi} \\vec{e_\\varphi} + r\\ddot{\\varphi}\\vec{e_\\varphi} + r\\dot{\\varphi}(-\\dot{\\varphi}\\vec{e_r}) = (\\ddot{r} - r\\dot{\\varphi}^2)\\vec{e_r} + (2r\\ddot{\\varphi} + r \\dot{\\varphi}) \\vec{e_\\varphi}\n",
    "\\end{align}"
   ]
  },
  {
   "cell_type": "markdown",
   "metadata": {},
   "source": [
    "Daraus ergibt sich die Radialkraft(Beschleunigung vom Körper weg)\n",
    "\n",
    "\\begin{align}\n",
    "F_r = m (\\ddot{\\vec{r}} - r\\dot{\\varphi}^2)\n",
    "\\end{align}\n",
    "\n",
    "sowie die Winkelkraft (Beschleunigung in Bewegungsrichtung)\n",
    "\n",
    "\\begin{align}\n",
    "F_\\varphi = m (r\\ddot{\\varphi} + 2r\\dot{\\varphi})\n",
    "\\end{align}"
   ]
  },
  {
   "cell_type": "markdown",
   "metadata": {},
   "source": [
    "Die Radialkraft wirkt der Anziehungskraft der 2 Körper entgegen, sie heben sich also gegenseitig auf und bleibt über die Zeit immer 0, die potentielle Energie ändert sich also nicht:\n",
    "    \n",
    "\\begin{align}\n",
    "m (\\ddot{\\vec{r}} - r\\dot{\\varphi}^2) = -G \\frac{mM}{r^2}\n",
    "\\end{align}\n",
    "\n",
    "Die Winkelkraft bleibt immer 0, das bedeutet es wirkt keine Bescheunigung in Richtung der Kreisbahn, die Geschwindigkeit bleibt gleich.\n",
    "\n",
    "\\begin{align}\n",
    "m (r\\ddot{\\varphi} + 2r\\dot{\\varphi}) = 0\n",
    "\\end{align}"
   ]
  },
  {
   "cell_type": "markdown",
   "metadata": {},
   "source": [
    "Energieerhaltungssatz\n",
    "\n",
    "\\begin{align}\n",
    "E = E_{pot}  + E_{kin}\\\\\n",
    "E = 1/2 * m * v^2 - \\frac{GmM}{r^2}\n",
    "\\end{align}\n",
    "\n",
    "In Polarkoordinaten:\n",
    "\\begin{align}\n",
    "E = m/2(\\dot{r^2} + (r\\dot{\\varphi})^2) - \\frac{GmM}{r^2}\n",
    "\\end{align}\n",
    "\n",
    "Für diese Formel ergibt sich durch Ableitung nach der Zeit:\n",
    "\\begin{align}\n",
    "\\frac{dE}{dt} = 0\n",
    "\\end{align}"
   ]
  },
  {
   "cell_type": "markdown",
   "metadata": {},
   "source": [
    "Impulserhaltungssatz\n",
    "\n",
    "Ein Impuls wird beschrieben mit:\n",
    "\\begin{align}\n",
    "L = m  + v\\\\\n",
    "\\end{align}\n",
    "\n",
    "In Polarkoordinaten:\n",
    "\\begin{align}\n",
    "L = m (\\ddot{\\vec{r}} - r\\dot{\\varphi}^2)\n",
    "\\end{align}\n",
    "\n",
    "Abgeleitet nach der Zeit ergibt sich\n",
    "\\begin{align}\n",
    "\\frac{dL}{dt} = 0\n",
    "\\end{align}\n"
   ]
  },
  {
   "cell_type": "markdown",
   "metadata": {},
   "source": [
    "Drehimpuls\n",
    "\n",
    "Der Drehimpuls in Polarkoordinaten wird wie folgt beschrieben:\n",
    "    \n",
    "\\begin{align}\n",
    "L = m r^2 \\dot{\\varphi}\n",
    "\\end{align}\n",
    "\n",
    "Durch Ableitung nach der Zeit\n",
    "\n",
    "\\begin{align}\n",
    "\\frac{dL}{dt}\n",
    "\\end{align}\n",
    "\n",
    "ergibt sich:\n",
    "\n",
    "\\begin{align}\n",
    "m2r\\dot{r}\\dot{\\varphi} + mr^2\\ddot{\\varphi}\\\\\n",
    "mr(2\\dot{r}\\dot{\\varphi} + r\\ddot{\\varphi}) = 0\n",
    "\\end{align}"
   ]
  },
  {
   "cell_type": "code",
   "execution_count": null,
   "metadata": {},
   "outputs": [],
   "source": []
  }
 ],
 "metadata": {
  "kernelspec": {
   "display_name": "Python 3",
   "language": "python",
   "name": "python3"
  },
  "language_info": {
   "codemirror_mode": {
    "name": "ipython",
    "version": 3
   },
   "file_extension": ".py",
   "mimetype": "text/x-python",
   "name": "python",
   "nbconvert_exporter": "python",
   "pygments_lexer": "ipython3",
   "version": "3.6.4"
  }
 },
 "nbformat": 4,
 "nbformat_minor": 2
}
