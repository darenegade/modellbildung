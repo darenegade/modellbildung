{
 "cells": [
  {
   "cell_type": "markdown",
   "metadata": {},
   "source": [
    "Die Ort eines Objekts lässt sich über Polarkoordinaten ausdrücken.\n",
    "Der radiale Vektor sowie die Position auf der Kreisbahn lassen sich wie folgt ausdrücken."
   ]
  },
  {
   "cell_type": "markdown",
   "metadata": {},
   "source": [
    "\\begin{align}\n",
    "\\vec{e_r} = \\vec{e_x} * cos(\\varphi) + \\vec{e_y} * sin(\\varphi)\\\\\n",
    "\\vec{e_\\varphi} = -\\vec{e_x} * sin(\\varphi) + \\vec{e_y} * cos(\\varphi)\n",
    "\\end{align}"
   ]
  },
  {
   "cell_type": "markdown",
   "metadata": {},
   "source": [
    "Als lineares Gleichungssystem ergibt sich nun:"
   ]
  },
  {
   "cell_type": "markdown",
   "metadata": {},
   "source": [
    "\\begin{align}\n",
    "\\vec{e_r} = \\left( \\begin{array}{c}\n",
    "  \\cos(\\varphi) \\\\\n",
    "  \\sin(\\varphi) \\\\\n",
    "\\end{array} \\right) \n",
    "\\end{align}"
   ]
  },
  {
   "cell_type": "markdown",
   "metadata": {},
   "source": [
    "\\begin{align}\n",
    "\\vec{e_\\varphi} = \\left( \\begin{array}{c}\n",
    "  -sin(\\varphi) \\\\\n",
    "  \\cos(\\varphi) \\\\\n",
    "\\end{array} \\right) \n",
    "\\end{align}"
   ]
  },
  {
   "cell_type": "markdown",
   "metadata": {},
   "source": [
    "Durch Ableiten erhält man die Geschwindigkeiten:"
   ]
  },
  {
   "cell_type": "markdown",
   "metadata": {},
   "source": [
    "\\begin{align}\n",
    "\\dot{\\vec{e_r}} = \\left( \\begin{array}{c}\n",
    "  -\\sin(\\varphi) * \\dot{\\varphi} \\\\\n",
    "  \\cos(\\varphi) * \\dot{\\varphi} \\\\\n",
    "\\end{array} \\right) = \\dot{\\varphi} * \\left( \\begin{array}{c}\n",
    "  -\\sin(\\varphi) \\\\\n",
    "  \\cos(\\varphi) \\\\\n",
    "\\end{array} \\right) = \\dot{\\varphi} * \\vec{e_\\varphi}\n",
    "\\end{align}"
   ]
  },
  {
   "cell_type": "markdown",
   "metadata": {},
   "source": [
    "\\begin{align}\n",
    "\\dot{\\vec{e_\\varphi}} = \\left( \\begin{array}{c}\n",
    "-\\cos(\\varphi) * \\dot{\\varphi}\\\\\n",
    " -\\sin(\\varphi) * \\dot{\\varphi} \\\\\n",
    "\\end{array} \\right) = - \\dot{\\varphi} * \\vec{e_r}\n",
    "\\end{align}"
   ]
  },
  {
   "cell_type": "markdown",
   "metadata": {},
   "source": [
    "Daraus ergibt sich die radiale Winkelgeschwindigkeit:"
   ]
  },
  {
   "cell_type": "markdown",
   "metadata": {},
   "source": [
    "\\begin{align}\n",
    "\\left( \\begin{array}{c}\n",
    "  \\dot{x} \\\\\n",
    "  \\dot{y} \\\\\n",
    "\\end{array} \\right) = \\dot{r} * \\vec{e_r} + r \\dot{\\varphi} \\vec{e_\\varphi}\n",
    "\\end{align}"
   ]
  },
  {
   "cell_type": "markdown",
   "metadata": {},
   "source": [
    "Durch erneute Ableitung\n",
    "\n",
    "\\begin{align}\n",
    "\\left( \\begin{array}{c}\n",
    "  \\dot{\\dot{x}} \\\\\n",
    "  \\dot{\\dot{y}} \\\\\n",
    "\\end{array} \\right) = \\dot{\\dot{r}}\\vec{e_r} + \\dot{r} \\dot{\\varphi} \\vec{e_\\varphi} + r\\dot{\\dot{\\varphi}}\\vec{e_\\varphi} + r\\dot{\\varphi}(-\\dot{\\varphi}\\vec{e_r}) = (\\dot{\\dot{r}} - r\\dot{\\varphi}^2)\\vec{e_r} + (2r\\dot{\\dot{\\varphi}} + r \\dot{\\varphi}) \\vec{e_\\varphi}\n",
    "\\end{align}"
   ]
  },
  {
   "cell_type": "markdown",
   "metadata": {},
   "source": [
    "Daraus ergibt sich die Radialkraft(Beschleunigung vom Körper weg)\n",
    "\n",
    "\\begin{align}\n",
    "F_r = m (\\dot{\\dot{\\vec{r}}} - r\\dot{\\varphi}^2)\n",
    "\\end{align}\n",
    "\n",
    "sowie die Winkelkraft (Beschleunigung in Bewegungsrichtung)\n",
    "\n",
    "\\begin{align}\n",
    "F_\\varphi = m (r\\dot{\\dot{\\varphi}} + 2r\\dot{\\varphi})\n",
    "\\end{align}"
   ]
  },
  {
   "cell_type": "markdown",
   "metadata": {},
   "source": [
    "Die Radialkraft wirkt der Anziehungskraft der 2 Körper entgegen, sie heben sich also gegenseitig auf und bleibt über die Zeit immer 0, die potentielle Energie ändert sich also nicht:\n",
    "    \n",
    "\\begin{align}\n",
    "m (\\dot{\\dot{\\vec{r}}} - r\\dot{\\varphi}^2) = -G \\frac{mM}{r^2}\n",
    "\\end{align}\n",
    "\n",
    "Die Winkelkraft bleibt immer 0, das bedeutet es wirkt keine Bescheunigung in Richtung der Kreisbahn, die Geschwindigkeit bleibt gleich.\n",
    "\n",
    "\\begin{align}\n",
    "m (r\\dot{\\dot{\\varphi}} + 2r\\dot{\\varphi}) = 0\n",
    "\\end{align}"
   ]
  },
  {
   "cell_type": "code",
   "execution_count": null,
   "metadata": {},
   "outputs": [],
   "source": []
  }
 ],
 "metadata": {
  "kernelspec": {
   "display_name": "Python 3",
   "language": "python",
   "name": "python3"
  },
  "language_info": {
   "codemirror_mode": {
    "name": "ipython",
    "version": 3
   },
   "file_extension": ".py",
   "mimetype": "text/x-python",
   "name": "python",
   "nbconvert_exporter": "python",
   "pygments_lexer": "ipython3",
   "version": "3.6.4"
  }
 },
 "nbformat": 4,
 "nbformat_minor": 2
}
