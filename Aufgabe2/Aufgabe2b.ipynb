{
 "cells": [
  {
   "cell_type": "code",
   "execution_count": 32,
   "metadata": {},
   "outputs": [],
   "source": [
    "import pandas as pd\n",
    "import matplotlib.pyplot as plt\n",
    "import pylab as pylab\n",
    "import numpy.polynomial.polynomial as poly\n",
    "import numpy as np\n",
    "import math\n",
    "g=9.81"
   ]
  },
  {
   "cell_type": "markdown",
   "metadata": {},
   "source": [
    "# Aufgabe 2 b"
   ]
  },
  {
   "cell_type": "markdown",
   "metadata": {},
   "source": [
    "Im Vergleich zur vorherigen Aufgabe wird nun auch die Reibung berüksichtigt. Diese wirkt der Bewegung entgegen:"
   ]
  },
  {
   "cell_type": "markdown",
   "metadata": {},
   "source": [
    "\\begin{align}\n",
    "\\ddot{x}_0 = 0 - \\dot{x}_r\\\\\n",
    "\\ddot{y}_0 = -g -\\dot{y}_r\n",
    "\\end{align}"
   ]
  },
  {
   "cell_type": "markdown",
   "metadata": {},
   "source": [
    "Setzt man die Gleitreibungskraft mit allgemeinen Kraft-/Beschleunigungformel gleich, so lassen sich die gesuchten Bewegungsgleichungen herleiten:"
   ]
  },
  {
   "cell_type": "markdown",
   "metadata": {},
   "source": [
    "\\begin{align}\n",
    "F = m \\cdot a \\wedge F = \\frac{1}{2}\\cdot \\pi R² \\rho C v² \\\\\n",
    "m \\cdot a = \\frac{1}{2}\\cdot \\pi R² \\rho C v² \\\\\n",
    "a = \\frac{0.5 \\cdot \\pi R² \\rho C}{m} v² \\\\\n",
    "\\end{align}"
   ]
  },
  {
   "cell_type": "markdown",
   "metadata": {},
   "source": [
    "Die hergeleitete Formel betrachtet die Rechnung lediglich betraglich. Die gesuchte Lösung hingegen ist gerichtet. D.h. die Geschwindigkeit v muss vektoriell in die Rechnung einfließen."
   ]
  },
  {
   "cell_type": "markdown",
   "metadata": {},
   "source": [
    "\\begin{align}\n",
    "\\vec{v} = |v| \\cdot \\vec{e} \\\\\n",
    "\\vec{v}² = |v| \\cdot \\vec{e} \\cdot \\vec{v} \\\\\n",
    "\\vec{v}² = \\sqrt{\\dot{x}² \\cdot \\dot{y²}} \\cdot \\vec{v} \\\\\n",
    "\\end{align}"
   ]
  },
  {
   "cell_type": "markdown",
   "metadata": {},
   "source": [
    "Setzt man diese Erkenntnis in die Gleichung ein, so erhällt man:"
   ]
  },
  {
   "cell_type": "markdown",
   "metadata": {},
   "source": [
    "\\begin{align}\n",
    "\\ddot{x} = -\\frac{0.5 \\cdot \\pi R² \\rho C}{m} \\sqrt{\\dot{x}² \\cdot \\dot{y²}} \\cdot \\dot{x} \\\\\n",
    "\\ddot{x} = -g-\\frac{0.5 \\cdot \\pi R² \\rho C}{m} \\sqrt{\\dot{x}² \\cdot \\dot{y²}} \\cdot \\dot{y}\n",
    "\\end{align}"
   ]
  },
  {
   "cell_type": "markdown",
   "metadata": {},
   "source": [
    "Beide Gleichungen sind Differenzialgleichungen 2. Ordnung. Diese lassen sich in Gleichungen 1. Ordung überführen:"
   ]
  },
  {
   "cell_type": "markdown",
   "metadata": {},
   "source": [
    "\\begin{align}\n",
    "\\dot{x} = \\frac{z}{m} \\cdot \\sqrt{\\dot{x}² \\cdot \\dot{y²}} \\cdot \\dot{x} \\\\\n",
    "\\frac{d}{dx}  \n",
    "\\left( \\begin{array}{c}\n",
    "x \\\\\n",
    "\\dot{x} \n",
    "\\end{array} \\right) = \\left( \\begin{array}{c}\n",
    "\\dot{x} \\\\\n",
    "\\frac{z}{m} \\cdot \\sqrt{\\dot{x}² \\cdot \\dot{y²}} \\cdot \\dot{x}\n",
    "\\end{array} \\right)\n",
    "\\end{align}"
   ]
  },
  {
   "cell_type": "markdown",
   "metadata": {},
   "source": [
    "sowie:"
   ]
  },
  {
   "cell_type": "markdown",
   "metadata": {},
   "source": [
    "\\begin{align}\n",
    "\\dot{y} = -g \\cdot \\frac{z}{m} \\cdot \\sqrt{\\dot{x}² \\cdot \\dot{y²}} \\cdot \\dot{y} \\\\\n",
    "\\frac{d}{dy}  \n",
    "\\left( \\begin{array}{c}\n",
    "y \\\\\n",
    "\\dot{y} \n",
    "\\end{array} \\right) = \\left( \\begin{array}{c}\n",
    "\\dot{y} \\\\\n",
    "-\\frac{z}{m} \\cdot \\sqrt{\\dot{x}² \\cdot \\dot{y²}} \\cdot \\dot{y}\n",
    "\\end{array} \\right)\n",
    "\\end{align}"
   ]
  },
  {
   "cell_type": "markdown",
   "metadata": {},
   "source": [
    "mit:"
   ]
  },
  {
   "cell_type": "markdown",
   "metadata": {},
   "source": [
    "\\begin{align}\n",
    "z=0.5 \\cdot \\pi R² \\rho C\n",
    "\\end{align}"
   ]
  },
  {
   "cell_type": "markdown",
   "metadata": {},
   "source": [
    "### Numerische Lösung"
   ]
  },
  {
   "cell_type": "markdown",
   "metadata": {},
   "source": [
    "Zunächst wird wieder ein Zustandsvektor definiert. Diese ist vom Aufbau identisch zur Aufgabe a:"
   ]
  },
  {
   "cell_type": "markdown",
   "metadata": {},
   "source": [
    "\\begin{align}\n",
    "\\vec{u}= \\left( \\begin{array}{c}v_x\\\\v_y\\\\x\\\\y\\end{array} \\right)  \n",
    "\\vec{\\dot{u}}= \\left( \\begin{array}{c}-\\frac{0.5 \\cdot \\pi R² \\rho C}{m} \\sqrt{\\dot{x}² \\cdot \\dot{y²}} \\cdot \\dot{x}\\\\-g-\\frac{0.5 \\cdot \\pi R² \\rho C}{m} \\sqrt{\\dot{x}² \\cdot \\dot{y²}} \\cdot \\dot{y}\\\\u(1)\\\\u(2)\\end{array} \\right)\n",
    "\\end{align}"
   ]
  },
  {
   "cell_type": "markdown",
   "metadata": {},
   "source": [
    "Da das Koordinatensystem so gewählt wurde, dass der Moment des Abwurfes t=0 im Ursprung liegt, ergibt sich für den Startzustand (wie in a):\n"
   ]
  },
  {
   "cell_type": "markdown",
   "metadata": {},
   "source": [
    "\\begin{align}\n",
    "\\vec{u_0}= \\left( \\begin{array}{c}\n",
    "v_0 \\cdot \\cos(\\omega) \\\\\n",
    "v_0 \\cdot \\sin(\\omega) \\\\\n",
    "0\\\\\n",
    "0\\end{array} \\right) \n",
    "\\end{align}"
   ]
  },
  {
   "cell_type": "markdown",
   "metadata": {},
   "source": [
    "Die numerische Berechnung:"
   ]
  },
  {
   "cell_type": "code",
   "execution_count": 33,
   "metadata": {},
   "outputs": [
    {
     "data": {
      "text/plain": [
       "[<matplotlib.lines.Line2D at 0x7fc669d1da58>]"
      ]
     },
     "execution_count": 33,
     "metadata": {},
     "output_type": "execute_result"
    },
    {
     "data": {
      "image/png": "[encoded data removed]",
      "text/plain": [
       "<matplotlib.figure.Figure at 0x7fc669d1d3c8>"
      ]
     },
     "metadata": {},
     "output_type": "display_data"
    }
   ],
   "source": [
    "m=0.06 #60g Tennisball\n",
    "R=0.033 #3,3cm Radius\n",
    "C=0.5\n",
    "rho=1.2041\n",
    "z=0.5*3.1415926535*R*R*C*rho/m\n",
    "\n",
    "v0 = 10\n",
    "omega = 30\n",
    "u1=[v0*math.cos(math.radians(omega))]\n",
    "u2=[v0*math.sin(math.radians(omega))]\n",
    "u3=[0]\n",
    "u4=[0]\n",
    "\n",
    "dt = 0.01\n",
    "i=0;\n",
    "while u4[-1]  >= 0 and i < 10000: #Rechnen bis der erste y-Wert unterhalb von 0 liegt => Boden berührt\n",
    "    du1 = -z/m*   math.sqrt(u1[-1]*u1[-1]+u2[-1]*u2[-1])   * u1[-1]\n",
    "    du2 = -g-(z/m*math.sqrt(u1[-1]*u1[-1]+u2[-1]*u2[-1]))  * u2[-1]\n",
    "    du3 = u1[-1]\n",
    "    du4 = u2[-1]\n",
    "    u1.append(u1[-1] + du1 * dt)\n",
    "    u2.append(u2[-1] + du2 * dt)\n",
    "    u3.append(u3[-1] + du3 * dt)\n",
    "    u4.append(u4[-1] + du4 * dt)\n",
    "    i = i+1\n",
    "plt.plot(u3, u4)\n",
    "\n",
    "fx = lambda t, v0, omega : v0 * math.cos(math.radians(omega)) * t;      #Flugbahn x-Komponente\n",
    "fy = lambda t, v0, omega: -0.5*g*t*t+v0*math.sin(math.radians(omega))*t #Flugbahn y-Komponente\n",
    "\n",
    "plt.plot([fx(t, v0, omega) for t in np.arange(0, 1.03, 0.05)], [fy(t, v0, omega) for t in np.arange(0, 1.03, 0.05)])"
   ]
  },
  {
   "cell_type": "markdown",
   "metadata": {},
   "source": [
    "Die blaue Kurve zeigt den Wurf mit Reibung. In orange wurde die Trajektorie ohne Reibung aus Aufgabeteil a dargestellt"
   ]
  },
  {
   "cell_type": "code",
   "execution_count": null,
   "metadata": {},
   "outputs": [],
   "source": []
  },
  {
   "cell_type": "code",
   "execution_count": null,
   "metadata": {},
   "outputs": [],
   "source": []
  }
 ],
 "metadata": {
  "kernelspec": {
   "display_name": "Python 3",
   "language": "python",
   "name": "python3"
  },
  "language_info": {
   "codemirror_mode": {
    "name": "ipython",
    "version": 3
   },
   "file_extension": ".py",
   "mimetype": "text/x-python",
   "name": "python",
   "nbconvert_exporter": "python",
   "pygments_lexer": "ipython3",
   "version": "3.6.4"
  }
 },
 "nbformat": 4,
 "nbformat_minor": 2
}
