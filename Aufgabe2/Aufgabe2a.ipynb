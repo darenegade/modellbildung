{
 "cells": [
  {
   "cell_type": "code",
   "execution_count": 1,
   "metadata": {},
   "outputs": [],
   "source": [
    "import pandas as pd\n",
    "import matplotlib.pyplot as plt\n",
    "import pylab as pylab\n",
    "import numpy.polynomial.polynomial as poly\n",
    "import numpy as np\n",
    "from scipy.integrate import odeint\n",
    "import math\n",
    "g=9.81"
   ]
  },
  {
   "cell_type": "markdown",
   "metadata": {},
   "source": [
    "# Aufgabe 2 a"
   ]
  },
  {
   "cell_type": "markdown",
   "metadata": {},
   "source": [
    "## Aufgabe 2 a - i"
   ]
  },
  {
   "cell_type": "markdown",
   "metadata": {},
   "source": [
    "### Analytische Lösung"
   ]
  },
  {
   "cell_type": "markdown",
   "metadata": {},
   "source": [
    "Um die Flugbahn des kugelformigen Objektes errechnen zu können müssen alle  wirkenden  Geschwindigkeiten  und Beschleunigungen  angetragen  werden. In x-Richtung  wirkt  lediglich  die  Anfangsgeschwindigkeit $v_0$. Es findet  keine ̈Anderung der Geschwindigkeit statt, woraus folgt:"
   ]
  },
  {
   "cell_type": "markdown",
   "metadata": {},
   "source": [
    "$$\n",
    "x = v_{0x} \\cdot t + x_0 \\\\\n",
    "\\dot{x} = v_{0x} \\\\\n",
    "\\ddot{x} = 0\n",
    "$$"
   ]
  },
  {
   "cell_type": "markdown",
   "metadata": {},
   "source": [
    "Für die y-Richtung ergibt sich:"
   ]
  },
  {
   "cell_type": "markdown",
   "metadata": {},
   "source": [
    "\\begin{align}\n",
    "y = -\\frac{1}{2} \\cdot g \\cdot t^2 + v_{0y} \\cdot t + y_0\\\\\n",
    "\\dot{y} = \\frac{d}{dt} y = -g \\cdot t + v_{0y}\\\\\n",
    "\\ddot{y} = \\frac{d}{dt^2} y = -g\n",
    "\\end{align}"
   ]
  },
  {
   "cell_type": "markdown",
   "metadata": {},
   "source": [
    "Das Koordinatensystem wird so gewählt, dass der Punkt des Abwurfes im Koordinatenursprung liegt. Dadurch ergibt sich: "
   ]
  },
  {
   "cell_type": "markdown",
   "metadata": {},
   "source": [
    "$$\n",
    "x_0 = 0 \\\\\n",
    "y_0 = 0 \\\\\n",
    "x(t) = v_{0x} \\cdot t \\\\\n",
    "y(t) = -\\frac{1}{2} \\cdot g \\cdot t^2 + v_{0y} \\cdot t\\\\\n",
    "$$"
   ]
  },
  {
   "cell_type": "markdown",
   "metadata": {},
   "source": [
    "Die Geschwindigkeit $v_0$ wirkt in die Richtung die von dem dem Winkel ω vorgegeben wird. Diese muss in zwei Komponenten, die Richtungen der Achsen, aufgeteilt werden. Unter Verwendung der Winkelfunktionen ergibt sich:"
   ]
  },
  {
   "cell_type": "markdown",
   "metadata": {},
   "source": [
    "\\begin{align}\n",
    "x(t) = v_{0x} \\cdot t  = v_0 \\cdot \\cos(\\omega) \\cdot t \\\\\n",
    "y(t) = -\\frac{1}{2}g \\cdot t^2 + v_{0y} \\cdot t = -\\frac{1}{2}g \\cdot t^2 + v_0 \\cdot \\sin(\\omega) \\cdot t\n",
    "\\end{align}"
   ]
  },
  {
   "cell_type": "markdown",
   "metadata": {},
   "source": [
    "Zunächst muss in Abhängigkeit der Abwurfwinkels $\\omega$ ermittelt werden wie lange es dauert bis das Objekt wieder den Boden berührt. Dazu werden die Nullstellen Gleichung (4) mithilfe der Mitternachtsformel ermittelt."
   ]
  },
  {
   "cell_type": "markdown",
   "metadata": {},
   "source": [
    "\\begin{align}\n",
    "y(t) \\stackrel{!}{=} 0 = -\\frac{1}{2}g \\cdot t^2 + v_0 \\cdot \\sin(\\omega) \\cdot t \\\\\n",
    "t_{1/2} = \\frac{-v_0 \\cdot \\sin(\\omega)  \\pm  \\sqrt{v_0^2 \\cdot \\sin^2(\\omega)}}{-g} \\\\\n",
    "t_{1/2} = \\left\\{\\begin{array}{ll} 0 \\\\\n",
    "         \\frac{2 \\cdot v_0}{g} \\cdot \\sin(\\omega) \\end{array}\\right. .\n",
    "\\end{align}"
   ]
  },
  {
   "cell_type": "markdown",
   "metadata": {},
   "source": [
    "Die gesuchte Lösung ist $t_2$, denn $t_1$ stellt die Situation zum Moment des Abwurfes dar und ist somit trivial.\n",
    "Als nächstes wird $t_2$ eingesetzt. \n",
    "\n",
    "Man erhällt:"
   ]
  },
  {
   "cell_type": "markdown",
   "metadata": {},
   "source": [
    "\\begin{align}\n",
    "x(\\omega) = v_0 \\cdot \\cos(\\omega) \\cdot \\frac{2 \\cdot v_0}{g} \\cdot \\sin(\\omega) \\\\\n",
    "x(\\omega) = \\frac{v_0^2}{g} \\cdot \\sin(2 \\cdot \\omega)\n",
    "\\end{align}"
   ]
  },
  {
   "cell_type": "markdown",
   "metadata": {},
   "source": [
    "### Graphische Darstellung der analytischen Lösung"
   ]
  },
  {
   "cell_type": "markdown",
   "metadata": {},
   "source": [
    "Zur graphischen Darstellung der Wurfbahn werden zunächst zwei Beispiele festgelegt:"
   ]
  },
  {
   "cell_type": "markdown",
   "metadata": {},
   "source": [
    "\\begin{align}\n",
    "(1): v_0 = 10\\frac{m}{s} \\wedge \\omega=30° \\\\\n",
    "(2): v_0 = 7\\frac{m}{s} \\wedge \\omega=45°\n",
    "\\end{align}"
   ]
  },
  {
   "cell_type": "code",
   "execution_count": 9,
   "metadata": {
    "scrolled": true
   },
   "outputs": [
    {
     "data": {
      "text/plain": [
       "[<matplotlib.lines.Line2D at 0x7faf2b1824e0>]"
      ]
     },
     "execution_count": 9,
     "metadata": {},
     "output_type": "execute_result"
    },
    {
     "data": {
      "image/png": "[encoded data removed]",
      "text/plain": [
       "<matplotlib.figure.Figure at 0x7faf2b182f98>"
      ]
     },
     "metadata": {},
     "output_type": "display_data"
    }
   ],
   "source": [
    "v0_1 = 10\n",
    "omega_1 = 30\n",
    "v0_2 = 7\n",
    "omega_2 = 45\n",
    "\n",
    "fx = lambda t, v0, omega : v0 * math.cos(math.radians(omega)) * t;      #Flugbahn x-Komponente\n",
    "fy = lambda t, v0, omega: -0.5*g*t*t+v0*math.sin(math.radians(omega))*t #Flugbahn y-Komponente\n",
    "\n",
    "plt.plot([fx(t, v0_1, omega_1) for t in np.arange(0, 1.03, 0.05)], [fy(t, v0_1, omega_1) for t in np.arange(0, 1.03, 0.05)])\n",
    "plt.plot([fx(t, v0_2, omega_2) for t in np.arange(0, 1.01, 0.05)], [fy(t, v0_2, omega_2) for t in np.arange(0, 1.01, 0.05)])"
   ]
  },
  {
   "cell_type": "markdown",
   "metadata": {},
   "source": [
    "Als Beispiele für die Wurfweiten wurden folgende Werte gewählt:"
   ]
  },
  {
   "cell_type": "markdown",
   "metadata": {},
   "source": [
    "\\begin{align}\n",
    "(1): v_0 = 10\\frac{m}{s} \\\\\n",
    "(2): v_0 = 7.5\\frac{m}{s} \\\\\n",
    "(3): v_0 = 5\\frac{m}{s} \n",
    "\\end{align}"
   ]
  },
  {
   "cell_type": "code",
   "execution_count": 10,
   "metadata": {},
   "outputs": [
    {
     "data": {
      "text/plain": [
       "[<matplotlib.lines.Line2D at 0x7faf2b0df9b0>]"
      ]
     },
     "execution_count": 10,
     "metadata": {},
     "output_type": "execute_result"
    },
    {
     "data": {
      "image/png": "[encoded data removed]",
      "text/plain": [
       "<matplotlib.figure.Figure at 0x7faf33902a58>"
      ]
     },
     "metadata": {},
     "output_type": "display_data"
    }
   ],
   "source": [
    "v0_1 = 10\n",
    "v0_2 = 7.5\n",
    "v0_3 = 5\n",
    "\n",
    "ww = lambda omega, v0: v0 * v0 * math.sin(math.radians(2 * omega)) / g;\n",
    "\n",
    "plt.plot(range(0,90), [ ww(omega, v0_1) for omega in range(0,90) ])\n",
    "plt.plot(range(0,90), [ ww(omega, v0_2) for omega in range(0,90) ])\n",
    "plt.plot(range(0,90), [ ww(omega, v0_3) for omega in range(0,90) ])"
   ]
  },
  {
   "cell_type": "markdown",
   "metadata": {},
   "source": [
    "### Numerische Lösung"
   ]
  },
  {
   "cell_type": "markdown",
   "metadata": {},
   "source": [
    "Zur numerischen Ermittlung der Flugbahn wird zunächst ein Vektor benötigt, der den Zustand des Systems zu einem bestimmten Zeitpunkt beschreibt sowie ein Weiterer der die erste Ableitung beschreibt. Diese sind:"
   ]
  },
  {
   "cell_type": "markdown",
   "metadata": {},
   "source": [
    "\\begin{align}\n",
    "\\vec{u}= \\left( \\begin{array}{c}v_x\\\\v_y\\\\x\\\\y\\end{array} \\right)  \n",
    "\\vec{\\dot{u}}= \\left( \\begin{array}{c}0\\\\-g\\\\u(1)\\\\u(2)\\end{array} \\right)\n",
    "\\end{align}"
   ]
  },
  {
   "cell_type": "markdown",
   "metadata": {},
   "source": [
    "Da das Koordinatensystem so gewählt wurde, dass der Moment des Abwurfes $t=0$ im Ursprung liegt, ergibt sich für den Startzustand:\n"
   ]
  },
  {
   "cell_type": "markdown",
   "metadata": {},
   "source": [
    "\\begin{align}\n",
    "\\vec{u_0}= \\left( \\begin{array}{c}\n",
    "v_0 \\cdot \\cos(\\omega) \\\\\n",
    "v_0 \\cdot \\sin(\\omega) \\\\\n",
    "0\\\\\n",
    "0\\end{array} \\right) \n",
    "\\end{align}"
   ]
  },
  {
   "cell_type": "markdown",
   "metadata": {},
   "source": [
    "Die numerische Berechnung:"
   ]
  },
  {
   "cell_type": "code",
   "execution_count": 4,
   "metadata": {},
   "outputs": [
    {
     "data": {
      "text/plain": [
       "[<matplotlib.lines.Line2D at 0x7faf2b326b38>]"
      ]
     },
     "execution_count": 4,
     "metadata": {},
     "output_type": "execute_result"
    },
    {
     "data": {
      "image/png": "[encoded data removed]",
      "text/plain": [
       "<matplotlib.figure.Figure at 0x7faf2b3269e8>"
      ]
     },
     "metadata": {},
     "output_type": "display_data"
    }
   ],
   "source": [
    "v0 = 10\n",
    "omega = 30\n",
    "u1=[v0*math.cos(math.radians(omega))]\n",
    "u2=[v0*math.sin(math.radians(omega))]\n",
    "u3=[0]\n",
    "u4=[0]\n",
    "\n",
    "dt = 0.01\n",
    "while u4[-1]  >= 0: #Rechnen bis der erste y-Wert unterhalb von 0 liegt => Boden berührt\n",
    "    du1=0\n",
    "    du2=-g\n",
    "    du3=u1[-1]\n",
    "    du4=u2[-1]\n",
    "    u1.append(u1[-1] + du1 * dt)\n",
    "    u2.append(u2[-1] + du2 * dt)\n",
    "    u3.append(u3[-1] + du3 * dt)\n",
    "    u4.append(u4[-1] + du4 * dt)\n",
    "\n",
    "plt.plot(u3, u4)\n",
    "plt.plot([fx(t, v0_1, omega_1) for t in np.arange(0, 1.03, 0.05)], [fy(t, v0_1, omega_1) for t in np.arange(0, 1.03, 0.05)])"
   ]
  },
  {
   "cell_type": "markdown",
   "metadata": {},
   "source": [
    "Werden nur wenige Iterationen zur Näherung verwendet zeigt sich ein Unterschied zur numerischen Lösung"
   ]
  },
  {
   "cell_type": "code",
   "execution_count": 5,
   "metadata": {},
   "outputs": [
    {
     "data": {
      "text/plain": [
       "[<matplotlib.lines.Line2D at 0x7faf2b3265f8>]"
      ]
     },
     "execution_count": 5,
     "metadata": {},
     "output_type": "execute_result"
    },
    {
     "data": {
      "image/png": "[encoded data removed]",
      "text/plain": [
       "<matplotlib.figure.Figure at 0x7faf2b3260f0>"
      ]
     },
     "metadata": {},
     "output_type": "display_data"
    }
   ],
   "source": [
    "v0 = 10\n",
    "omega = 30\n",
    "u1=[v0*math.cos(math.radians(omega))]\n",
    "u2=[v0*math.sin(math.radians(omega))]\n",
    "u3=[0]\n",
    "u4=[0]\n",
    "\n",
    "dt = 0.05\n",
    "while u4[-1]  >= 0: #Rechnen bis der erste y-Wert unterhalb von 0 liegt => Boden berührt\n",
    "    du1=0\n",
    "    du2=-g\n",
    "    du3=u1[-1]\n",
    "    du4=u2[-1]\n",
    "    u1.append(u1[-1] + du1 * dt)\n",
    "    u2.append(u2[-1] + du2 * dt)\n",
    "    u3.append(u3[-1] + du3 * dt)\n",
    "    u4.append(u4[-1] + du4 * dt)\n",
    "\n",
    "plt.plot(u3, u4)\n",
    "plt.plot([fx(t, v0_1, omega_1) for t in np.arange(0, 1.03, 0.05)], [fy(t, v0_1, omega_1) for t in np.arange(0, 1.03, 0.05)])\n"
   ]
  },
  {
   "cell_type": "markdown",
   "metadata": {},
   "source": [
    "## Aufgabe 2 a - ii"
   ]
  },
  {
   "cell_type": "markdown",
   "metadata": {},
   "source": [
    "$$\n",
    "x(t)  = v_0 \\cdot \\cos(\\frac{\\pi}{2}) \\cdot t = 0 \\\\\n",
    "y(t)  = -\\frac{1}{2}g \\cdot t^2 + v_0 \\cdot \\sin(\\frac{\\pi}{2}) \\cdot t = -\\frac{1}{2}g \\cdot t^2 + v_0 \\cdot t\\\\\n",
    "$$\n",
    "\n",
    "\n",
    "Um den Zeitpunkt der maximalen Wurfhöhe $t_{max}$ zu erhalten, wird die zweite Ableitung null gesetzt.\n",
    "\n",
    "$$\n",
    "\\dot{y} = \\frac{d}{dt} y = -g \\cdot t + v_0 = 0\\\\\n",
    "t_{max} = \\frac{v_0}{g}\n",
    "$$\n",
    "\n",
    "Eingesetzt in die obere Gleichung mit t ist der Zeitpunkt der maximalen Höhe.\n",
    "\n",
    "$$\n",
    "y_{max} = -\\frac{1}{2}g \\cdot t_{max}^2 + v_0 \\cdot t_{max} = -\\frac{1}{2}g \\cdot ( \\frac{v_0}{g} )^2 + v_0 \\cdot ( \\frac{v_0}{g} )\\\\\n",
    "$$\n",
    "\n",
    "Umgestellt nach $v_0$ ergibt sich\n",
    "\n",
    "$$\n",
    "v_0 = \\sqrt{y_{max} \\cdot g \\cdot 2}\n",
    "$$"
   ]
  },
  {
   "cell_type": "code",
   "execution_count": 6,
   "metadata": {},
   "outputs": [
    {
     "name": "stdout",
     "output_type": "stream",
     "text": [
      "Bei einer Höhe von 100m ergibt sich v0 = 44.294469180700204 m/s\n"
     ]
    }
   ],
   "source": [
    "y_max = 100\n",
    "\n",
    "fv_0 = lambda y: math.sqrt(y * g * 2)\n",
    "y_real = lambda t: -g/2*t**2+fv_0(y_max)*t\n",
    "\n",
    "print ( 'Bei einer Höhe von ' + str(y_max) + 'm ergibt sich v0 = ' + str(fv_0(y_max)) + ' m/s')"
   ]
  },
  {
   "cell_type": "markdown",
   "metadata": {},
   "source": [
    "Die gleiche Rechnung kann auch numerisch gelöst werden. Dabei sind folgende Bedingungen gegeben:"
   ]
  },
  {
   "cell_type": "markdown",
   "metadata": {},
   "source": [
    "Es ist bekannt, was die maximale Höhe $y_0$ ist und gesucht wird die Anfangsgeschwindigkeit $v_0$. \n",
    "Da in unserem Modell nur die Erdanziehung auf dem Objekt einwirkt, erreicht es beim freien Fall aus der maximalen Höhe exakt die Anfangsgeschwindigkeit sobald es den Boden erreicht (Höhe = 0). Damit kann für die Geschwindigkeit folgende Gleichung aufgestellt werden: \n",
    "\n",
    "$$\n",
    "\\frac{dy}{dt} = -g \\cdot t\\\\\n",
    "y_0 = \\ geg. Wurfhöhe\n",
    "$$\n",
    "\n",
    "Das Integral dieser Gleichung stellt die Höhe $y$ zum Zeitpunkt $t$ dar, wobei diese Gleichung nicht bekannt ist und numerisch gelöst werden soll.\n",
    "Hierzu wurde folgende Gleichung aufgestellt:\n",
    "\n",
    "$$\n",
    "y_n(t) = y_{n-1} + \\frac{dy}{dt} \\cdot dt = y_{n-1} + -g \\cdot t_{n-1} \\cdot dt\n",
    "$$\n",
    "\n",
    "Nun kann der Zeitpunkt $t$ gesucht werden, bei dem die Höhe $y=0$ ergibt. Hierzu wird das $dt$ so definiert, dass die Höhe sinkt. Sobald die Höhe negativ wird, wird das $dt$ halbiert und der Funktion in entgegengesetzter Richtung gefolgt, bis diese wieder positiv wird. Diese Anpassung des $dt$ wird solange durchgeführt, bis die Höhe $y=0$ gefunden wurde. "
   ]
  },
  {
   "cell_type": "code",
   "execution_count": 7,
   "metadata": {},
   "outputs": [
    {
     "name": "stdout",
     "output_type": "stream",
     "text": [
      "Bei einer Höhe von 100m ergibt sich v0 = 43.256860333442695 m/s\n",
      "Dies weicht um 1.0376088472575091 m/s von der exakten Lösung ab.\n"
     ]
    },
    {
     "data": {
      "text/plain": [
       "[<matplotlib.lines.Line2D at 0x7faf2b1f65c0>]"
      ]
     },
     "execution_count": 7,
     "metadata": {},
     "output_type": "execute_result"
    },
    {
     "data": {
      "image/png": "[encoded data removed]",
      "text/plain": [
       "<matplotlib.figure.Figure at 0x7faf2b1f6550>"
      ]
     },
     "metadata": {},
     "output_type": "display_data"
    }
   ],
   "source": [
    "f = lambda t: -g*t\n",
    "\n",
    "n = 0\n",
    "t = [0]\n",
    "dt = 0.2\n",
    "y = [y_max]\n",
    "e = 0.000001\n",
    "while abs(y[n]) > e :\n",
    "    y_tmp = y[n] + f(t[n])*dt\n",
    "    if np.sign(y_tmp) != np.sign(y[n]) :\n",
    "        dt = dt/2 * (-1)\n",
    "    y.append( y_tmp )\n",
    "    t.append( t[n] + dt )\n",
    "    n += 1\n",
    "    \n",
    "print ( 'Bei einer Höhe von ' + str(y_max) + 'm ergibt sich v0 = ' + str(abs(f(t[n]))) + ' m/s')\n",
    "print ( 'Dies weicht um ' + str(fv_0(y_max)-abs(f(t[n]))) + ' m/s von der exakten Lösung ab.')\n",
    "\n",
    "plt.plot(t,y)\n",
    "corr = max([abs(min(t)), abs(max(t))])\n",
    "plt.plot(np.arange(min(t),max(t),0.1), y_real(np.arange(min(t)+corr,max(t)+corr,0.1)))"
   ]
  },
  {
   "cell_type": "code",
   "execution_count": null,
   "metadata": {},
   "outputs": [],
   "source": []
  }
 ],
 "metadata": {
  "kernelspec": {
   "display_name": "Python 3",
   "language": "python",
   "name": "python3"
  },
  "language_info": {
   "codemirror_mode": {
    "name": "ipython",
    "version": 3
   },
   "file_extension": ".py",
   "mimetype": "text/x-python",
   "name": "python",
   "nbconvert_exporter": "python",
   "pygments_lexer": "ipython3",
   "version": "3.6.4"
  }
 },
 "nbformat": 4,
 "nbformat_minor": 2
}
